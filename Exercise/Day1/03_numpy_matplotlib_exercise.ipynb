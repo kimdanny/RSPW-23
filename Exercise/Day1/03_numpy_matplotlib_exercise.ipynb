{
  "cells": [
    {
      "cell_type": "markdown",
      "metadata": {
        "id": "view-in-github",
        "colab_type": "text"
      },
      "source": [
        "<a href=\"https://colab.research.google.com/github/kimdanny/RSPW-23/blob/main/Exercise/Day1/03_numpy_matplotlib_exercise.ipynb\" target=\"_parent\"><img src=\"https://colab.research.google.com/assets/colab-badge.svg\" alt=\"Open In Colab\"/></a>"
      ]
    },
    {
      "cell_type": "markdown",
      "metadata": {
        "id": "2UvIP2zdmKz2"
      },
      "source": [
        "# Numpy & matplotlib\n",
        "\n",
        "This notebook is modifed from Tim Hillel's (tim.hillel@ucl.ac.uk) material for the UCL Department of Civil, Environmental, and Geomatric Engineering (CEGE) Introduction to Python sessions.\n",
        "\n",
        "Please contact before distributing or reusing the material below.\n",
        "\n",
        "\n",
        "## Overview \n",
        "\n",
        "This notebook will introduce two new Python *libraries*:\n",
        "* Numpy\n",
        "* Matplotlib"
      ]
    },
    {
      "cell_type": "markdown",
      "metadata": {
        "id": "kkBblkhgmKz3"
      },
      "source": [
        "## Numpy\n",
        "\n",
        "Data structures (e.g. `lists` and `dictionaries`) are fine for 1-D data, but what if we have data in two or more dimensions?\n",
        "\n",
        "Many (all?) of you have used Matlab - use arrays!\n",
        "\n",
        "Python has matlab-like array functionality - *numpy*\n",
        "\n",
        "Python has been highlighted as a great programming language in the field of data science because it is easy to learn and is supported by a number of scientific computing libraries. Numpy is one of the vital libraries that deals with mathematical computation and enables users to compute on multi-dimensional data structures more efficiently and easily.\n",
        "\n",
        "Great documentation and tutorials are available for numpy: \n",
        "\n",
        "https://docs.scipy.org/doc/numpy/user/quickstart.html"
      ]
    },
    {
      "cell_type": "markdown",
      "metadata": {
        "id": "12bGhuf_mKz3"
      },
      "source": [
        "### Importing libraries\n",
        "\n",
        "Python is geared towards code reuse, and there is a huge number of libraries you can use to add functionality to Python.\n",
        "\n",
        "Anaconda has the most useful libraries for data science pre-installed, including `numpy`\n",
        "\n",
        "We can import a library using the `import` keyword, e.g.\n",
        "\n",
        "    import numpy\n",
        "    \n",
        "However, we usually give numpy the alias *np* using the keyword `as`"
      ]
    },
    {
      "cell_type": "code",
      "execution_count": null,
      "metadata": {
        "id": "0O-dffzImKz3"
      },
      "outputs": [],
      "source": [
        "import numpy as np"
      ]
    },
    {
      "cell_type": "code",
      "execution_count": null,
      "metadata": {
        "id": "3QcNhBNRmKz4"
      },
      "outputs": [],
      "source": [
        "a = np.array([1, 2, 3, 4]) # create a rank 1 array\n",
        "print(\"Type of a: \", type(a))\n",
        "print(\"Shape of a: \", a.shape)\n",
        "print(\"The first element of a: \", a[0])\n",
        "print(\"The last element of a: \", a[-1])"
      ]
    },
    {
      "cell_type": "markdown",
      "metadata": {
        "id": "PDokYuKbmKz4"
      },
      "source": [
        "### Why NumPy?\n",
        "\n",
        "You might be wondering, why do I need Numpy? Can I not do things the usual way, with for loops? One of the reasons is the SPEED.\n",
        "\n",
        "Let's see an example of the two functions doing the same operation but with and without Numpy."
      ]
    },
    {
      "cell_type": "code",
      "execution_count": null,
      "metadata": {
        "id": "lQcaZQeemKz4"
      },
      "outputs": [],
      "source": [
        "# A library to help us measure how fast our algorithms are\n",
        "import timeit\n",
        "\n",
        "def numpy_method(n):\n",
        "    return np.arange(n) ** 2\n",
        "    \n",
        "def for_loop_method(n):\n",
        "    result = []\n",
        "    for i in range(n):\n",
        "        result.append(i ** 2)\n",
        "        \n",
        "%timeit numpy_method(1000)\n",
        "%timeit for_loop_method(1000)"
      ]
    },
    {
      "cell_type": "markdown",
      "metadata": {
        "id": "FbQOEThKmKz5"
      },
      "source": [
        "NumPy is a lot faster than our for loop method. This shows us the beauty of NumPy - getting the performance of a low-level language (C) with high-level language (Python)."
      ]
    },
    {
      "cell_type": "markdown",
      "metadata": {
        "id": "NvMEvj6LmKz5"
      },
      "source": [
        "### How do you initialise numpy arrays / matrices?\n",
        "\n",
        "You will need to use NumPy's documentation to answer the questions below."
      ]
    },
    {
      "cell_type": "code",
      "execution_count": null,
      "metadata": {
        "id": "rzovkIRNmKz5"
      },
      "outputs": [],
      "source": [
        "# create a matrix full of ones\n",
        "b = np.ones((2, 2))\n",
        "print(\"Matrix b\")\n",
        "print(b)\n",
        "\n",
        "# create a matrix full of zeros\n",
        "c = np.zeros((2, 3))\n",
        "print(\"\\nMatrix c\")\n",
        "print(c)\n",
        "\n",
        "# create an identity matrix\n",
        "d = np.eye(3)\n",
        "print(\"\\nMatrix d\")\n",
        "print(d)\n",
        "\n",
        "# create a matrix filled with random numbers between 0 and 1\n",
        "e = np.random.random((2, 2))\n",
        "print(\"\\nMatrix e\")\n",
        "print(e)\n",
        "\n",
        "# create an array which has 0-9 as its elements in sorted order\n",
        "f = np.arange(10)\n",
        "print(\"\\nMatrix f\")\n",
        "print(f)\n",
        "\n",
        "# create a matrix placeholder, without initializing entries (elements in the matrix).\n",
        "g = np.empty((5, 3))\n",
        "print(\"\\nMatrix g\")\n",
        "print(g)"
      ]
    },
    {
      "cell_type": "markdown",
      "metadata": {
        "id": "_71fsJ-SmKz6"
      },
      "source": [
        "###  Matrix Calculation"
      ]
    },
    {
      "cell_type": "markdown",
      "metadata": {
        "id": "T0pFWpVRmKz6"
      },
      "source": [
        "In machine learning, we will deal with a lot of matrix calculations. It is therefore good for us to get accustomed to some of the common operations we perform on them. Here is a list of the first few:\n",
        "\n",
        "- `np.transpose()` : Transpose of an array\n",
        "- `np.dot(a, b)` : Dot product of two arrays\n",
        "- `np.linalg.inv()` : Inverse matrix of an array (only valid for square matrices, whose dimension is n * n)\n",
        "- `np.diagonal()` : Diagonal components of a two-dimensional array\n",
        "- `a.reshape(row = x, column = y)` : Reshape an array to the given dimension\n",
        "\n",
        "Now let's check what each of them does."
      ]
    },
    {
      "cell_type": "code",
      "execution_count": null,
      "metadata": {
        "id": "_HSilczamKz6"
      },
      "outputs": [],
      "source": [
        "# Initialise the data we will use below\n",
        "x = np.array([\n",
        "    [3, 11, 1],\n",
        "    [7, 5, 2],\n",
        "    [6, 8, 9],\n",
        "    [0, 10, 4]\n",
        "])\n",
        "x"
      ]
    },
    {
      "cell_type": "code",
      "execution_count": null,
      "metadata": {
        "id": "wbi7ZGHNmKz6"
      },
      "outputs": [],
      "source": [
        "# Transpose an array\n",
        "transposed = x.T\n",
        "transposed"
      ]
    },
    {
      "cell_type": "code",
      "execution_count": null,
      "metadata": {
        "id": "vwmz9XYwmKz7"
      },
      "outputs": [],
      "source": [
        "# Dot product of two arrays: original x and x_transposed\n",
        "# (4x3) dot (3x4) should give you (4x4)\n",
        "\n",
        "y = x.dot(x.T)\n",
        "y"
      ]
    },
    {
      "cell_type": "code",
      "execution_count": null,
      "metadata": {
        "id": "z3oqQ6XwmKz7"
      },
      "outputs": [],
      "source": [
        "x"
      ]
    },
    {
      "cell_type": "code",
      "execution_count": null,
      "metadata": {
        "id": "IedCBIHUmKz7"
      },
      "outputs": [],
      "source": [
        "# Element-wise multiplication with 'broadcaster' and 'x'\n",
        "# You will know what we meant by 'broadcast' once you check your result.\n",
        "\n",
        "broadcaster = np.array([\n",
        "    [0],\n",
        "    [1],\n",
        "    [2],\n",
        "    [3]\n",
        "])\n",
        "print(\"broadcaster: \\n{}\\n\".format(broadcaster))\n",
        "\n",
        "elementwise_broadcasting = x * broadcaster\n",
        "print(\"broadcasted: \\n{}\".format(elementwise_broadcasting))"
      ]
    },
    {
      "cell_type": "code",
      "execution_count": null,
      "metadata": {
        "id": "o3e-aha3mKz7"
      },
      "outputs": [],
      "source": [
        "# Extracting the diagonal elements of an array x\n",
        "\n",
        "diagonal = np.diag(x)\n",
        "print(diagonal)"
      ]
    },
    {
      "cell_type": "code",
      "execution_count": null,
      "metadata": {
        "scrolled": true,
        "id": "L9Q24xhkmKz7"
      },
      "outputs": [],
      "source": [
        "# Reshaping an array x to one that has 6 rows and 2 columns\n",
        "\n",
        "reshaped = x.reshape(6, 2)\n",
        "print(reshaped)"
      ]
    },
    {
      "cell_type": "markdown",
      "metadata": {
        "id": "2DLFGKtkmKz7"
      },
      "source": [
        "### Statistics in Numpy"
      ]
    },
    {
      "cell_type": "markdown",
      "metadata": {
        "id": "3qHStDYumKz7"
      },
      "source": [
        "When we deal with large amounts of data, we will often want to know things about the data as a whole. This is where NumPy's statistics come to the rescue. Most of them are self-explanatory:\n",
        "\n",
        "- `np.sum()` : sum of all elements in an array\n",
        "- `np.max()` : returns the maximum element in an array\n",
        "- `np.min()` : Minimum value of an array\n",
        "- `np.mean()` : Mean of elements in an array\n",
        "- `np.median()` : Median value among elements\n",
        "- `np.var()` : Variance of the elements in the array\n",
        "- `np.std()` : Standard deviation of the elements in the array\n",
        "\n",
        "As before, fill in the cells below to get used to these methods."
      ]
    },
    {
      "cell_type": "code",
      "execution_count": null,
      "metadata": {
        "id": "GhKkKR3mmKz7"
      },
      "outputs": [],
      "source": [
        "x = np.array(\n",
        "    [34, 56, 6, 3, 9, 89, 120, 12, 201],\n",
        "    dtype = np.int32\n",
        ")"
      ]
    },
    {
      "cell_type": "code",
      "execution_count": null,
      "metadata": {
        "id": "ZPXF_J0ymKz7"
      },
      "outputs": [],
      "source": [
        "# Summation of elements \n",
        "\n",
        "summation = np.sum(x)\n",
        "print(summation)"
      ]
    },
    {
      "cell_type": "code",
      "execution_count": null,
      "metadata": {
        "id": "U-7CesoAmKz8"
      },
      "outputs": [],
      "source": [
        "# Get Minimum element in the array\n",
        "\n",
        "minimum = np.min(x)\n",
        "print(minimum)"
      ]
    },
    {
      "cell_type": "code",
      "execution_count": null,
      "metadata": {
        "id": "0QkBq9gKmKz8"
      },
      "outputs": [],
      "source": [
        "# Maximum element in the array\n",
        "\n",
        "maximum = np.max(x)\n",
        "print(maximum)"
      ]
    },
    {
      "cell_type": "code",
      "execution_count": null,
      "metadata": {
        "id": "4IdnZYT-mKz8"
      },
      "outputs": [],
      "source": [
        "# Average value of elements in the array\n",
        "\n",
        "mean = np.mean(x)\n",
        "print(mean)"
      ]
    },
    {
      "cell_type": "code",
      "execution_count": null,
      "metadata": {
        "id": "J1mv_NWdmKz8"
      },
      "outputs": [],
      "source": [
        "# Median element in the array\n",
        "\n",
        "median = np.median(x)\n",
        "print(median)"
      ]
    },
    {
      "cell_type": "code",
      "execution_count": null,
      "metadata": {
        "id": "yCTwkrjKmKz8"
      },
      "outputs": [],
      "source": [
        "# Variation of x\n",
        "\n",
        "variation = np.var(x)\n",
        "print(variation)"
      ]
    },
    {
      "cell_type": "code",
      "execution_count": null,
      "metadata": {
        "id": "Psr499NWmKz8"
      },
      "outputs": [],
      "source": [
        "# Standard deviation of the array\n",
        "\n",
        "std = np.std(x)\n",
        "print(std)"
      ]
    },
    {
      "cell_type": "code",
      "execution_count": null,
      "metadata": {
        "id": "PQWHl35fmKz8"
      },
      "outputs": [],
      "source": []
    },
    {
      "cell_type": "markdown",
      "metadata": {
        "id": "BLPd1AegmKz8"
      },
      "source": [
        "### Quick recap: Creating and manipulating arrays\n",
        "\n",
        "Unlike matlab, we need to specifically call `numpy` functions when we are using arrays in python.\n",
        "\n",
        "For example, we can create an array using the `np.array()` function with a list of lists"
      ]
    },
    {
      "cell_type": "code",
      "execution_count": null,
      "metadata": {
        "id": "4x2EtbuAmKz8"
      },
      "outputs": [],
      "source": [
        "np.array([[1,2,3],[3,2,1]])"
      ]
    },
    {
      "cell_type": "markdown",
      "metadata": {
        "id": "GVNJNw6VmKz8"
      },
      "source": [
        "Numpy can also easily create arrays of regular format. Use the `arange` function to create a vector with the numbers 0 to 19, and store it as `a1`"
      ]
    },
    {
      "cell_type": "code",
      "execution_count": null,
      "metadata": {
        "id": "hUBXOKpXmKz8"
      },
      "outputs": [],
      "source": [
        "# create vector a1\n"
      ]
    },
    {
      "cell_type": "markdown",
      "metadata": {
        "id": "jcaN6xCRmKz8"
      },
      "source": [
        "Arrays have lots of methods you can use with them. Use the `reshape` method to turn the array into a 4x5 array, and store it as `a2`. Can you reshape it to 7x3? What happens if you try?"
      ]
    },
    {
      "cell_type": "code",
      "execution_count": null,
      "metadata": {
        "id": "RPLRU88EmKz9"
      },
      "outputs": [],
      "source": [
        "# reshape a1 to 4x5 and store the result in a2\n"
      ]
    },
    {
      "cell_type": "markdown",
      "metadata": {
        "id": "0QYBa7D5mKz9"
      },
      "source": [
        "With any 2D array, we can reshape it with -1 to get it back to a vector. Try reshaping `a2` to a vector (do not store it!)"
      ]
    },
    {
      "cell_type": "code",
      "execution_count": null,
      "metadata": {
        "id": "DKxxSrZjmKz9"
      },
      "outputs": [],
      "source": []
    },
    {
      "cell_type": "markdown",
      "metadata": {
        "id": "8-vVkvmrmKz9"
      },
      "source": [
        "### Indexing arrays\n",
        "\n",
        "Indexing arrays is similar to lists, except now we can specify a row and a column. \n",
        "Get the 2nd value in the 3rd row of `a2`"
      ]
    },
    {
      "cell_type": "code",
      "execution_count": null,
      "metadata": {
        "id": "nOm6hjvXmKz9"
      },
      "outputs": [],
      "source": []
    },
    {
      "cell_type": "markdown",
      "metadata": {
        "id": "Zyua0yrYmKz9"
      },
      "source": [
        "We can also slice arrays. Try extracting (from a2):\n",
        "* the 2nd row of the array `[5, 6, 7, 8, 9]`\n",
        "* the 3rd column of the array `[2, 7, 12, 17]`\n",
        "* the top-right 2x3 sub-array `[[3, 4], [8, 9] [13, 14]]`\n",
        "\n",
        "*Hint*: remember the `:` can be used to select all values in a row or column"
      ]
    },
    {
      "cell_type": "code",
      "execution_count": null,
      "metadata": {
        "id": "mB-DrWyymKz9"
      },
      "outputs": [],
      "source": []
    },
    {
      "cell_type": "markdown",
      "metadata": {
        "id": "bcDlLwjgmKz9"
      },
      "source": [
        "### Attributes and methods\n",
        "\n",
        "Arrays have a datatype, which we can check with the `dtype` *attribute*. Note, as it is an attribute, we do not call it!"
      ]
    },
    {
      "cell_type": "code",
      "execution_count": null,
      "metadata": {
        "id": "gnueSSJEmKz9"
      },
      "outputs": [],
      "source": [
        "a2.dtype"
      ]
    },
    {
      "cell_type": "markdown",
      "metadata": {
        "id": "ruvRlk1TmKz9"
      },
      "source": [
        "Try dividing the array by two and storing it as a3, and then checking the dtype"
      ]
    },
    {
      "cell_type": "code",
      "execution_count": null,
      "metadata": {
        "id": "8-6hX9JMmKz9"
      },
      "outputs": [],
      "source": []
    },
    {
      "cell_type": "markdown",
      "metadata": {
        "id": "TiUSaJQBmKz9"
      },
      "source": [
        "Numpy arrays have several attributes and methods. Try checking the a3's `shape`. What about the `max` value? How about the index of the max value?"
      ]
    },
    {
      "cell_type": "code",
      "execution_count": null,
      "metadata": {
        "id": "eiUYuRljmKz9"
      },
      "outputs": [],
      "source": []
    },
    {
      "cell_type": "markdown",
      "metadata": {
        "id": "buPtu1kRmKz9"
      },
      "source": [
        "### Random numbers\n",
        "\n",
        "We can also use numpy to generate (pseudo) random numbers, using the `random` submodule. \n",
        "\n",
        "When generating random numbers, it is a good idea to set the `seed`, so that we can generate the same numbers when we repeat our experiments."
      ]
    },
    {
      "cell_type": "code",
      "execution_count": null,
      "metadata": {
        "id": "jh0uxU7dmKz9"
      },
      "outputs": [],
      "source": [
        "np.random.seed(42)"
      ]
    },
    {
      "cell_type": "markdown",
      "metadata": {
        "id": "h0BnYZZ2mKz-"
      },
      "source": [
        "Create an array of uniform random floats the same shape as a3, between -2 and 2, using the `rand` method in the random submodule. Call it a4"
      ]
    },
    {
      "cell_type": "code",
      "execution_count": null,
      "metadata": {
        "id": "OAw9YFbTmKz-"
      },
      "outputs": [],
      "source": [
        "np.random.seed(42)\n",
        "# create a4\n"
      ]
    },
    {
      "cell_type": "markdown",
      "metadata": {
        "id": "0Ntq_EjAmKz-"
      },
      "source": [
        "Try calculating the mean and variance (using `sum` and `size`)\n",
        "\n",
        "Compare the answers you get to using the `mean` and `var` methods"
      ]
    },
    {
      "cell_type": "code",
      "execution_count": null,
      "metadata": {
        "id": "e5zrWiC_mKz-"
      },
      "outputs": [],
      "source": []
    },
    {
      "cell_type": "markdown",
      "metadata": {
        "id": "9mL8jnSKmKz-"
      },
      "source": [
        "### Boolean arrays and indexing\n",
        "\n",
        "We can use boolean conditions, e.g. `==` (is equal to) and `=<` (is equal to or greater than) on arrays to create boolean arrays.\n",
        "\n",
        "Try creating a boolean array of all the values larger than 1 in `a4`"
      ]
    },
    {
      "cell_type": "code",
      "execution_count": null,
      "metadata": {
        "id": "dW-hwA5QmKz-"
      },
      "outputs": [],
      "source": []
    },
    {
      "cell_type": "markdown",
      "metadata": {
        "id": "Hl3YkW_4mKz-"
      },
      "source": [
        "A boolean array can be used a *mask*, which extracts only the elements with a true value, as follows:\n",
        "    \n",
        "    <array>[<boolean_mask>]\n",
        "    \n",
        "Try extracting all of the values in a4 smaller than -1"
      ]
    },
    {
      "cell_type": "code",
      "execution_count": null,
      "metadata": {
        "id": "Fssy8a5LmKz-"
      },
      "outputs": [],
      "source": []
    },
    {
      "cell_type": "markdown",
      "metadata": {
        "id": "oUjQEWGQmKz-"
      },
      "source": [
        "## Plotting\n",
        "\n",
        "As with `numpy`, python borrows its primary plotting interface from matlab.\n",
        "\n",
        "The main library for plotting in python is `matplotlib`. Matplotlib has multiple interfaces, the most commonly used is the `pyplot` interface. We normally give it the alias `plt`"
      ]
    },
    {
      "cell_type": "code",
      "execution_count": null,
      "metadata": {
        "id": "aODsWXz8mKz-"
      },
      "outputs": [],
      "source": [
        "import matplotlib.pyplot as plt"
      ]
    },
    {
      "cell_type": "markdown",
      "metadata": {
        "id": "98iyQadbmKz-"
      },
      "source": [
        "We can generate a plot with `plt.plot()`. Try plotting the array `a4` and see what happens. Can you explain the plot?"
      ]
    },
    {
      "cell_type": "code",
      "execution_count": null,
      "metadata": {
        "id": "Nm9Q5Ao5mKz-"
      },
      "outputs": [],
      "source": []
    },
    {
      "cell_type": "code",
      "execution_count": null,
      "metadata": {
        "id": "sRxH5HaqmKz-"
      },
      "outputs": [],
      "source": [
        "a5 = np.array([[1, 2, 3, 4],\n",
        "              [5, 6, 7, 8]])"
      ]
    },
    {
      "cell_type": "markdown",
      "metadata": {
        "id": "W16Tmzx1mKz_"
      },
      "source": [
        "Plot two lines ( [1, 2, 3, 4] and [5, 6, 7, 8] )"
      ]
    },
    {
      "cell_type": "code",
      "execution_count": null,
      "metadata": {
        "id": "gc7k84NImKz_"
      },
      "outputs": [],
      "source": []
    },
    {
      "cell_type": "markdown",
      "metadata": {
        "id": "x57ElFkZmKz_"
      },
      "source": [
        "Try adding a3 and a4 and plotting all of the data as a single line. Remember we can *reshape* a 2D array into a vector"
      ]
    },
    {
      "cell_type": "code",
      "execution_count": null,
      "metadata": {
        "id": "Ock7IJszmKz_"
      },
      "outputs": [],
      "source": []
    },
    {
      "cell_type": "markdown",
      "metadata": {
        "id": "URZwlpuZmKz_"
      },
      "source": [
        "## Exercise\n",
        "\n",
        "You will need to use the matplotlib documentation to achieve this! Feel free to work together and ask for help!\n",
        "\n",
        "You are going to try and recreate the following plot:\n",
        "\n",
        "![](https://github.com/kimdanny/RSPW-23/blob/main/data/day2-example-plot.jpg?raw=true)\n",
        "\n",
        "* Use the numpy random module to generate a 2x500 array of normally distributed numbers with mean 10 and standard deviation 20. Use the random seed 404 to generate the random points\n",
        "* Plot the data as a 2D scatter plot (so that each column represents one data point x, y, z). Use orange crosses for the data points. Add the label 'data' to the points\n",
        "* Add the mean to the plot as a large blue dot. Add the label 'mean' to the plot.\n",
        "* Label the axis 'x' and 'y'.\n",
        "* Add a legend\n",
        "* Save the plot as normal_scatter.jpeg"
      ]
    },
    {
      "cell_type": "markdown",
      "metadata": {
        "id": "AXF8kg0QmKz_"
      },
      "source": [
        "### Want to learn more?\n",
        "Helpful websites for your further study of NumPy:\n",
        "- [A Visual Intro to NumPy and Data Representation](https://jalammar.github.io/visual-numpy/?fbclid=IwAR2MT-imY4dKpUcfHWfjdPOROUBadObVO7Wftf1detHWZCxSwNeA5paVI08)\n",
        "- [Stanford CS231n Python Numpy Tutorial](http://cs231n.github.io/python-numpy-tutorial/)\n",
        "- [DataCamp Python Numpy Array Tutorial](https://www.datacamp.com/community/tutorials/python-numpy-tutorial)\n",
        "- [Machine Learning Plus 101 Numpy Exercises for Data Analysis (Python)](https://www.machinelearningplus.com/python/101-numpy-exercises-python/)"
      ]
    },
    {
      "cell_type": "markdown",
      "metadata": {
        "id": "k3QDQht8mKz_"
      },
      "source": [
        "Also checkout https://github.com/UCLAIS/Machine-Learning-Tutorials/blob/master/notebooks/Session01-Matplotlib-Solution.ipynb\n",
        "for advanced Matplotlib!"
      ]
    },
    {
      "cell_type": "code",
      "execution_count": null,
      "metadata": {
        "id": "rHkf554amKz_"
      },
      "outputs": [],
      "source": []
    }
  ],
  "metadata": {
    "kernelspec": {
      "display_name": "Python 3 (ipykernel)",
      "language": "python",
      "name": "python3"
    },
    "language_info": {
      "codemirror_mode": {
        "name": "ipython",
        "version": 3
      },
      "file_extension": ".py",
      "mimetype": "text/x-python",
      "name": "python",
      "nbconvert_exporter": "python",
      "pygments_lexer": "ipython3",
      "version": "3.8.13"
    },
    "vscode": {
      "interpreter": {
        "hash": "b76fd85120666f0bd55f9d97940fbf0e5470387377d9c5f936b61d77d81d2f47"
      }
    },
    "colab": {
      "provenance": [],
      "include_colab_link": true
    }
  },
  "nbformat": 4,
  "nbformat_minor": 0
}