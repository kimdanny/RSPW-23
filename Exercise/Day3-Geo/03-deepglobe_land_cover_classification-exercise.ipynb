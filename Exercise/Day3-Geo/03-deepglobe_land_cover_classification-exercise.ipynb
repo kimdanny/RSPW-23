{
 "cells": [
  {
   "cell_type": "markdown",
   "metadata": {
    "colab_type": "text",
    "id": "view-in-github"
   },
   "source": [
    "<a href=\"https://colab.research.google.com/github/kimdanny/COMP0189-practical/blob/main/Week-06/deepglobe_land_cover_classification.ipynb\" target=\"_parent\"><img src=\"https://colab.research.google.com/assets/colab-badge.svg\" alt=\"Open In Colab\"/></a>"
   ]
  },
  {
   "cell_type": "markdown",
   "metadata": {
    "id": "B_IlD1eeQItn",
    "papermill": {
     "duration": 0.024489,
     "end_time": "2020-11-11T04:19:40.496749",
     "exception": false,
     "start_time": "2020-11-11T04:19:40.472260",
     "status": "completed"
    },
    "tags": []
   },
   "source": [
    "\n",
    "# Day 3 - Geospatial Engineering\n",
    "## DeepGlobe Land Cover Classification\n",
    "\n",
    "**Recommended to run on Colab**\n",
    "\n",
    "### Aim  \n",
    "In this notebook we use [DeepLabV3+](https://arxiv.org/abs/1802.02611) for Land Cover Classfication from Satellite Imagery using DeepGlobe Land Cover Classification Dataset\n"
   ]
  },
  {
   "cell_type": "markdown",
   "metadata": {
    "id": "TfbTqV1tQIto",
    "papermill": {
     "duration": 0.022878,
     "end_time": "2020-11-11T04:19:40.542961",
     "exception": false,
     "start_time": "2020-11-11T04:19:40.520083",
     "status": "completed"
    },
    "tags": []
   },
   "source": [
    "### Libraries 📚⬇"
   ]
  },
  {
   "cell_type": "code",
   "execution_count": null,
   "metadata": {
    "colab": {
     "base_uri": "https://localhost:8080/"
    },
    "id": "NZZjQKj93uQA",
    "outputId": "1fcbcc24-d116-4de2-b39d-b9617ce6cb0c"
   },
   "outputs": [],
   "source": [
    "!pip install segmentation-models-pytorch==0.2.0\n",
    "!pip install opencv-python\n",
    "!pip install albumentations"
   ]
  },
  {
   "cell_type": "code",
   "execution_count": null,
   "metadata": {
    "_cell_guid": "79c7e3d0-c299-4dcb-8224-4455121ee9b0",
    "_uuid": "d629ff2d2480ee46fbb7e2d37f6b5fab8052498a",
    "execution": {
     "iopub.execute_input": "2020-11-11T04:19:40.598993Z",
     "iopub.status.busy": "2020-11-11T04:19:40.598327Z",
     "iopub.status.idle": "2020-11-11T04:19:43.727682Z",
     "shell.execute_reply": "2020-11-11T04:19:43.726567Z"
    },
    "id": "Cd_Q_EbIQItp",
    "papermill": {
     "duration": 3.161749,
     "end_time": "2020-11-11T04:19:43.727814",
     "exception": false,
     "start_time": "2020-11-11T04:19:40.566065",
     "status": "completed"
    },
    "tags": []
   },
   "outputs": [],
   "source": [
    "import os, cv2\n",
    "import numpy as np\n",
    "import pandas as pd\n",
    "import random, tqdm\n",
    "import seaborn as sns\n",
    "import matplotlib.pyplot as plt\n",
    "%matplotlib inline\n",
    "\n",
    "import warnings\n",
    "warnings.filterwarnings(\"ignore\")\n",
    "\n",
    "import torch\n",
    "import torch.nn as nn\n",
    "from torch.utils.data import DataLoader\n",
    "import albumentations as album"
   ]
  },
  {
   "cell_type": "code",
   "execution_count": null,
   "metadata": {
    "execution": {
     "iopub.execute_input": "2020-11-11T04:19:43.781230Z",
     "iopub.status.busy": "2020-11-11T04:19:43.780452Z",
     "iopub.status.idle": "2020-11-11T04:20:00.661333Z",
     "shell.execute_reply": "2020-11-11T04:20:00.660741Z"
    },
    "id": "pB2TsGb-QItq",
    "papermill": {
     "duration": 16.909556,
     "end_time": "2020-11-11T04:20:00.661450",
     "exception": false,
     "start_time": "2020-11-11T04:19:43.751894",
     "status": "completed"
    },
    "tags": []
   },
   "outputs": [],
   "source": [
    "import segmentation_models_pytorch as smp"
   ]
  },
  {
   "cell_type": "code",
   "execution_count": null,
   "metadata": {
    "colab": {
     "base_uri": "https://localhost:8080/"
    },
    "id": "CqGHSsB4om4b",
    "outputId": "9e5ec345-c9b2-48ee-ebe9-e7020de01da7"
   },
   "outputs": [],
   "source": [
    "# Getting dataset's metadata\n",
    "! wget https://raw.githubusercontent.com/kimdanny/COMP0189-practical/main/data/class_dict.csv\n",
    "! wget https://raw.githubusercontent.com/kimdanny/COMP0189-practical/main/data/metadata.csv"
   ]
  },
  {
   "cell_type": "code",
   "execution_count": null,
   "metadata": {
    "colab": {
     "base_uri": "https://localhost:8080/"
    },
    "id": "AeRyCVvTm6ZM",
    "outputId": "9b9eb787-8d63-4a4f-bd00-c784a3451221"
   },
   "outputs": [],
   "source": [
    "# Downloading dataset\n",
    "! wget https://competitions.codalab.org/my/datasets/download/b6def20d-34c5-4871-8d9d-d97075179ea0 -O land-train.zip\n",
    "! wget https://competitions.codalab.org/my/datasets/download/dfb325b3-4e9c-43c0-93b3-036eec5fa773 -O land_valid_sat.zip \n",
    "! wget https://competitions.codalab.org/my/datasets/download/61ac1b46-9bd3-4694-810f-ffd08a7f832a -O land_test_sat.zip "
   ]
  },
  {
   "cell_type": "code",
   "execution_count": null,
   "metadata": {
    "id": "8cFThp64obH4"
   },
   "outputs": [],
   "source": [
    "! unzip -qq land-train.zip\n",
    "! mv land-train train\n",
    "! unzip -qq land_valid_sat.zip -d valid\n",
    "! unzip -qq land_test_sat.zip -d test"
   ]
  },
  {
   "cell_type": "markdown",
   "metadata": {
    "id": "1JuDPChTQItq",
    "papermill": {
     "duration": 0.023301,
     "end_time": "2020-11-11T04:20:00.708750",
     "exception": false,
     "start_time": "2020-11-11T04:20:00.685449",
     "status": "completed"
    },
    "tags": []
   },
   "source": [
    "### Read Data & Create train / valid splits 📁"
   ]
  },
  {
   "cell_type": "code",
   "execution_count": null,
   "metadata": {
    "colab": {
     "base_uri": "https://localhost:8080/"
    },
    "execution": {
     "iopub.execute_input": "2020-11-11T04:20:00.768015Z",
     "iopub.status.busy": "2020-11-11T04:20:00.767115Z",
     "iopub.status.idle": "2020-11-11T04:20:00.796084Z",
     "shell.execute_reply": "2020-11-11T04:20:00.796568Z"
    },
    "id": "ogMMvJUBQItr",
    "outputId": "a0e35f52-117b-46bc-a0b1-d8af7d0a4aea",
    "papermill": {
     "duration": 0.064492,
     "end_time": "2020-11-11T04:20:00.796691",
     "exception": false,
     "start_time": "2020-11-11T04:20:00.732199",
     "status": "completed"
    },
    "tags": []
   },
   "outputs": [],
   "source": [
    "DATA_DIR = ''\n",
    "\n",
    "metadata_df = pd.read_csv(os.path.join(DATA_DIR, 'metadata.csv'))\n",
    "metadata_df = metadata_df[metadata_df['split']=='train']\n",
    "metadata_df = metadata_df[['image_id', 'sat_image_path', 'mask_path']]\n",
    "metadata_df['sat_image_path'] = metadata_df['sat_image_path'].apply(lambda img_pth: os.path.join(DATA_DIR, img_pth))\n",
    "metadata_df['mask_path'] = metadata_df['mask_path'].apply(lambda img_pth: os.path.join(DATA_DIR, img_pth))\n",
    "# Shuffle DataFrame\n",
    "metadata_df = metadata_df.sample(frac=1).reset_index(drop=True)\n",
    "\n",
    "# Perform 90/10 split for train / val\n",
    "valid_df = metadata_df.sample(frac=0.1, random_state=42)\n",
    "train_df = metadata_df.drop(valid_df.index)\n",
    "len(train_df), len(valid_df)"
   ]
  },
  {
   "cell_type": "code",
   "execution_count": null,
   "metadata": {
    "colab": {
     "base_uri": "https://localhost:8080/"
    },
    "execution": {
     "iopub.execute_input": "2020-11-11T04:20:00.852070Z",
     "iopub.status.busy": "2020-11-11T04:20:00.851216Z",
     "iopub.status.idle": "2020-11-11T04:20:00.860652Z",
     "shell.execute_reply": "2020-11-11T04:20:00.859981Z"
    },
    "id": "PrS7OOwqQIts",
    "outputId": "1e66ddf6-1c0a-4b3e-82bb-50e576fd3165",
    "papermill": {
     "duration": 0.03956,
     "end_time": "2020-11-11T04:20:00.860779",
     "exception": false,
     "start_time": "2020-11-11T04:20:00.821219",
     "status": "completed"
    },
    "tags": []
   },
   "outputs": [],
   "source": [
    "class_dict = pd.read_csv(os.path.join(DATA_DIR, 'class_dict.csv'))\n",
    "# Get class names\n",
    "class_names = class_dict['name'].tolist()\n",
    "# Get class RGB values\n",
    "class_rgb_values = class_dict[['r','g','b']].values.tolist()\n",
    "\n",
    "print('All dataset classes and their corresponding RGB values in labels:')\n",
    "print('Class Names: ', class_names)\n",
    "print('Class RGB values: ', class_rgb_values)"
   ]
  },
  {
   "cell_type": "markdown",
   "metadata": {
    "id": "u_eVnHo2QIts",
    "papermill": {
     "duration": 0.024557,
     "end_time": "2020-11-11T04:20:00.910401",
     "exception": false,
     "start_time": "2020-11-11T04:20:00.885844",
     "status": "completed"
    },
    "tags": []
   },
   "source": [
    "#### Shortlist specific classes to segment"
   ]
  },
  {
   "cell_type": "code",
   "execution_count": null,
   "metadata": {
    "colab": {
     "base_uri": "https://localhost:8080/"
    },
    "execution": {
     "iopub.execute_input": "2020-11-11T04:20:00.966519Z",
     "iopub.status.busy": "2020-11-11T04:20:00.965617Z",
     "iopub.status.idle": "2020-11-11T04:20:00.970796Z",
     "shell.execute_reply": "2020-11-11T04:20:00.970160Z"
    },
    "id": "K55PxIauQItt",
    "outputId": "c63039ca-5d51-4f41-ba9b-ef7402e91cae",
    "papermill": {
     "duration": 0.036145,
     "end_time": "2020-11-11T04:20:00.970921",
     "exception": false,
     "start_time": "2020-11-11T04:20:00.934776",
     "status": "completed"
    },
    "tags": []
   },
   "outputs": [],
   "source": [
    "# Useful to shortlist specific classes in datasets with large number of classes\n",
    "select_classes = ['urban_land', 'agriculture_land', 'rangeland', 'forest_land', 'water', 'barren_land', 'unknown']\n",
    "\n",
    "# Get RGB values of required classes\n",
    "select_class_indices = [class_names.index(cls.lower()) for cls in select_classes]\n",
    "select_class_rgb_values =  np.array(class_rgb_values)[select_class_indices]\n",
    "\n",
    "print('Selected classes and their corresponding RGB values in labels:')\n",
    "print('Class Names: ', class_names)\n",
    "print('Class RGB values: ', class_rgb_values)"
   ]
  },
  {
   "cell_type": "markdown",
   "metadata": {
    "id": "cdGCpfjsQItt",
    "papermill": {
     "duration": 0.024734,
     "end_time": "2020-11-11T04:20:01.021071",
     "exception": false,
     "start_time": "2020-11-11T04:20:00.996337",
     "status": "completed"
    },
    "tags": []
   },
   "source": [
    "### Helper functions for viz. & one-hot encoding/decoding"
   ]
  },
  {
   "cell_type": "code",
   "execution_count": null,
   "metadata": {
    "execution": {
     "iopub.execute_input": "2020-11-11T04:20:01.080389Z",
     "iopub.status.busy": "2020-11-11T04:20:01.079533Z",
     "iopub.status.idle": "2020-11-11T04:20:01.088228Z",
     "shell.execute_reply": "2020-11-11T04:20:01.087750Z"
    },
    "id": "59bU68D0QItt",
    "papermill": {
     "duration": 0.042035,
     "end_time": "2020-11-11T04:20:01.088327",
     "exception": false,
     "start_time": "2020-11-11T04:20:01.046292",
     "status": "completed"
    },
    "tags": []
   },
   "outputs": [],
   "source": [
    "# helper function for data visualization\n",
    "def visualize(**images):\n",
    "    \"\"\"\n",
    "    Plot images in one row\n",
    "    \"\"\"\n",
    "    n_images = len(images)\n",
    "    plt.figure(figsize=(20,8))\n",
    "    for idx, (name, image) in enumerate(images.items()):\n",
    "        plt.subplot(1, n_images, idx + 1)\n",
    "        plt.xticks([]); \n",
    "        plt.yticks([])\n",
    "        # get title from the parameter names\n",
    "        plt.title(name.replace('_',' ').title(), fontsize=20)\n",
    "        plt.imshow(image)\n",
    "    plt.show()\n",
    "\n",
    "# Perform one hot encoding on label\n",
    "def one_hot_encode(label, label_values):\n",
    "    \"\"\"\n",
    "    Convert a segmentation image label array to one-hot format\n",
    "    by replacing each pixel value with a vector of length num_classes\n",
    "    # Arguments\n",
    "        label: The 2D array segmentation image label\n",
    "        label_values\n",
    "        \n",
    "    # Returns\n",
    "        A 2D array with the same width and hieght as the input, but\n",
    "        with a depth size of num_classes\n",
    "    \"\"\"\n",
    "    semantic_map = []\n",
    "    for colour in label_values:\n",
    "        equality = np.equal(label, colour)\n",
    "        class_map = np.all(equality, axis = -1)\n",
    "        semantic_map.append(class_map)\n",
    "    semantic_map = np.stack(semantic_map, axis=-1)\n",
    "\n",
    "    return semantic_map\n",
    "    \n",
    "# Perform reverse one-hot-encoding on labels / preds\n",
    "def reverse_one_hot(image):\n",
    "    \"\"\"\n",
    "    Transform a 2D array in one-hot format (depth is num_classes),\n",
    "    to a 2D array with only 1 channel, where each pixel value is\n",
    "    the classified class key.\n",
    "    # Arguments\n",
    "        image: The one-hot format image \n",
    "        \n",
    "    # Returns\n",
    "        A 2D array with the same width and hieght as the input, but\n",
    "        with a depth size of 1, where each pixel value is the classified \n",
    "        class key.\n",
    "    \"\"\"\n",
    "    x = np.argmax(image, axis = -1)\n",
    "    return x\n",
    "\n",
    "# Perform colour coding on the reverse-one-hot outputs\n",
    "def colour_code_segmentation(image, label_values):\n",
    "    \"\"\"\n",
    "    Given a 1-channel array of class keys, colour code the segmentation results.\n",
    "    # Arguments\n",
    "        image: single channel array where each value represents the class key.\n",
    "        label_values\n",
    "\n",
    "    # Returns\n",
    "        Colour coded image for segmentation visualization\n",
    "    \"\"\"\n",
    "    colour_codes = np.array(label_values)\n",
    "    x = colour_codes[image.astype(int)]\n",
    "\n",
    "    return x"
   ]
  },
  {
   "cell_type": "markdown",
   "metadata": {
    "id": "714IWFiotSka"
   },
   "source": [
    "## Custom Dataset class"
   ]
  },
  {
   "cell_type": "code",
   "execution_count": null,
   "metadata": {
    "execution": {
     "iopub.execute_input": "2020-11-11T04:20:01.142187Z",
     "iopub.status.busy": "2020-11-11T04:20:01.141334Z",
     "iopub.status.idle": "2020-11-11T04:20:01.153771Z",
     "shell.execute_reply": "2020-11-11T04:20:01.154347Z"
    },
    "id": "N2Zf_hGOQItu",
    "papermill": {
     "duration": 0.041149,
     "end_time": "2020-11-11T04:20:01.154457",
     "exception": false,
     "start_time": "2020-11-11T04:20:01.113308",
     "status": "completed"
    },
    "tags": []
   },
   "outputs": [],
   "source": [
    "class LandCoverDataset(torch.utils.data.Dataset):\n",
    "\n",
    "    \"\"\"DeepGlobe Land Cover Classification Challenge Dataset. Read images, apply augmentation and preprocessing transformations.\n",
    "    \n",
    "    Args:\n",
    "        df (str): DataFrame containing images / labels paths\n",
    "        class_rgb_values (list): RGB values of select classes to extract from segmentation mask\n",
    "        augmentation (albumentations.Compose): data transfromation pipeline \n",
    "            (e.g. flip, scale, etc.)\n",
    "        preprocessing (albumentations.Compose): data preprocessing \n",
    "            (e.g. noralization, shape manipulation, etc.)\n",
    "    \n",
    "    \"\"\"\n",
    "    def __init__(\n",
    "            self, \n",
    "            df,\n",
    "            class_rgb_values=None, \n",
    "            augmentation=None, \n",
    "            preprocessing=None,\n",
    "    ):\n",
    "        self.image_paths = df['sat_image_path'].tolist()\n",
    "        self.mask_paths = df['mask_path'].tolist()\n",
    "        \n",
    "        self.class_rgb_values = class_rgb_values\n",
    "        self.augmentation = augmentation\n",
    "        self.preprocessing = preprocessing\n",
    "    \n",
    "    def __getitem__(self, i):\n",
    "        \n",
    "        # read images and masks\n",
    "        image = cv2.cvtColor(cv2.imread(self.image_paths[i]), cv2.COLOR_BGR2RGB)\n",
    "        mask = cv2.cvtColor(cv2.imread(self.mask_paths[i]), cv2.COLOR_BGR2RGB)\n",
    "        \n",
    "        # one-hot-encode the mask\n",
    "        mask = one_hot_encode(mask, self.class_rgb_values).astype('float')\n",
    "        \n",
    "        # apply augmentations\n",
    "        if self.augmentation:\n",
    "            sample = self.augmentation(image=image, mask=mask)\n",
    "            image, mask = sample['image'], sample['mask']\n",
    "        \n",
    "        # apply preprocessing\n",
    "        if self.preprocessing:\n",
    "            sample = self.preprocessing(image=image, mask=mask)\n",
    "            image, mask = sample['image'], sample['mask']\n",
    "            \n",
    "        return image, mask\n",
    "        \n",
    "    def __len__(self):\n",
    "        # return length of \n",
    "        return len(self.image_paths)"
   ]
  },
  {
   "cell_type": "markdown",
   "metadata": {
    "id": "N2ld70i2QItv",
    "papermill": {
     "duration": 0.0248,
     "end_time": "2020-11-11T04:20:01.204614",
     "exception": false,
     "start_time": "2020-11-11T04:20:01.179814",
     "status": "completed"
    },
    "tags": []
   },
   "source": [
    "#### Visualize Sample Image and Mask 📈"
   ]
  },
  {
   "cell_type": "code",
   "execution_count": null,
   "metadata": {
    "execution": {
     "iopub.execute_input": "2020-11-11T04:20:01.262566Z",
     "iopub.status.busy": "2020-11-11T04:20:01.261449Z",
     "iopub.status.idle": "2020-11-11T04:20:04.972786Z",
     "shell.execute_reply": "2020-11-11T04:20:04.972272Z"
    },
    "id": "EBC4RuDuQItv",
    "papermill": {
     "duration": 3.743046,
     "end_time": "2020-11-11T04:20:04.972888",
     "exception": false,
     "start_time": "2020-11-11T04:20:01.229842",
     "status": "completed"
    },
    "tags": []
   },
   "outputs": [],
   "source": [
    "dataset = LandCoverDataset(train_df, class_rgb_values=select_class_rgb_values)\n",
    "random_idx = random.randint(0, len(dataset)-1)\n",
    "image, mask = dataset[2]\n",
    "\n",
    "visualize(\n",
    "    original_image = image,\n",
    "    ground_truth_mask = colour_code_segmentation(reverse_one_hot(mask), select_class_rgb_values),\n",
    "    one_hot_encoded_mask = reverse_one_hot(mask)\n",
    ")"
   ]
  },
  {
   "cell_type": "markdown",
   "metadata": {
    "id": "13lJ1tyTQItw",
    "papermill": {
     "duration": 0.031599,
     "end_time": "2020-11-11T04:20:05.037746",
     "exception": false,
     "start_time": "2020-11-11T04:20:05.006147",
     "status": "completed"
    },
    "tags": []
   },
   "source": [
    "### Defining Augmentation and preprocessing pipeline for data loader"
   ]
  },
  {
   "cell_type": "code",
   "execution_count": null,
   "metadata": {
    "execution": {
     "iopub.execute_input": "2020-11-11T04:20:05.112791Z",
     "iopub.status.busy": "2020-11-11T04:20:05.111981Z",
     "iopub.status.idle": "2020-11-11T04:20:05.115075Z",
     "shell.execute_reply": "2020-11-11T04:20:05.114478Z"
    },
    "id": "VQQlWcOtQItw",
    "papermill": {
     "duration": 0.045522,
     "end_time": "2020-11-11T04:20:05.115181",
     "exception": false,
     "start_time": "2020-11-11T04:20:05.069659",
     "status": "completed"
    },
    "tags": []
   },
   "outputs": [],
   "source": [
    "def get_training_augmentation():\n",
    "    train_transform = [\n",
    "        album.RandomCrop(height=1024, width=1024, always_apply=True),\n",
    "        album.HorizontalFlip(p=0.5),\n",
    "        album.VerticalFlip(p=0.5),\n",
    "    ]\n",
    "    return album.Compose(train_transform)\n",
    "\n",
    "\n",
    "def get_validation_augmentation():\n",
    "    train_transform = [\n",
    "        album.CenterCrop(height=1024, width=1024, always_apply=True),\n",
    "    ]\n",
    "    return album.Compose(train_transform)\n",
    "\n",
    "\n",
    "def get_training_no_augmentation():\n",
    "    train_transform = [\n",
    "        album.CenterCrop(height=1024, width=1024, always_apply=True),\n",
    "    ]\n",
    "    return album.Compose(train_transform)\n",
    "\n",
    "\n",
    "def to_tensor(x, **kwargs):\n",
    "    return x.transpose(2, 0, 1).astype('float32')\n",
    "\n",
    "\n",
    "def get_preprocessing(preprocessing_fn=None):\n",
    "    \"\"\"Construct preprocessing transform    \n",
    "    Args:\n",
    "        preprocessing_fn (callable): data normalization function \n",
    "            (can be specific for each pretrained neural network)\n",
    "    Return:\n",
    "        transform: albumentations.Compose\n",
    "    \"\"\"\n",
    "    _transform = []\n",
    "    if preprocessing_fn:\n",
    "        _transform.append(album.Lambda(image=preprocessing_fn))\n",
    "    _transform.append(album.Lambda(image=to_tensor, mask=to_tensor))\n",
    "        \n",
    "    return album.Compose(_transform)"
   ]
  },
  {
   "cell_type": "markdown",
   "metadata": {
    "id": "MhkhbBjgQItx",
    "papermill": {
     "duration": 0.03172,
     "end_time": "2020-11-11T04:20:05.179602",
     "exception": false,
     "start_time": "2020-11-11T04:20:05.147882",
     "status": "completed"
    },
    "tags": []
   },
   "source": [
    "#### Visualize Augmented Images & Masks"
   ]
  },
  {
   "cell_type": "code",
   "execution_count": null,
   "metadata": {
    "colab": {
     "base_uri": "https://localhost:8080/",
     "height": 1000
    },
    "execution": {
     "iopub.execute_input": "2020-11-11T04:20:05.250381Z",
     "iopub.status.busy": "2020-11-11T04:20:05.249704Z",
     "iopub.status.idle": "2020-11-11T04:20:11.456620Z",
     "shell.execute_reply": "2020-11-11T04:20:11.457108Z"
    },
    "id": "eiKMEI5DQIty",
    "outputId": "9b9285cc-04fb-45e6-b4b6-9c60ebc148fe",
    "papermill": {
     "duration": 6.245534,
     "end_time": "2020-11-11T04:20:11.457241",
     "exception": false,
     "start_time": "2020-11-11T04:20:05.211707",
     "status": "completed"
    },
    "tags": []
   },
   "outputs": [],
   "source": [
    "augmented_dataset = LandCoverDataset(\n",
    "    train_df, \n",
    "    augmentation=get_training_augmentation(),\n",
    "    class_rgb_values=select_class_rgb_values,\n",
    ")\n",
    "\n",
    "random_idx = random.randint(0, len(augmented_dataset)-1)\n",
    "\n",
    "# Different augmentations on image/mask pairs\n",
    "for idx in range(3):\n",
    "    image, mask = augmented_dataset[idx]\n",
    "    visualize(\n",
    "        original_image = image,\n",
    "        ground_truth_mask = colour_code_segmentation(reverse_one_hot(mask), select_class_rgb_values),\n",
    "        one_hot_encoded_mask = reverse_one_hot(mask)\n",
    "    )"
   ]
  },
  {
   "cell_type": "markdown",
   "metadata": {
    "id": "EEU8DKdFQIty",
    "papermill": {
     "duration": 0.05496,
     "end_time": "2020-11-11T04:20:11.565134",
     "exception": false,
     "start_time": "2020-11-11T04:20:11.510174",
     "status": "completed"
    },
    "tags": []
   },
   "source": [
    "## Training DeepLabV3+"
   ]
  },
  {
   "cell_type": "markdown",
   "metadata": {
    "id": "ilpipslUQIty",
    "papermill": {
     "duration": 0.050481,
     "end_time": "2020-11-11T04:20:11.668665",
     "exception": false,
     "start_time": "2020-11-11T04:20:11.618184",
     "status": "completed"
    },
    "tags": []
   },
   "source": [
    "<h3><center>DeepLabV3+ Model Architecture</center></h3>\n",
    "<img src=\"https://miro.medium.com/max/1000/1*2mYfKnsX1IqCCSItxpXSGA.png\" width=\"750\" height=\"750\"/>\n",
    "<h4></h4>\n",
    "<h4><center><a href=\"https://arxiv.org/abs/1802.02611\">Image Source: DeepLabV3+ [Liang-Chieh Chen et al.]</a></center></h4>"
   ]
  },
  {
   "cell_type": "markdown",
   "metadata": {
    "id": "4wWLNIJdQItz",
    "papermill": {
     "duration": 0.052843,
     "end_time": "2020-11-11T04:20:11.772393",
     "exception": false,
     "start_time": "2020-11-11T04:20:11.719550",
     "status": "completed"
    },
    "tags": []
   },
   "source": [
    "### Model Definition"
   ]
  },
  {
   "cell_type": "code",
   "execution_count": null,
   "metadata": {
    "colab": {
     "base_uri": "https://localhost:8080/",
     "height": 86,
     "referenced_widgets": [
      "78af67680b784d2ab8924d8e43d0516f",
      "79052fdb4f9345db85102ef783e37419",
      "9ecd5e03585e4cdea4313b1c7ac44357",
      "07663c46cab14e9bbbdcb25f5387a239",
      "3d95f8512d3043b38cad4e3829ebd6ec",
      "5b5898756fbc412f94c048f00bc11d24",
      "6cde4c72d9a84b96b305a656492b132d",
      "05cbe926326c41aa9496e24a09261d6d",
      "4bfcd19279364a2c985887460f3ec80a",
      "3e68ed1ba2984b64961be0151e285104",
      "6724cd2a508347499359cea9e8c8cdd8"
     ]
    },
    "execution": {
     "iopub.execute_input": "2020-11-11T04:20:11.881284Z",
     "iopub.status.busy": "2020-11-11T04:20:11.880373Z",
     "iopub.status.idle": "2020-11-11T04:20:17.009902Z",
     "shell.execute_reply": "2020-11-11T04:20:17.009318Z"
    },
    "id": "a3ZHSlQyQItz",
    "outputId": "51a11130-c65c-4711-c125-72bde3e1cc00",
    "papermill": {
     "duration": 5.187035,
     "end_time": "2020-11-11T04:20:17.010064",
     "exception": false,
     "start_time": "2020-11-11T04:20:11.823029",
     "status": "completed"
    },
    "tags": []
   },
   "outputs": [],
   "source": [
    "ENCODER = 'resnet50'\n",
    "ENCODER_WEIGHTS = 'imagenet'\n",
    "CLASSES = select_classes\n",
    "ACTIVATION = 'sigmoid' # could be None for logits or 'softmax2d' for multiclass segmentation\n",
    "\n",
    "# create segmentation model with pretrained encoder\n",
    "model = smp.DeepLabV3Plus(\n",
    "    encoder_name=ENCODER, \n",
    "    encoder_weights=ENCODER_WEIGHTS, \n",
    "    classes=len(CLASSES), \n",
    "    activation=ACTIVATION,\n",
    ")\n",
    "\n",
    "preprocessing_fn = smp.encoders.get_preprocessing_fn(ENCODER, ENCODER_WEIGHTS)"
   ]
  },
  {
   "cell_type": "markdown",
   "metadata": {
    "id": "5P-BWB3SQItz",
    "papermill": {
     "duration": 0.051289,
     "end_time": "2020-11-11T04:20:17.113131",
     "exception": false,
     "start_time": "2020-11-11T04:20:17.061842",
     "status": "completed"
    },
    "tags": []
   },
   "source": [
    "#### Get Train / Val DataLoaders"
   ]
  },
  {
   "cell_type": "code",
   "execution_count": null,
   "metadata": {
    "execution": {
     "iopub.execute_input": "2020-11-11T04:20:17.223179Z",
     "iopub.status.busy": "2020-11-11T04:20:17.222334Z",
     "iopub.status.idle": "2020-11-11T04:20:17.225402Z",
     "shell.execute_reply": "2020-11-11T04:20:17.224884Z"
    },
    "id": "kH4O5GGNQIt0",
    "papermill": {
     "duration": 0.061209,
     "end_time": "2020-11-11T04:20:17.225504",
     "exception": false,
     "start_time": "2020-11-11T04:20:17.164295",
     "status": "completed"
    },
    "tags": []
   },
   "outputs": [],
   "source": [
    "# Get train and val dataset instances with augmented data\n",
    "train_dataset = LandCoverDataset(\n",
    "    train_df, \n",
    "    augmentation=get_training_augmentation(),\n",
    "    preprocessing=get_preprocessing(preprocessing_fn),\n",
    "    class_rgb_values=select_class_rgb_values,\n",
    ")\n",
    "\n",
    "valid_dataset = LandCoverDataset(\n",
    "    valid_df, \n",
    "    augmentation=get_validation_augmentation(),\n",
    "    preprocessing=get_preprocessing(preprocessing_fn),\n",
    "    class_rgb_values=select_class_rgb_values,\n",
    ")\n",
    "\n",
    "# Get train and val data loaders\n",
    "train_loader = DataLoader(train_dataset, batch_size=4, shuffle=True, num_workers=2)\n",
    "valid_loader = DataLoader(valid_dataset, batch_size=1, shuffle=False, num_workers=4)"
   ]
  },
  {
   "cell_type": "markdown",
   "metadata": {
    "id": "5NKfm2i9QIt0",
    "papermill": {
     "duration": 0.050739,
     "end_time": "2020-11-11T04:20:17.327158",
     "exception": false,
     "start_time": "2020-11-11T04:20:17.276419",
     "status": "completed"
    },
    "tags": []
   },
   "source": [
    "#Diceloss"
   ]
  },
  {
   "cell_type": "code",
   "execution_count": null,
   "metadata": {
    "execution": {
     "iopub.execute_input": "2020-11-11T04:20:17.806622Z",
     "iopub.status.busy": "2020-11-11T04:20:17.805771Z",
     "iopub.status.idle": "2020-11-11T04:20:21.985521Z",
     "shell.execute_reply": "2020-11-11T04:20:21.986028Z"
    },
    "id": "OnVwfVknQIt1",
    "papermill": {
     "duration": 4.6083,
     "end_time": "2020-11-11T04:20:21.986189",
     "exception": false,
     "start_time": "2020-11-11T04:20:17.377889",
     "status": "completed"
    },
    "tags": []
   },
   "outputs": [],
   "source": [
    "# Set flag to train the model or not. If set to 'False', only prediction is performed (using an older model checkpoint)\n",
    "TRAINING = True\n",
    "\n",
    "# Set num of epochs\n",
    "EPOCHS = 2\n",
    "\n",
    "# Set device: `cuda` or `cpu`\n",
    "DEVICE = torch.device(\"cuda\" if torch.cuda.is_available() else \"cpu\")\n",
    "\n",
    "# define loss function\n",
    "loss = smp.utils.losses.DiceLoss()\n",
    "\n",
    "# loss = BCEDiceLoss()\n",
    "\n",
    "# define metrics\n",
    "metrics = [\n",
    "    smp.utils.metrics.IoU(threshold=0.5),\n",
    "]\n",
    "\n",
    "# define optimizer\n",
    "optimizer = torch.optim.Adam([ \n",
    "    dict(params=model.parameters(), lr=0.00008),\n",
    "])\n",
    "\n",
    "# define learning rate scheduler (not used in this NB)\n",
    "lr_scheduler = torch.optim.lr_scheduler.CosineAnnealingWarmRestarts(\n",
    "    optimizer, T_0=1, T_mult=2, eta_min=5e-5,\n",
    ")\n",
    "\n",
    "# load best saved model checkpoint from previous commit (if present)\n",
    "if os.path.exists('../input/deepglobe-land-cover-classification-deeplabv3/best_model.pth'):\n",
    "    model = torch.load('../input/deepglobe-land-cover-classification-deeplabv3/best_model.pth', map_location=DEVICE)\n",
    "    print('Loaded pre-trained DeepLabV3+ model!')"
   ]
  },
  {
   "cell_type": "code",
   "execution_count": null,
   "metadata": {
    "id": "vc64JsaLOhs-"
   },
   "outputs": [],
   "source": []
  },
  {
   "cell_type": "code",
   "execution_count": null,
   "metadata": {
    "execution": {
     "iopub.execute_input": "2020-11-11T04:20:22.099274Z",
     "iopub.status.busy": "2020-11-11T04:20:22.098455Z",
     "iopub.status.idle": "2020-11-11T04:20:22.121316Z",
     "shell.execute_reply": "2020-11-11T04:20:22.120427Z"
    },
    "id": "uO7_OACaQIt1",
    "papermill": {
     "duration": 0.082187,
     "end_time": "2020-11-11T04:20:22.121494",
     "exception": false,
     "start_time": "2020-11-11T04:20:22.039307",
     "status": "completed"
    },
    "tags": []
   },
   "outputs": [],
   "source": [
    "train_epoch = smp.utils.train.TrainEpoch(\n",
    "    model, \n",
    "    loss=loss, \n",
    "    metrics=metrics, \n",
    "    optimizer=optimizer,\n",
    "    device=DEVICE,\n",
    "    verbose=True,\n",
    ")\n",
    "\n",
    "valid_epoch = smp.utils.train.ValidEpoch(\n",
    "    model, \n",
    "    loss=loss, \n",
    "    metrics=metrics, \n",
    "    device=DEVICE,\n",
    "    verbose=True,\n",
    ")"
   ]
  },
  {
   "cell_type": "code",
   "execution_count": null,
   "metadata": {
    "id": "6-u_RqwkdZrL"
   },
   "outputs": [],
   "source": [
    "torch.cuda.empty_cache() "
   ]
  },
  {
   "cell_type": "code",
   "execution_count": null,
   "metadata": {
    "colab": {
     "base_uri": "https://localhost:8080/"
    },
    "execution": {
     "iopub.execute_input": "2020-11-11T04:20:22.346852Z",
     "iopub.status.busy": "2020-11-11T04:20:22.345942Z",
     "iopub.status.idle": "2020-11-11T05:54:51.737107Z",
     "shell.execute_reply": "2020-11-11T05:54:51.736560Z"
    },
    "id": "IutdGndaQIt2",
    "outputId": "4c917a97-9390-4408-a303-a7cc2e50884d",
    "papermill": {
     "duration": 5669.449912,
     "end_time": "2020-11-11T05:54:51.737233",
     "exception": false,
     "start_time": "2020-11-11T04:20:22.287321",
     "status": "completed"
    },
    "tags": []
   },
   "outputs": [],
   "source": [
    "%%time\n",
    "\n",
    "if TRAINING:\n",
    "\n",
    "    best_iou_score = 0.0\n",
    "    train_logs_list, valid_logs_list = [], []\n",
    "\n",
    "    for i in range(0, EPOCHS):\n",
    "\n",
    "        # Perform training & validation\n",
    "        print('\\nEpoch: {}'.format(i))\n",
    "        train_logs = train_epoch.run(train_loader)\n",
    "        valid_logs = valid_epoch.run(valid_loader)\n",
    "        train_logs_list.append(train_logs)\n",
    "        valid_logs_list.append(valid_logs)\n",
    "\n",
    "        # Save model if a better val IoU score is obtained\n",
    "        if best_iou_score < valid_logs['iou_score']:\n",
    "            best_iou_score = valid_logs['iou_score']\n",
    "            torch.save(model, './best_model.pth')\n",
    "            print('Model saved!')"
   ]
  },
  {
   "cell_type": "code",
   "execution_count": null,
   "metadata": {
    "colab": {
     "base_uri": "https://localhost:8080/"
    },
    "execution": {
     "iopub.execute_input": "2020-11-11T05:54:55.915262Z",
     "iopub.status.busy": "2020-11-11T05:54:55.914377Z",
     "iopub.status.idle": "2020-11-11T05:54:56.035770Z",
     "shell.execute_reply": "2020-11-11T05:54:56.036521Z"
    },
    "id": "acA_0-BwQIt2",
    "outputId": "fc562246-b053-4967-b910-28ff845d9455",
    "papermill": {
     "duration": 1.141206,
     "end_time": "2020-11-11T05:54:56.036700",
     "exception": false,
     "start_time": "2020-11-11T05:54:54.895494",
     "status": "completed"
    },
    "tags": []
   },
   "outputs": [],
   "source": [
    "# load best saved model checkpoint from the current run\n",
    "if os.path.exists('./best_model.pth'):\n",
    "    best_model = torch.load('./best_model.pth', map_location=DEVICE)\n",
    "    print('Loaded DeepLabV3+ model from this run.')\n",
    "\n",
    "# load best saved model checkpoint from previous commit (if present)\n",
    "elif os.path.exists('../input/deepglobe-land-cover-classification-deeplabv3/best_model.pth'):\n",
    "    best_model = torch.load('../input/deepglobe-land-cover-classification-deeplabv3/best_model.pth', map_location=DEVICE)\n",
    "    print('Loaded DeepLabV3+ model from a previous commit.')"
   ]
  },
  {
   "cell_type": "code",
   "execution_count": null,
   "metadata": {
    "colab": {
     "base_uri": "https://localhost:8080/",
     "height": 384
    },
    "execution": {
     "iopub.execute_input": "2020-11-11T05:54:58.073382Z",
     "iopub.status.busy": "2020-11-11T05:54:58.072443Z",
     "iopub.status.idle": "2020-11-11T05:55:00.021377Z",
     "shell.execute_reply": "2020-11-11T05:55:00.021917Z"
    },
    "id": "QxpkEcrwQIt3",
    "outputId": "6193ec87-091c-4601-bab1-8f888d149307",
    "papermill": {
     "duration": 2.995347,
     "end_time": "2020-11-11T05:55:00.022080",
     "exception": false,
     "start_time": "2020-11-11T05:54:57.026733",
     "status": "completed"
    },
    "tags": []
   },
   "outputs": [],
   "source": [
    "# create test dataloader to be used with DeepLabV3+ model (with preprocessing operation: to_tensor(...))\n",
    "test_dataset = LandCoverDataset(\n",
    "    valid_df, \n",
    "    augmentation=get_validation_augmentation(),\n",
    "    preprocessing=get_preprocessing(preprocessing_fn),\n",
    "    class_rgb_values=select_class_rgb_values,\n",
    ")\n",
    "\n",
    "test_dataloader = DataLoader(test_dataset)\n",
    "\n",
    "# test dataset for visualization (without preprocessing augmentations & transformations)\n",
    "test_dataset_vis = LandCoverDataset(\n",
    "    valid_df,\n",
    "    augmentation=get_validation_augmentation(),\n",
    "    class_rgb_values=select_class_rgb_values,\n",
    ")\n",
    "\n",
    "# get a random test image/mask index\n",
    "random_idx = random.randint(0, len(test_dataset_vis)-1)\n",
    "image, mask = test_dataset_vis[random_idx]\n",
    "\n",
    "visualize(\n",
    "    original_image = image,\n",
    "    ground_truth_mask = colour_code_segmentation(reverse_one_hot(mask), select_class_rgb_values),\n",
    "    one_hot_encoded_mask = reverse_one_hot(mask)\n",
    ")\n"
   ]
  },
  {
   "cell_type": "code",
   "execution_count": null,
   "metadata": {
    "execution": {
     "iopub.execute_input": "2020-11-11T05:55:02.099139Z",
     "iopub.status.busy": "2020-11-11T05:55:02.097726Z",
     "iopub.status.idle": "2020-11-11T05:55:02.100404Z",
     "shell.execute_reply": "2020-11-11T05:55:02.100916Z"
    },
    "id": "grZcfr3pQIt3",
    "papermill": {
     "duration": 1.069916,
     "end_time": "2020-11-11T05:55:02.101054",
     "exception": false,
     "start_time": "2020-11-11T05:55:01.031138",
     "status": "completed"
    },
    "tags": []
   },
   "outputs": [],
   "source": [
    "sample_preds_folder = 'sample_predictions/'\n",
    "if not os.path.exists(sample_preds_folder):\n",
    "    os.makedirs(sample_preds_folder)"
   ]
  },
  {
   "cell_type": "code",
   "execution_count": null,
   "metadata": {
    "execution": {
     "iopub.execute_input": "2020-11-11T05:55:04.703855Z",
     "iopub.status.busy": "2020-11-11T05:55:04.702629Z",
     "iopub.status.idle": "2020-11-11T05:55:04.709476Z",
     "shell.execute_reply": "2020-11-11T05:55:04.710305Z"
    },
    "id": "E_Ei5GFrQIt4",
    "papermill": {
     "duration": 1.429055,
     "end_time": "2020-11-11T05:55:04.710547",
     "exception": false,
     "start_time": "2020-11-11T05:55:03.281492",
     "status": "completed"
    },
    "tags": []
   },
   "outputs": [],
   "source": [
    "best_model = model"
   ]
  },
  {
   "cell_type": "code",
   "execution_count": null,
   "metadata": {
    "execution": {
     "iopub.execute_input": "2020-11-11T05:55:06.975351Z",
     "iopub.status.busy": "2020-11-11T05:55:06.974233Z",
     "iopub.status.idle": "2020-11-11T06:00:23.885708Z",
     "shell.execute_reply": "2020-11-11T06:00:23.884781Z"
    },
    "id": "QVvVZ9ccQIt4",
    "papermill": {
     "duration": 318.110868,
     "end_time": "2020-11-11T06:00:23.885824",
     "exception": false,
     "start_time": "2020-11-11T05:55:05.774956",
     "status": "completed"
    },
    "tags": []
   },
   "outputs": [],
   "source": [
    "# for idx in range(len(test_dataset)):\n",
    "\n",
    "#     image, gt_mask = test_dataset[idx]\n",
    "#     image_vis = test_dataset_vis[idx][0].astype('uint8')\n",
    "#     x_tensor = torch.from_numpy(image).to(DEVICE).unsqueeze(0)\n",
    "#     # Predict test image\n",
    "#     pred_mask = best_model(x_tensor)\n",
    "#     pred_mask = pred_mask.detach().squeeze().cpu().numpy()\n",
    "#     # Convert pred_mask from `CHW` format to `HWC` format\n",
    "#     pred_mask = np.transpose(pred_mask,(1,2,0))\n",
    "#     # Get prediction channel corresponding to foreground\n",
    "#     pred_urban_land_heatmap = pred_mask[:,:,select_classes.index('urban_land')]\n",
    "#     pred_mask = colour_code_segmentation(reverse_one_hot(pred_mask), select_class_rgb_values)\n",
    "#     # Convert gt_mask from `CHW` format to `HWC` format\n",
    "#     gt_mask = np.transpose(gt_mask,(1,2,0))\n",
    "#     gt_mask = colour_code_segmentation(reverse_one_hot(gt_mask), select_class_rgb_values)\n",
    "#     cv2.imwrite(os.path.join(sample_preds_folder, f\"sample_pred_{idx}.png\"), np.hstack([image_vis, gt_mask, pred_mask])[:,:,::-1])\n",
    "    \n",
    "#     visualize(\n",
    "#         original_image = image_vis,\n",
    "#         ground_truth_mask = gt_mask,\n",
    "#         predicted_mask = pred_mask,\n",
    "#         pred_urban_land_heatmap = pred_urban_land_heatmap\n",
    "#     )"
   ]
  },
  {
   "cell_type": "code",
   "execution_count": null,
   "metadata": {
    "colab": {
     "base_uri": "https://localhost:8080/"
    },
    "execution": {
     "iopub.execute_input": "2020-11-11T06:00:29.779356Z",
     "iopub.status.busy": "2020-11-11T06:00:29.778414Z",
     "iopub.status.idle": "2020-11-11T06:02:40.900735Z",
     "shell.execute_reply": "2020-11-11T06:02:40.897939Z"
    },
    "id": "FICx4seLQIt5",
    "outputId": "45691683-fc76-419e-879d-6983d4a989a2",
    "papermill": {
     "duration": 132.588372,
     "end_time": "2020-11-11T06:02:40.900910",
     "exception": false,
     "start_time": "2020-11-11T06:00:28.312538",
     "status": "completed"
    },
    "tags": []
   },
   "outputs": [],
   "source": [
    "test_epoch = smp.utils.train.ValidEpoch(\n",
    "    model,\n",
    "    loss=loss, \n",
    "    metrics=metrics, \n",
    "    device=DEVICE,\n",
    "    verbose=True,\n",
    ")\n",
    "\n",
    "valid_logs = test_epoch.run(test_dataloader)\n",
    "print(\"Evaluation on Test Data: \")\n",
    "print(f\"Mean IoU Score: {valid_logs['iou_score']:.4f}\")\n",
    "print(f\"Mean Dice Loss: {valid_logs['dice_loss']:.4f}\")"
   ]
  },
  {
   "cell_type": "code",
   "execution_count": null,
   "metadata": {
    "colab": {
     "base_uri": "https://localhost:8080/",
     "height": 111
    },
    "execution": {
     "iopub.execute_input": "2020-11-11T06:02:47.295808Z",
     "iopub.status.busy": "2020-11-11T06:02:47.294829Z",
     "iopub.status.idle": "2020-11-11T06:02:47.304972Z",
     "shell.execute_reply": "2020-11-11T06:02:47.305607Z"
    },
    "id": "Qd0VXZUbQIt6",
    "outputId": "8d760712-f345-4e41-9aab-0f401761043a",
    "papermill": {
     "duration": 1.572864,
     "end_time": "2020-11-11T06:02:47.305773",
     "exception": false,
     "start_time": "2020-11-11T06:02:45.732909",
     "status": "completed"
    },
    "tags": []
   },
   "outputs": [],
   "source": [
    "train_logs_df = pd.DataFrame(train_logs_list)\n",
    "valid_logs_df = pd.DataFrame(valid_logs_list)\n",
    "train_logs_df.T"
   ]
  },
  {
   "cell_type": "code",
   "execution_count": null,
   "metadata": {
    "colab": {
     "base_uri": "https://localhost:8080/",
     "height": 527
    },
    "execution": {
     "iopub.execute_input": "2020-11-11T06:02:50.363061Z",
     "iopub.status.busy": "2020-11-11T06:02:50.356228Z",
     "iopub.status.idle": "2020-11-11T06:02:50.731842Z",
     "shell.execute_reply": "2020-11-11T06:02:50.732339Z"
    },
    "id": "w2r8oaSJQIt6",
    "outputId": "544656fa-e9da-4ef7-c8e6-c2c22c7ed0a5",
    "papermill": {
     "duration": 1.92074,
     "end_time": "2020-11-11T06:02:50.732517",
     "exception": false,
     "start_time": "2020-11-11T06:02:48.811777",
     "status": "completed"
    },
    "tags": []
   },
   "outputs": [],
   "source": [
    "plt.figure(figsize=(20,8))\n",
    "plt.plot(train_logs_df.index.tolist(), train_logs_df.iou_score.tolist(), lw=3, label = 'Train')\n",
    "plt.plot(valid_logs_df.index.tolist(), valid_logs_df.iou_score.tolist(), lw=3, label = 'Valid')\n",
    "plt.xlabel('Epochs', fontsize=20)\n",
    "plt.ylabel('IoU Score', fontsize=20)\n",
    "plt.title('IoU Score Plot', fontsize=20)\n",
    "plt.legend(loc='best', fontsize=16)\n",
    "plt.grid()\n",
    "plt.savefig('iou_score_plot.png')\n",
    "plt.show()"
   ]
  },
  {
   "cell_type": "code",
   "execution_count": null,
   "metadata": {
    "colab": {
     "base_uri": "https://localhost:8080/",
     "height": 527
    },
    "execution": {
     "iopub.execute_input": "2020-11-11T06:02:54.381389Z",
     "iopub.status.busy": "2020-11-11T06:02:54.374637Z",
     "iopub.status.idle": "2020-11-11T06:02:54.740895Z",
     "shell.execute_reply": "2020-11-11T06:02:54.741457Z"
    },
    "id": "6bBh6uAsQIt6",
    "outputId": "ee9ca281-8bf6-4564-f269-0b73a1a7ce63",
    "papermill": {
     "duration": 1.939009,
     "end_time": "2020-11-11T06:02:54.741622",
     "exception": false,
     "start_time": "2020-11-11T06:02:52.802613",
     "status": "completed"
    },
    "tags": []
   },
   "outputs": [],
   "source": [
    "plt.figure(figsize=(20,8))\n",
    "plt.plot(train_logs_df.index.tolist(), train_logs_df.dice_loss.tolist(), lw=3, label = 'Train')\n",
    "plt.plot(valid_logs_df.index.tolist(), valid_logs_df.dice_loss.tolist(), lw=3, label = 'Valid')\n",
    "plt.xlabel('Epochs', fontsize=20)\n",
    "plt.ylabel('Dice Loss', fontsize=20)\n",
    "plt.title('Dice Loss Plot', fontsize=20)\n",
    "plt.legend(loc='best', fontsize=16)\n",
    "plt.grid()\n",
    "plt.savefig('dice_loss_plot.png')\n",
    "plt.show()"
   ]
  },
  {
   "cell_type": "code",
   "execution_count": null,
   "metadata": {
    "id": "N-ViGiyqOcrL"
   },
   "outputs": [],
   "source": []
  },
  {
   "cell_type": "code",
   "execution_count": null,
   "metadata": {
    "id": "_hZT6ZnpOmCD"
   },
   "outputs": [],
   "source": []
  },
  {
   "cell_type": "markdown",
   "metadata": {
    "id": "KyOzaq-6tnyB"
   },
   "source": [
    "### Now, we let's try with different loss function: BCEDiceloss. We will define our own BCEDiceloss with pytorch.\n",
    "\n",
    "You can try implementing or importing different loss functions from pytorch library.  \n",
    "Also, here's a survey for loss functions used for image segmentation: https://arxiv.org/pdf/2006.14822.pdf"
   ]
  },
  {
   "cell_type": "markdown",
   "metadata": {
    "id": "gZDOec7ZOxGX"
   },
   "source": [
    "# BCEDiceloss"
   ]
  },
  {
   "cell_type": "code",
   "execution_count": null,
   "metadata": {
    "id": "umoWmCNIj9r-"
   },
   "outputs": [],
   "source": [
    "def f_score(pr, gt, beta=1, eps=1e-7, threshold=None, activation='sigmoid'):\n",
    "    \"\"\"\n",
    "    Args:\n",
    "        pr (torch.Tensor): A list of predicted elements\n",
    "        gt (torch.Tensor):  A list of elements that are to be predicted\n",
    "        eps (float): epsilon to avoid zero division\n",
    "        threshold: threshold for outputs binarization\n",
    "    Returns:\n",
    "        float: IoU (Jaccard) score\n",
    "    \"\"\"\n",
    "\n",
    "    if activation is None or activation == \"none\":\n",
    "        activation_fn = lambda x: x\n",
    "    elif activation == \"sigmoid\":\n",
    "        activation_fn = torch.nn.Sigmoid()\n",
    "    elif activation == \"softmax2d\":\n",
    "        activation_fn = torch.nn.Softmax2d()\n",
    "    else:\n",
    "        raise NotImplementedError(\n",
    "            \"Activation implemented for sigmoid and softmax2d\"\n",
    "        )\n",
    "\n",
    "    pr = activation_fn(pr)\n",
    "\n",
    "    if threshold is not None:\n",
    "        pr = (pr > threshold).float()\n",
    "\n",
    "\n",
    "    tp = torch.sum(gt * pr)\n",
    "    fp = torch.sum(pr) - tp\n",
    "    fn = torch.sum(gt) - tp\n",
    "\n",
    "    score = ((1 + beta ** 2) * tp + eps) \\\n",
    "            / ((1 + beta ** 2) * tp + beta ** 2 * fn + fp + eps)\n",
    "\n",
    "    return score\n",
    "\n",
    "\n",
    "class DiceLoss(nn.Module):\n",
    "    __name__ = 'dice_loss'\n",
    "\n",
    "    def __init__(self, eps=1e-7, activation='sigmoid'):\n",
    "        super().__init__()\n",
    "        self.activation = activation\n",
    "        self.eps = eps\n",
    "\n",
    "    def forward(self, y_pr, y_gt):\n",
    "        return 1 - f_score(y_pr, y_gt, beta=1., \n",
    "                           eps=self.eps, threshold=None, \n",
    "                           activation=self.activation)\n",
    "\n",
    "\n",
    "class BCEDiceLoss(DiceLoss):\n",
    "    __name__ = 'bce_dice_loss'\n",
    "\n",
    "    def __init__(self, eps=1e-7, activation='sigmoid', lambda_dice=1.0, lambda_bce=1.0):\n",
    "        super().__init__(eps, activation)\n",
    "        if activation == None:\n",
    "            self.bce = nn.BCELoss(reduction='mean')\n",
    "        else:\n",
    "            self.bce = nn.BCEWithLogitsLoss(reduction='mean')\n",
    "        self.lambda_dice=lambda_dice\n",
    "        self.lambda_bce=lambda_bce\n",
    "\n",
    "    def forward(self, y_pr, y_gt):\n",
    "        dice = super().forward(y_pr, y_gt)\n",
    "        bce = self.bce(y_pr, y_gt)\n",
    "        return (self.lambda_dice*dice) + (self.lambda_bce* bce)"
   ]
  },
  {
   "cell_type": "code",
   "execution_count": null,
   "metadata": {
    "id": "3HiKxTtMOze-"
   },
   "outputs": [],
   "source": [
    "# Set flag to train the model or not. If set to 'False', only prediction is performed (using an older model checkpoint)\n",
    "TRAINING = True\n",
    "\n",
    "# Set num of epochs\n",
    "EPOCHS = 2\n",
    "\n",
    "# Set device: `cuda` or `cpu`\n",
    "DEVICE = torch.device(\"cuda\" if torch.cuda.is_available() else \"cpu\")\n",
    "\n",
    "# define loss function\n",
    "loss = BCEDiceLoss()\n",
    "\n",
    "# define metrics\n",
    "metrics = [\n",
    "    smp.utils.metrics.IoU(threshold=0.5),\n",
    "]\n",
    "\n",
    "# define optimizer\n",
    "optimizer = torch.optim.Adam([ \n",
    "    dict(params=model.parameters(), lr=0.00008),\n",
    "])\n",
    "\n",
    "# define learning rate scheduler (not used in this NB)\n",
    "lr_scheduler = torch.optim.lr_scheduler.CosineAnnealingWarmRestarts(\n",
    "    optimizer, T_0=1, T_mult=2, eta_min=5e-5,\n",
    ")\n",
    "\n",
    "# load best saved model checkpoint from previous commit (if present)\n",
    "if os.path.exists('../input/deepglobe-land-cover-classification-deeplabv3/best_model.pth'):\n",
    "    model = torch.load('../input/deepglobe-land-cover-classification-deeplabv3/best_model.pth', map_location=DEVICE)\n",
    "    print('Loaded pre-trained DeepLabV3+ model!')"
   ]
  },
  {
   "cell_type": "code",
   "execution_count": null,
   "metadata": {
    "id": "6MBHg_qIO9b5"
   },
   "outputs": [],
   "source": [
    "train_epoch = smp.utils.train.TrainEpoch(\n",
    "    model, \n",
    "    loss=loss, \n",
    "    metrics=metrics, \n",
    "    optimizer=optimizer,\n",
    "    device=DEVICE,\n",
    "    verbose=True,\n",
    ")\n",
    "\n",
    "valid_epoch = smp.utils.train.ValidEpoch(\n",
    "    model, \n",
    "    loss=loss, \n",
    "    metrics=metrics, \n",
    "    device=DEVICE,\n",
    "    verbose=True,\n",
    ")"
   ]
  },
  {
   "cell_type": "code",
   "execution_count": null,
   "metadata": {
    "id": "b0UrZHjiPBON"
   },
   "outputs": [],
   "source": [
    "torch.cuda.empty_cache() "
   ]
  },
  {
   "cell_type": "code",
   "execution_count": null,
   "metadata": {
    "colab": {
     "base_uri": "https://localhost:8080/"
    },
    "id": "G75L-7HqPFDG",
    "outputId": "d9a15a7b-f45b-4bfd-d8fd-922ea282d789"
   },
   "outputs": [],
   "source": [
    "%%time\n",
    "\n",
    "if TRAINING:\n",
    "\n",
    "    best_iou_score = 0.0\n",
    "    train_logs_list, valid_logs_list = [], []\n",
    "\n",
    "    for i in range(0, EPOCHS):\n",
    "\n",
    "        # Perform training & validation\n",
    "        print('\\nEpoch: {}'.format(i))\n",
    "        train_logs = train_epoch.run(train_loader)\n",
    "        valid_logs = valid_epoch.run(valid_loader)\n",
    "        train_logs_list.append(train_logs)\n",
    "        valid_logs_list.append(valid_logs)\n",
    "\n",
    "        # Save model if a better val IoU score is obtained\n",
    "        if best_iou_score < valid_logs['iou_score']:\n",
    "            best_iou_score = valid_logs['iou_score']\n",
    "            torch.save(model, './best_model_bcelose.pth')\n",
    "            print('Model saved!')"
   ]
  },
  {
   "cell_type": "code",
   "execution_count": null,
   "metadata": {
    "colab": {
     "base_uri": "https://localhost:8080/"
    },
    "id": "yykVXiHKPyFu",
    "outputId": "b98b23f7-4c00-46d3-cdc1-b10e6da40fe1"
   },
   "outputs": [],
   "source": [
    "test_epoch = smp.utils.train.ValidEpoch(\n",
    "    model,\n",
    "    loss=loss, \n",
    "    metrics=metrics, \n",
    "    device=DEVICE,\n",
    "    verbose=True,\n",
    ")\n",
    "\n",
    "valid_logs = test_epoch.run(test_dataloader)\n",
    "print(\"Evaluation on Test Data: \")\n",
    "print(f\"Mean IoU Score: {valid_logs['iou_score']:.4f}\")\n",
    "print(f\"Mean Dice Loss: {valid_logs['bce_dice_loss']:.4f}\")"
   ]
  },
  {
   "cell_type": "code",
   "execution_count": null,
   "metadata": {
    "colab": {
     "base_uri": "https://localhost:8080/",
     "height": 111
    },
    "id": "ygF3WtW5YNZo",
    "outputId": "08d32dba-2a9d-4b39-854e-87d3315d9bc4"
   },
   "outputs": [],
   "source": [
    "train_logs_df = pd.DataFrame(train_logs_list)\n",
    "valid_logs_df = pd.DataFrame(valid_logs_list)\n",
    "train_logs_df.T"
   ]
  },
  {
   "cell_type": "code",
   "execution_count": null,
   "metadata": {
    "colab": {
     "base_uri": "https://localhost:8080/",
     "height": 286
    },
    "id": "uHeEL84mQMmE",
    "outputId": "0894d4a5-c399-4377-bc5f-acd503fa61b2"
   },
   "outputs": [],
   "source": [
    "plt.figure(figsize=(20,8))\n",
    "plt.plot(train_logs_df.index.tolist(), train_logs_df.iou_score.tolist(), lw=3, label = 'Train')\n",
    "plt.plot(valid_logs_df.index.tolist(), valid_logs_df.iou_score.tolist(), lw=3, label = 'Valid')\n",
    "plt.xlabel('Epochs', fontsize=20)\n",
    "plt.ylabel('IoU Score', fontsize=20)\n",
    "plt.title('IoU Score Plot', fontsize=20)\n",
    "plt.legend(loc='best', fontsize=16)\n",
    "plt.grid()\n",
    "plt.savefig('iou_score_plot.png')\n",
    "plt.show()"
   ]
  },
  {
   "cell_type": "code",
   "execution_count": null,
   "metadata": {
    "colab": {
     "base_uri": "https://localhost:8080/",
     "height": 287
    },
    "id": "3qch1Sw2QO_O",
    "outputId": "4d3fa8ef-2473-4512-80e8-21bef00032c1"
   },
   "outputs": [],
   "source": [
    "plt.figure(figsize=(20,8))\n",
    "plt.plot(train_logs_df.index.tolist(), train_logs_df.bce_dice_loss.tolist(), lw=3, label = 'Train')\n",
    "plt.plot(valid_logs_df.index.tolist(), valid_logs_df.bce_dice_loss.tolist(), lw=3, label = 'Valid')\n",
    "plt.xlabel('Epochs', fontsize=20)\n",
    "plt.ylabel('BCEDice Loss', fontsize=20)\n",
    "plt.title('BCEDice Loss Plot', fontsize=20)\n",
    "plt.legend(loc='best', fontsize=16)\n",
    "plt.grid()\n",
    "plt.savefig('dice_loss_plot.png')\n",
    "plt.show()"
   ]
  },
  {
   "cell_type": "code",
   "execution_count": null,
   "metadata": {
    "id": "aEuQ7TPBTE0u"
   },
   "outputs": [],
   "source": []
  },
  {
   "cell_type": "markdown",
   "metadata": {
    "id": "T62UgBVoulNM"
   },
   "source": [
    "**Discussion**  \n",
    "We have trained the same model with two different losses: Diceloss and BCEDiceloss.\n",
    "\n",
    "What difference do you see from the IOU score?   \n",
    "Try more epochs for more detailed comparison."
   ]
  },
  {
   "cell_type": "code",
   "execution_count": null,
   "metadata": {
    "id": "1NDuxrn7vIvQ"
   },
   "outputs": [],
   "source": []
  },
  {
   "cell_type": "code",
   "execution_count": null,
   "metadata": {
    "id": "BhN3q43WvLLr"
   },
   "outputs": [],
   "source": []
  },
  {
   "cell_type": "markdown",
   "metadata": {
    "id": "7BgJJvPfvLtw"
   },
   "source": [
    "## To see the effect of data augmentation, we will do ablation. Let's train the model without the data augmentation. \n",
    "\n",
    "By not passing the `augmentation` parameter when initializing the `LandCoverDataset`, you can create a data loader that does not contain the augmented image data. However, in this notebook (for educational purpose), just to resize the image, we created a separate function (`get_training_no_augmentation()`). Passing an image without resizing it will cause memory error as the image size is bigger than the Colab's GPU capacity."
   ]
  },
  {
   "cell_type": "markdown",
   "metadata": {
    "id": "jrLRswvhTFNL"
   },
   "source": [
    "#  Without Data Augmentation\n"
   ]
  },
  {
   "cell_type": "code",
   "execution_count": null,
   "metadata": {
    "id": "KArxixSgTI6i"
   },
   "outputs": [],
   "source": [
    "# Get train and val dataset instances\n",
    "train_dataset_without_aug = LandCoverDataset(train_df,augmentation=get_training_no_augmentation(),\n",
    "                                                  preprocessing=get_preprocessing(preprocessing_fn),\n",
    "                                                   class_rgb_values=select_class_rgb_values)\n",
    "\n",
    "valid_dataset = LandCoverDataset(\n",
    "    valid_df, \n",
    "    augmentation=get_validation_augmentation(),\n",
    "    preprocessing=get_preprocessing(preprocessing_fn),\n",
    "    class_rgb_values=select_class_rgb_values,\n",
    ")\n",
    "\n",
    "# Get train and val data loaders\n",
    "train_loader = DataLoader(train_dataset_without_aug, batch_size=4, shuffle=True, num_workers=2)\n",
    "valid_loader = DataLoader(valid_dataset, batch_size=1, shuffle=False, num_workers=4)"
   ]
  },
  {
   "cell_type": "code",
   "execution_count": null,
   "metadata": {
    "id": "iXW6AI4zThcs"
   },
   "outputs": [],
   "source": [
    "# Set flag to train the model or not. If set to 'False', only prediction is performed (using an older model checkpoint)\n",
    "TRAINING = True\n",
    "\n",
    "# Set num of epochs\n",
    "EPOCHS = 2\n",
    "\n",
    "# Set device: `cuda` or `cpu`\n",
    "DEVICE = torch.device(\"cuda\" if torch.cuda.is_available() else \"cpu\")\n",
    "\n",
    "# define loss function\n",
    "loss = smp.utils.losses.DiceLoss()\n",
    "# loss = BCEDiceLoss()\n",
    "\n",
    "# define metrics\n",
    "metrics = [\n",
    "    smp.utils.metrics.IoU(threshold=0.5),\n",
    "]\n",
    "\n",
    "# define optimizer\n",
    "optimizer = torch.optim.Adam([ \n",
    "    dict(params=model.parameters(), lr=0.00008),\n",
    "])\n",
    "\n",
    "# define learning rate scheduler (not used in this NB)\n",
    "lr_scheduler = torch.optim.lr_scheduler.CosineAnnealingWarmRestarts(\n",
    "    optimizer, T_0=1, T_mult=2, eta_min=5e-5,\n",
    ")\n",
    "\n",
    "# load best saved model checkpoint from previous commit (if present)\n",
    "if os.path.exists('../input/deepglobe-land-cover-classification-deeplabv3/best_model.pth'):\n",
    "    model = torch.load('../input/deepglobe-land-cover-classification-deeplabv3/best_model.pth', map_location=DEVICE)\n",
    "    print('Loaded pre-trained DeepLabV3+ model!')"
   ]
  },
  {
   "cell_type": "code",
   "execution_count": null,
   "metadata": {
    "id": "n90G1-alTp8z"
   },
   "outputs": [],
   "source": [
    "train_epoch = smp.utils.train.TrainEpoch(\n",
    "    model, \n",
    "    loss=loss, \n",
    "    metrics=metrics, \n",
    "    optimizer=optimizer,\n",
    "    device=DEVICE,\n",
    "    verbose=True,\n",
    ")\n",
    "\n",
    "valid_epoch = smp.utils.train.ValidEpoch(\n",
    "    model, \n",
    "    loss=loss, \n",
    "    metrics=metrics, \n",
    "    device=DEVICE,\n",
    "    verbose=True,\n",
    ")"
   ]
  },
  {
   "cell_type": "code",
   "execution_count": null,
   "metadata": {
    "id": "mfc_Pxf2TmwY"
   },
   "outputs": [],
   "source": [
    "torch.cuda.empty_cache() "
   ]
  },
  {
   "cell_type": "code",
   "execution_count": null,
   "metadata": {
    "colab": {
     "base_uri": "https://localhost:8080/"
    },
    "id": "uwvavB1rTyjT",
    "outputId": "8574093a-78e2-4081-a274-6254bc4dd9c6"
   },
   "outputs": [],
   "source": [
    "%%time\n",
    "\n",
    "if TRAINING:\n",
    "\n",
    "    best_iou_score = 0.0\n",
    "    train_logs_list, valid_logs_list = [], []\n",
    "\n",
    "    for i in range(0, EPOCHS):\n",
    "\n",
    "        # Perform training & validation\n",
    "        print('\\nEpoch: {}'.format(i))\n",
    "        train_logs = train_epoch.run(train_loader)\n",
    "        valid_logs = valid_epoch.run(valid_loader)\n",
    "        train_logs_list.append(train_logs)\n",
    "        valid_logs_list.append(valid_logs)\n",
    "\n",
    "        # Save model if a better val IoU score is obtained\n",
    "        if best_iou_score < valid_logs['iou_score']:\n",
    "            best_iou_score = valid_logs['iou_score']\n",
    "            torch.save(model, './best_model_no_arg.pth')\n",
    "            print('Model saved!')"
   ]
  },
  {
   "cell_type": "code",
   "execution_count": null,
   "metadata": {
    "colab": {
     "base_uri": "https://localhost:8080/"
    },
    "id": "WK8cvvRuT-BR",
    "outputId": "23f9e193-5cac-413d-d339-fced98a986ea"
   },
   "outputs": [],
   "source": [
    "test_epoch = smp.utils.train.ValidEpoch(\n",
    "    model,\n",
    "    loss=loss, \n",
    "    metrics=metrics, \n",
    "    device=DEVICE,\n",
    "    verbose=True,\n",
    ")\n",
    "\n",
    "valid_logs = test_epoch.run(test_dataloader)\n",
    "print(\"Evaluation on Test Data: \")\n",
    "print(f\"Mean IoU Score: {valid_logs['iou_score']:.4f}\")\n",
    "print(f\"Mean Dice Loss: {valid_logs['dice_loss']:.4f}\")"
   ]
  },
  {
   "cell_type": "code",
   "execution_count": null,
   "metadata": {
    "colab": {
     "base_uri": "https://localhost:8080/",
     "height": 111
    },
    "id": "hbgH42dthmxA",
    "outputId": "4b3fddcb-c012-4733-d9c6-2f49823611e6"
   },
   "outputs": [],
   "source": [
    "train_logs_df = pd.DataFrame(train_logs_list)\n",
    "valid_logs_df = pd.DataFrame(valid_logs_list)\n",
    "train_logs_df.T"
   ]
  },
  {
   "cell_type": "code",
   "execution_count": null,
   "metadata": {
    "colab": {
     "base_uri": "https://localhost:8080/",
     "height": 527
    },
    "id": "3cAjmE-2UD8a",
    "outputId": "0113a3af-bb48-4871-86fb-05caf3389821"
   },
   "outputs": [],
   "source": [
    "plt.figure(figsize=(20,8))\n",
    "plt.plot(train_logs_df.index.tolist(), train_logs_df.iou_score.tolist(), lw=3, label = 'Train')\n",
    "plt.plot(valid_logs_df.index.tolist(), valid_logs_df.iou_score.tolist(), lw=3, label = 'Valid')\n",
    "plt.xlabel('Epochs', fontsize=20)\n",
    "plt.ylabel('IoU Score', fontsize=20)\n",
    "plt.title('IoU Score Plot', fontsize=20)\n",
    "plt.legend(loc='best', fontsize=16)\n",
    "plt.grid()\n",
    "plt.savefig('iou_score_plot.png')\n",
    "plt.show()"
   ]
  },
  {
   "cell_type": "code",
   "execution_count": null,
   "metadata": {
    "colab": {
     "base_uri": "https://localhost:8080/",
     "height": 527
    },
    "id": "lS9Z1IYNUHCm",
    "outputId": "55e8b278-65e7-4be1-ac6c-50de7abc8a36"
   },
   "outputs": [],
   "source": [
    "plt.figure(figsize=(20,8))\n",
    "plt.plot(train_logs_df.index.tolist(), train_logs_df.dice_loss.tolist(), lw=3, label = 'Train')\n",
    "plt.plot(valid_logs_df.index.tolist(), valid_logs_df.dice_loss.tolist(), lw=3, label = 'Valid')\n",
    "plt.xlabel('Epochs', fontsize=20)\n",
    "plt.ylabel('Dice Loss', fontsize=20)\n",
    "plt.title('Dice Loss Plot', fontsize=20)\n",
    "plt.legend(loc='best', fontsize=16)\n",
    "plt.grid()\n",
    "plt.savefig('dice_loss_plot.png')\n",
    "plt.show()"
   ]
  },
  {
   "cell_type": "markdown",
   "metadata": {
    "id": "FWT92_KkwfMe"
   },
   "source": [
    "**Discussion**  \n",
    "\n",
    "Now that you saw the IOU score and Loss plot generated with and without data augmentation, compare and discuss the performance from the ablation study."
   ]
  },
  {
   "cell_type": "code",
   "execution_count": null,
   "metadata": {
    "id": "Fu_tsiUQg7At"
   },
   "outputs": [],
   "source": []
  },
  {
   "cell_type": "markdown",
   "metadata": {
    "id": "Z-1OgtIYsVbU"
   },
   "source": [
    "**Discussion**\n",
    "\n",
    "Now you can generate an inference (result of the segmentation from the test data).\n",
    "In real life scenario, let's say you have to figure out the percentage of water body in the given land surface.\n",
    "How would you calculate that?\n",
    "\n",
    "Hint: calculate the area of mask in the result image in pixel.\n",
    "https://stackoverflow.com/questions/58068315/calculate-the-area-of-the-masks-in-pixels-in-grey-scale-images-with-python"
   ]
  },
  {
   "cell_type": "code",
   "execution_count": null,
   "metadata": {
    "id": "lCBcRfRftGVb"
   },
   "outputs": [],
   "source": []
  }
 ],
 "metadata": {
  "accelerator": "GPU",
  "colab": {
   "include_colab_link": true,
   "provenance": []
  },
  "gpuClass": "standard",
  "kernelspec": {
   "display_name": "Python 3 (ipykernel)",
   "language": "python",
   "name": "python3"
  },
  "language_info": {
   "codemirror_mode": {
    "name": "ipython",
    "version": 3
   },
   "file_extension": ".py",
   "mimetype": "text/x-python",
   "name": "python",
   "nbconvert_exporter": "python",
   "pygments_lexer": "ipython3",
   "version": "3.8.13"
  },
  "papermill": {
   "duration": 6201.325856,
   "end_time": "2020-11-11T06:02:57.609445",
   "environment_variables": {},
   "exception": null,
   "input_path": "__notebook__.ipynb",
   "output_path": "__notebook__.ipynb",
   "parameters": {},
   "start_time": "2020-11-11T04:19:36.283589",
   "version": "2.1.0"
  },
  "vscode": {
   "interpreter": {
    "hash": "eafeb9b2355845a5f1288e84c0298a3c02747aa0b0fc391e5775e47e4b2d1c65"
   }
  },
  "widgets": {
   "application/vnd.jupyter.widget-state+json": {
    "05cbe926326c41aa9496e24a09261d6d": {
     "model_module": "@jupyter-widgets/base",
     "model_module_version": "1.2.0",
     "model_name": "LayoutModel",
     "state": {
      "_model_module": "@jupyter-widgets/base",
      "_model_module_version": "1.2.0",
      "_model_name": "LayoutModel",
      "_view_count": null,
      "_view_module": "@jupyter-widgets/base",
      "_view_module_version": "1.2.0",
      "_view_name": "LayoutView",
      "align_content": null,
      "align_items": null,
      "align_self": null,
      "border": null,
      "bottom": null,
      "display": null,
      "flex": null,
      "flex_flow": null,
      "grid_area": null,
      "grid_auto_columns": null,
      "grid_auto_flow": null,
      "grid_auto_rows": null,
      "grid_column": null,
      "grid_gap": null,
      "grid_row": null,
      "grid_template_areas": null,
      "grid_template_columns": null,
      "grid_template_rows": null,
      "height": null,
      "justify_content": null,
      "justify_items": null,
      "left": null,
      "margin": null,
      "max_height": null,
      "max_width": null,
      "min_height": null,
      "min_width": null,
      "object_fit": null,
      "object_position": null,
      "order": null,
      "overflow": null,
      "overflow_x": null,
      "overflow_y": null,
      "padding": null,
      "right": null,
      "top": null,
      "visibility": null,
      "width": null
     }
    },
    "07663c46cab14e9bbbdcb25f5387a239": {
     "model_module": "@jupyter-widgets/controls",
     "model_module_version": "1.5.0",
     "model_name": "HTMLModel",
     "state": {
      "_dom_classes": [],
      "_model_module": "@jupyter-widgets/controls",
      "_model_module_version": "1.5.0",
      "_model_name": "HTMLModel",
      "_view_count": null,
      "_view_module": "@jupyter-widgets/controls",
      "_view_module_version": "1.5.0",
      "_view_name": "HTMLView",
      "description": "",
      "description_tooltip": null,
      "layout": "IPY_MODEL_3e68ed1ba2984b64961be0151e285104",
      "placeholder": "​",
      "style": "IPY_MODEL_6724cd2a508347499359cea9e8c8cdd8",
      "value": " 97.8M/97.8M [00:00&lt;00:00, 212MB/s]"
     }
    },
    "3d95f8512d3043b38cad4e3829ebd6ec": {
     "model_module": "@jupyter-widgets/base",
     "model_module_version": "1.2.0",
     "model_name": "LayoutModel",
     "state": {
      "_model_module": "@jupyter-widgets/base",
      "_model_module_version": "1.2.0",
      "_model_name": "LayoutModel",
      "_view_count": null,
      "_view_module": "@jupyter-widgets/base",
      "_view_module_version": "1.2.0",
      "_view_name": "LayoutView",
      "align_content": null,
      "align_items": null,
      "align_self": null,
      "border": null,
      "bottom": null,
      "display": null,
      "flex": null,
      "flex_flow": null,
      "grid_area": null,
      "grid_auto_columns": null,
      "grid_auto_flow": null,
      "grid_auto_rows": null,
      "grid_column": null,
      "grid_gap": null,
      "grid_row": null,
      "grid_template_areas": null,
      "grid_template_columns": null,
      "grid_template_rows": null,
      "height": null,
      "justify_content": null,
      "justify_items": null,
      "left": null,
      "margin": null,
      "max_height": null,
      "max_width": null,
      "min_height": null,
      "min_width": null,
      "object_fit": null,
      "object_position": null,
      "order": null,
      "overflow": null,
      "overflow_x": null,
      "overflow_y": null,
      "padding": null,
      "right": null,
      "top": null,
      "visibility": null,
      "width": null
     }
    },
    "3e68ed1ba2984b64961be0151e285104": {
     "model_module": "@jupyter-widgets/base",
     "model_module_version": "1.2.0",
     "model_name": "LayoutModel",
     "state": {
      "_model_module": "@jupyter-widgets/base",
      "_model_module_version": "1.2.0",
      "_model_name": "LayoutModel",
      "_view_count": null,
      "_view_module": "@jupyter-widgets/base",
      "_view_module_version": "1.2.0",
      "_view_name": "LayoutView",
      "align_content": null,
      "align_items": null,
      "align_self": null,
      "border": null,
      "bottom": null,
      "display": null,
      "flex": null,
      "flex_flow": null,
      "grid_area": null,
      "grid_auto_columns": null,
      "grid_auto_flow": null,
      "grid_auto_rows": null,
      "grid_column": null,
      "grid_gap": null,
      "grid_row": null,
      "grid_template_areas": null,
      "grid_template_columns": null,
      "grid_template_rows": null,
      "height": null,
      "justify_content": null,
      "justify_items": null,
      "left": null,
      "margin": null,
      "max_height": null,
      "max_width": null,
      "min_height": null,
      "min_width": null,
      "object_fit": null,
      "object_position": null,
      "order": null,
      "overflow": null,
      "overflow_x": null,
      "overflow_y": null,
      "padding": null,
      "right": null,
      "top": null,
      "visibility": null,
      "width": null
     }
    },
    "4bfcd19279364a2c985887460f3ec80a": {
     "model_module": "@jupyter-widgets/controls",
     "model_module_version": "1.5.0",
     "model_name": "ProgressStyleModel",
     "state": {
      "_model_module": "@jupyter-widgets/controls",
      "_model_module_version": "1.5.0",
      "_model_name": "ProgressStyleModel",
      "_view_count": null,
      "_view_module": "@jupyter-widgets/base",
      "_view_module_version": "1.2.0",
      "_view_name": "StyleView",
      "bar_color": null,
      "description_width": ""
     }
    },
    "5b5898756fbc412f94c048f00bc11d24": {
     "model_module": "@jupyter-widgets/base",
     "model_module_version": "1.2.0",
     "model_name": "LayoutModel",
     "state": {
      "_model_module": "@jupyter-widgets/base",
      "_model_module_version": "1.2.0",
      "_model_name": "LayoutModel",
      "_view_count": null,
      "_view_module": "@jupyter-widgets/base",
      "_view_module_version": "1.2.0",
      "_view_name": "LayoutView",
      "align_content": null,
      "align_items": null,
      "align_self": null,
      "border": null,
      "bottom": null,
      "display": null,
      "flex": null,
      "flex_flow": null,
      "grid_area": null,
      "grid_auto_columns": null,
      "grid_auto_flow": null,
      "grid_auto_rows": null,
      "grid_column": null,
      "grid_gap": null,
      "grid_row": null,
      "grid_template_areas": null,
      "grid_template_columns": null,
      "grid_template_rows": null,
      "height": null,
      "justify_content": null,
      "justify_items": null,
      "left": null,
      "margin": null,
      "max_height": null,
      "max_width": null,
      "min_height": null,
      "min_width": null,
      "object_fit": null,
      "object_position": null,
      "order": null,
      "overflow": null,
      "overflow_x": null,
      "overflow_y": null,
      "padding": null,
      "right": null,
      "top": null,
      "visibility": null,
      "width": null
     }
    },
    "6724cd2a508347499359cea9e8c8cdd8": {
     "model_module": "@jupyter-widgets/controls",
     "model_module_version": "1.5.0",
     "model_name": "DescriptionStyleModel",
     "state": {
      "_model_module": "@jupyter-widgets/controls",
      "_model_module_version": "1.5.0",
      "_model_name": "DescriptionStyleModel",
      "_view_count": null,
      "_view_module": "@jupyter-widgets/base",
      "_view_module_version": "1.2.0",
      "_view_name": "StyleView",
      "description_width": ""
     }
    },
    "6cde4c72d9a84b96b305a656492b132d": {
     "model_module": "@jupyter-widgets/controls",
     "model_module_version": "1.5.0",
     "model_name": "DescriptionStyleModel",
     "state": {
      "_model_module": "@jupyter-widgets/controls",
      "_model_module_version": "1.5.0",
      "_model_name": "DescriptionStyleModel",
      "_view_count": null,
      "_view_module": "@jupyter-widgets/base",
      "_view_module_version": "1.2.0",
      "_view_name": "StyleView",
      "description_width": ""
     }
    },
    "78af67680b784d2ab8924d8e43d0516f": {
     "model_module": "@jupyter-widgets/controls",
     "model_module_version": "1.5.0",
     "model_name": "HBoxModel",
     "state": {
      "_dom_classes": [],
      "_model_module": "@jupyter-widgets/controls",
      "_model_module_version": "1.5.0",
      "_model_name": "HBoxModel",
      "_view_count": null,
      "_view_module": "@jupyter-widgets/controls",
      "_view_module_version": "1.5.0",
      "_view_name": "HBoxView",
      "box_style": "",
      "children": [
       "IPY_MODEL_79052fdb4f9345db85102ef783e37419",
       "IPY_MODEL_9ecd5e03585e4cdea4313b1c7ac44357",
       "IPY_MODEL_07663c46cab14e9bbbdcb25f5387a239"
      ],
      "layout": "IPY_MODEL_3d95f8512d3043b38cad4e3829ebd6ec"
     }
    },
    "79052fdb4f9345db85102ef783e37419": {
     "model_module": "@jupyter-widgets/controls",
     "model_module_version": "1.5.0",
     "model_name": "HTMLModel",
     "state": {
      "_dom_classes": [],
      "_model_module": "@jupyter-widgets/controls",
      "_model_module_version": "1.5.0",
      "_model_name": "HTMLModel",
      "_view_count": null,
      "_view_module": "@jupyter-widgets/controls",
      "_view_module_version": "1.5.0",
      "_view_name": "HTMLView",
      "description": "",
      "description_tooltip": null,
      "layout": "IPY_MODEL_5b5898756fbc412f94c048f00bc11d24",
      "placeholder": "​",
      "style": "IPY_MODEL_6cde4c72d9a84b96b305a656492b132d",
      "value": "100%"
     }
    },
    "9ecd5e03585e4cdea4313b1c7ac44357": {
     "model_module": "@jupyter-widgets/controls",
     "model_module_version": "1.5.0",
     "model_name": "FloatProgressModel",
     "state": {
      "_dom_classes": [],
      "_model_module": "@jupyter-widgets/controls",
      "_model_module_version": "1.5.0",
      "_model_name": "FloatProgressModel",
      "_view_count": null,
      "_view_module": "@jupyter-widgets/controls",
      "_view_module_version": "1.5.0",
      "_view_name": "ProgressView",
      "bar_style": "success",
      "description": "",
      "description_tooltip": null,
      "layout": "IPY_MODEL_05cbe926326c41aa9496e24a09261d6d",
      "max": 102502400,
      "min": 0,
      "orientation": "horizontal",
      "style": "IPY_MODEL_4bfcd19279364a2c985887460f3ec80a",
      "value": 102502400
     }
    }
   }
  }
 },
 "nbformat": 4,
 "nbformat_minor": 1
}
