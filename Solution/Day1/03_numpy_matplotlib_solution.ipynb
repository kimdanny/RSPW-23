{
 "cells": [
  {
   "cell_type": "markdown",
   "metadata": {},
   "source": [
    "# Numpy & matplotlib\n",
    "\n",
    "\n",
    "\n",
    "## Overview \n",
    "\n",
    "This notebook will introduce two new Python *libraries*:\n",
    "* Numpy\n",
    "* Matplotlib\n",
    "\n",
    "### Acknowledgements\n",
    "This notebook is modifed from Tim Hillel's (tim.hillel@ucl.ac.uk) material for the UCL Department of Civil, Environmental, and Geomatric Engineering (CEGE) Introduction to Python sessions.  \n",
    "Please contact before distributing or reusing the material below.  \n",
    "This notebook also borrows content from UCL AI Society Season 1 made by Danny To Eun Kim (to.kim.17@alumni.ucl.ac.uk) "
   ]
  },
  {
   "cell_type": "markdown",
   "metadata": {},
   "source": [
    "## Numpy\n",
    "\n",
    "Data structures (e.g. `lists` and `dictionaries`) are fine for 1-D data, but what if we have data in two or more dimensions?\n",
    "\n",
    "Many (all?) of you have used Matlab - use arrays!\n",
    "\n",
    "Python has matlab-like array functionality - *numpy*\n",
    "\n",
    "Python has been highlighted as a great programming language in the field of data science because it is easy to learn and is supported by a number of scientific computing libraries. Numpy is one of the vital libraries that deals with mathematical computation and enables users to compute on multi-dimensional data structures more efficiently and easily.\n",
    "\n",
    "Great documentation and tutorials are available for numpy: \n",
    "\n",
    "https://docs.scipy.org/doc/numpy/user/quickstart.html"
   ]
  },
  {
   "cell_type": "markdown",
   "metadata": {},
   "source": [
    "### Importing libraries\n",
    "\n",
    "Python is geared towards code reuse, and there is a huge number of libraries you can use to add functionality to Python.\n",
    "\n",
    "Anaconda has the most useful libraries for data science pre-installed, including `numpy`\n",
    "\n",
    "We can import a library using the `import` keyword, e.g.\n",
    "\n",
    "    import numpy\n",
    "    \n",
    "However, we usually give numpy the alias *np* using the keyword `as`"
   ]
  },
  {
   "cell_type": "code",
   "execution_count": 2,
   "metadata": {},
   "outputs": [],
   "source": [
    "import numpy as np"
   ]
  },
  {
   "cell_type": "code",
   "execution_count": 3,
   "metadata": {},
   "outputs": [
    {
     "name": "stdout",
     "output_type": "stream",
     "text": [
      "Type of a:  <class 'numpy.ndarray'>\n",
      "Shape of a:  (4,)\n",
      "The first element of a:  1\n",
      "The last element of a:  4\n"
     ]
    }
   ],
   "source": [
    "a = np.array([1, 2, 3, 4]) # create a rank 1 array\n",
    "print(\"Type of a: \", type(a))\n",
    "print(\"Shape of a: \", a.shape)\n",
    "print(\"The first element of a: \", a[0])\n",
    "print(\"The last element of a: \", a[-1])"
   ]
  },
  {
   "cell_type": "markdown",
   "metadata": {},
   "source": [
    "### Why NumPy?\n",
    "\n",
    "You might be wondering, why do I need Numpy? Can I not do things the usual way, with for loops? One of the reasons is the SPEED.\n",
    "\n",
    "Let's see an example of the two functions doing the same operation but with and without Numpy."
   ]
  },
  {
   "cell_type": "code",
   "execution_count": 5,
   "metadata": {},
   "outputs": [
    {
     "name": "stdout",
     "output_type": "stream",
     "text": [
      "1.15 µs ± 5.19 ns per loop (mean ± std. dev. of 7 runs, 1,000,000 loops each)\n",
      "185 µs ± 1.48 µs per loop (mean ± std. dev. of 7 runs, 10,000 loops each)\n"
     ]
    }
   ],
   "source": [
    "# A library to help us measure how fast our algorithms are\n",
    "import timeit\n",
    "\n",
    "def numpy_method(n):\n",
    "    return np.arange(n) ** 2\n",
    "    \n",
    "def for_loop_method(n):\n",
    "    result = []\n",
    "    for i in range(n):\n",
    "        result.append(i ** 2)\n",
    "        \n",
    "%timeit numpy_method(1000)\n",
    "%timeit for_loop_method(1000)"
   ]
  },
  {
   "cell_type": "markdown",
   "metadata": {},
   "source": [
    "NumPy is a lot faster than our for loop method. This shows us the beauty of NumPy - getting the performance of a low-level language (C) with high-level language (Python)."
   ]
  },
  {
   "cell_type": "markdown",
   "metadata": {},
   "source": [
    "### How do you initialise numpy arrays / matrices?\n",
    "\n",
    "You will need to use NumPy's documentation to answer the questions below."
   ]
  },
  {
   "cell_type": "code",
   "execution_count": 4,
   "metadata": {
    "scrolled": false
   },
   "outputs": [
    {
     "name": "stdout",
     "output_type": "stream",
     "text": [
      "Matrix b\n",
      "[[1. 1.]\n",
      " [1. 1.]]\n",
      "\n",
      "Matrix c\n",
      "[[0. 0. 0.]\n",
      " [0. 0. 0.]]\n",
      "\n",
      "Matrix d\n",
      "[[1. 0. 0.]\n",
      " [0. 1. 0.]\n",
      " [0. 0. 1.]]\n",
      "\n",
      "Matrix e\n",
      "[[0.7011648  0.11049154]\n",
      " [0.28925471 0.98303399]]\n",
      "\n",
      "Matrix f\n",
      "[0 1 2 3 4 5 6 7 8 9]\n",
      "\n",
      "Matrix g\n",
      "[[0.         0.         0.4472136 ]\n",
      " [0.0531494  0.18257419 0.4472136 ]\n",
      " [0.2125976  0.36514837 0.4472136 ]\n",
      " [0.4783446  0.54772256 0.4472136 ]\n",
      " [0.85039041 0.73029674 0.4472136 ]]\n"
     ]
    }
   ],
   "source": [
    "# create a matrix full of ones\n",
    "b = np.ones((2, 2))\n",
    "print(\"Matrix b\")\n",
    "print(b)\n",
    "\n",
    "# create a matrix full of zeros\n",
    "c = np.zeros((2, 3))\n",
    "print(\"\\nMatrix c\")\n",
    "print(c)\n",
    "\n",
    "# create an identity matrix\n",
    "d = np.eye(3)\n",
    "print(\"\\nMatrix d\")\n",
    "print(d)\n",
    "\n",
    "# create a matrix filled with random numbers between 0 and 1\n",
    "e = np.random.random((2, 2))\n",
    "print(\"\\nMatrix e\")\n",
    "print(e)\n",
    "\n",
    "# create an array which has 0-9 as its elements in sorted order\n",
    "f = np.arange(10)\n",
    "print(\"\\nMatrix f\")\n",
    "print(f)\n",
    "\n",
    "# create a matrix placeholder, without initializing entries (elements in the matrix).\n",
    "g = np.empty((5, 3))\n",
    "print(\"\\nMatrix g\")\n",
    "print(g)"
   ]
  },
  {
   "cell_type": "markdown",
   "metadata": {},
   "source": [
    "###  Matrix Calculation"
   ]
  },
  {
   "cell_type": "markdown",
   "metadata": {},
   "source": [
    "In machine learning, we will deal with a lot of matrix calculations. It is therefore good for us to get accustomed to some of the common operations we perform on them. Here is a list of the first few:\n",
    "\n",
    "- `np.transpose()` : Transpose of an array\n",
    "- `np.dot(a, b)` : Dot product of two arrays\n",
    "- `np.linalg.inv()` : Inverse matrix of an array (only valid for square matrices, whose dimension is n * n)\n",
    "- `np.diagonal()` : Diagonal components of a two-dimensional array\n",
    "- `a.reshape(row = x, column = y)` : Reshape an array to the given dimension\n",
    "\n",
    "Now let's check what each of them does."
   ]
  },
  {
   "cell_type": "code",
   "execution_count": 7,
   "metadata": {},
   "outputs": [
    {
     "data": {
      "text/plain": [
       "array([[ 3, 11,  1],\n",
       "       [ 7,  5,  2],\n",
       "       [ 6,  8,  9],\n",
       "       [ 0, 10,  4]])"
      ]
     },
     "execution_count": 7,
     "metadata": {},
     "output_type": "execute_result"
    }
   ],
   "source": [
    "# Initialise the data we will use below\n",
    "x = np.array([\n",
    "    [3, 11, 1],\n",
    "    [7, 5, 2],\n",
    "    [6, 8, 9],\n",
    "    [0, 10, 4]\n",
    "])\n",
    "x"
   ]
  },
  {
   "cell_type": "code",
   "execution_count": 8,
   "metadata": {},
   "outputs": [
    {
     "data": {
      "text/plain": [
       "array([[ 3,  7,  6,  0],\n",
       "       [11,  5,  8, 10],\n",
       "       [ 1,  2,  9,  4]])"
      ]
     },
     "execution_count": 8,
     "metadata": {},
     "output_type": "execute_result"
    }
   ],
   "source": [
    "# Transpose an array\n",
    "transposed = x.T\n",
    "transposed"
   ]
  },
  {
   "cell_type": "code",
   "execution_count": 9,
   "metadata": {},
   "outputs": [
    {
     "data": {
      "text/plain": [
       "array([[131,  78, 115, 114],\n",
       "       [ 78,  78, 100,  58],\n",
       "       [115, 100, 181, 116],\n",
       "       [114,  58, 116, 116]])"
      ]
     },
     "execution_count": 9,
     "metadata": {},
     "output_type": "execute_result"
    }
   ],
   "source": [
    "# Dot product of two arrays: original x and x_transposed\n",
    "# (4x3) dot (3x4) should give you (4x4)\n",
    "\n",
    "y = x.dot(x.T)\n",
    "y"
   ]
  },
  {
   "cell_type": "code",
   "execution_count": 10,
   "metadata": {},
   "outputs": [
    {
     "name": "stdout",
     "output_type": "stream",
     "text": [
      "broadcaster: \n",
      "[[0]\n",
      " [1]\n",
      " [2]\n",
      " [3]]\n",
      "\n",
      "broadcasted: \n",
      "[[ 0  0  0]\n",
      " [ 7  5  2]\n",
      " [12 16 18]\n",
      " [ 0 30 12]]\n"
     ]
    }
   ],
   "source": [
    "# Element-wise multiplication with 'broadcaster' and 'x'\n",
    "# You will know what we meant by 'broadcast' once you check your result.\n",
    "\n",
    "broadcaster = np.array([\n",
    "    [0],\n",
    "    [1],\n",
    "    [2],\n",
    "    [3]\n",
    "])\n",
    "print(\"broadcaster: \\n{}\\n\".format(broadcaster))\n",
    "\n",
    "elementwise_broadcasting = x * broadcaster\n",
    "print(\"broadcasted: \\n{}\".format(elementwise_broadcasting))"
   ]
  },
  {
   "cell_type": "code",
   "execution_count": 11,
   "metadata": {},
   "outputs": [
    {
     "name": "stdout",
     "output_type": "stream",
     "text": [
      "[3 5 9]\n"
     ]
    }
   ],
   "source": [
    "# Extracting the diagonal elements of an array x\n",
    "\n",
    "diagonal = np.diag(x)\n",
    "print(diagonal)"
   ]
  },
  {
   "cell_type": "code",
   "execution_count": 12,
   "metadata": {
    "scrolled": true
   },
   "outputs": [
    {
     "name": "stdout",
     "output_type": "stream",
     "text": [
      "[[ 3 11]\n",
      " [ 1  7]\n",
      " [ 5  2]\n",
      " [ 6  8]\n",
      " [ 9  0]\n",
      " [10  4]]\n"
     ]
    }
   ],
   "source": [
    "# Reshaping an array x to one that has 6 rows and 2 columns\n",
    "\n",
    "reshaped = x.reshape(6, 2)\n",
    "print(reshaped)"
   ]
  },
  {
   "cell_type": "markdown",
   "metadata": {},
   "source": [
    "### Statistics in Numpy"
   ]
  },
  {
   "cell_type": "markdown",
   "metadata": {},
   "source": [
    "When we deal with large amounts of data, we will often want to know things about the data as a whole. This is where NumPy's statistics come to the rescue. Most of them are self-explanatory:\n",
    "\n",
    "- `np.sum()` : sum of all elements in an array\n",
    "- `np.max()` : returns the maximum element in an array\n",
    "- `np.min()` : Minimum value of an array\n",
    "- `np.mean()` : Mean of elements in an array\n",
    "- `np.median()` : Median value among elements\n",
    "- `np.var()` : Variance of the elements in the array\n",
    "- `np.std()` : Standard deviation of the elements in the array\n",
    "\n",
    "As before, fill in the cells below to get used to these methods."
   ]
  },
  {
   "cell_type": "code",
   "execution_count": 13,
   "metadata": {},
   "outputs": [],
   "source": [
    "x = np.array(\n",
    "    [34, 56, 6, 3, 9, 89, 120, 12, 201],\n",
    "    dtype = np.int32\n",
    ")"
   ]
  },
  {
   "cell_type": "code",
   "execution_count": 14,
   "metadata": {},
   "outputs": [
    {
     "name": "stdout",
     "output_type": "stream",
     "text": [
      "530\n"
     ]
    }
   ],
   "source": [
    "# Summation of elements \n",
    "\n",
    "summation = np.sum(x)\n",
    "print(summation)"
   ]
  },
  {
   "cell_type": "code",
   "execution_count": 15,
   "metadata": {},
   "outputs": [
    {
     "name": "stdout",
     "output_type": "stream",
     "text": [
      "3\n"
     ]
    }
   ],
   "source": [
    "# Get Minimum element in the array\n",
    "\n",
    "minimum = np.min(x)\n",
    "print(minimum)"
   ]
  },
  {
   "cell_type": "code",
   "execution_count": 16,
   "metadata": {},
   "outputs": [
    {
     "name": "stdout",
     "output_type": "stream",
     "text": [
      "201\n"
     ]
    }
   ],
   "source": [
    "# Maximum element in the array\n",
    "\n",
    "maximum = np.max(x)\n",
    "print(maximum)"
   ]
  },
  {
   "cell_type": "code",
   "execution_count": 17,
   "metadata": {},
   "outputs": [
    {
     "name": "stdout",
     "output_type": "stream",
     "text": [
      "58.888888888888886\n"
     ]
    }
   ],
   "source": [
    "# Average value of elements in the array\n",
    "\n",
    "mean = np.mean(x)\n",
    "print(mean)"
   ]
  },
  {
   "cell_type": "code",
   "execution_count": 18,
   "metadata": {},
   "outputs": [
    {
     "name": "stdout",
     "output_type": "stream",
     "text": [
      "34.0\n"
     ]
    }
   ],
   "source": [
    "# Median element in the array\n",
    "\n",
    "median = np.median(x)\n",
    "print(median)"
   ]
  },
  {
   "cell_type": "code",
   "execution_count": 19,
   "metadata": {},
   "outputs": [
    {
     "name": "stdout",
     "output_type": "stream",
     "text": [
      "4008.098765432099\n"
     ]
    }
   ],
   "source": [
    "# Variation of x\n",
    "\n",
    "variation = np.var(x)\n",
    "print(variation)"
   ]
  },
  {
   "cell_type": "code",
   "execution_count": 20,
   "metadata": {},
   "outputs": [
    {
     "name": "stdout",
     "output_type": "stream",
     "text": [
      "63.3095471902311\n"
     ]
    }
   ],
   "source": [
    "# Standard deviation of the array\n",
    "\n",
    "std = np.std(x)\n",
    "print(std)"
   ]
  },
  {
   "cell_type": "code",
   "execution_count": null,
   "metadata": {},
   "outputs": [],
   "source": []
  },
  {
   "cell_type": "markdown",
   "metadata": {},
   "source": [
    "### Quick recap: Creating and manipulating arrays\n",
    "\n",
    "Unlike matlab, we need to specifically call `numpy` functions when we are using arrays in python.\n",
    "\n",
    "For example, we can create an array using the `np.array()` function with a list of lists"
   ]
  },
  {
   "cell_type": "code",
   "execution_count": 2,
   "metadata": {},
   "outputs": [
    {
     "data": {
      "text/plain": [
       "array([[1, 2, 3],\n",
       "       [3, 2, 1]])"
      ]
     },
     "execution_count": 2,
     "metadata": {},
     "output_type": "execute_result"
    }
   ],
   "source": [
    "np.array([[1,2,3],[3,2,1]])"
   ]
  },
  {
   "cell_type": "markdown",
   "metadata": {},
   "source": [
    "Numpy can also easily create arrays of regular format. Use the `arange` function to create a vector with the numbers 0 to 19, and store it as `a1`"
   ]
  },
  {
   "cell_type": "code",
   "execution_count": 4,
   "metadata": {},
   "outputs": [
    {
     "data": {
      "text/plain": [
       "array([ 0,  1,  2,  3,  4,  5,  6,  7,  8,  9, 10, 11, 12, 13, 14, 15, 16,\n",
       "       17, 18, 19])"
      ]
     },
     "execution_count": 4,
     "metadata": {},
     "output_type": "execute_result"
    }
   ],
   "source": [
    "# create vector a1\n",
    "a1 = np.arange(20)\n",
    "a1"
   ]
  },
  {
   "cell_type": "markdown",
   "metadata": {},
   "source": [
    "Arrays have lots of methods you can use with them. Use the `reshape` method to turn the array into a 4x5 array, and store it as `a2`. Can you reshape it to 7x3? What happens if you try?"
   ]
  },
  {
   "cell_type": "code",
   "execution_count": 5,
   "metadata": {},
   "outputs": [
    {
     "data": {
      "text/plain": [
       "array([[ 0,  1,  2,  3,  4],\n",
       "       [ 5,  6,  7,  8,  9],\n",
       "       [10, 11, 12, 13, 14],\n",
       "       [15, 16, 17, 18, 19]])"
      ]
     },
     "execution_count": 5,
     "metadata": {},
     "output_type": "execute_result"
    }
   ],
   "source": [
    "# reshape a1 to 4x5 and store the result in a2\n",
    "a2 = a1.reshape(4,5)\n",
    "a2"
   ]
  },
  {
   "cell_type": "markdown",
   "metadata": {},
   "source": [
    "With any 2D array, we can reshape it with -1 to get it back to a vector. Try reshaping a2 to a vector (do not store it!)"
   ]
  },
  {
   "cell_type": "code",
   "execution_count": 6,
   "metadata": {},
   "outputs": [
    {
     "data": {
      "text/plain": [
       "array([ 0,  1,  2,  3,  4,  5,  6,  7,  8,  9, 10, 11, 12, 13, 14, 15, 16,\n",
       "       17, 18, 19])"
      ]
     },
     "execution_count": 6,
     "metadata": {},
     "output_type": "execute_result"
    }
   ],
   "source": [
    "a1.reshape(-1)"
   ]
  },
  {
   "cell_type": "markdown",
   "metadata": {},
   "source": [
    "### Indexing arrays\n",
    "\n",
    "Indexing arrays is similar to lists, except now we can specify a row and a column. \n",
    "Get the 2nd value in the 3rd row."
   ]
  },
  {
   "cell_type": "code",
   "execution_count": 7,
   "metadata": {},
   "outputs": [
    {
     "data": {
      "text/plain": [
       "11"
      ]
     },
     "execution_count": 7,
     "metadata": {},
     "output_type": "execute_result"
    }
   ],
   "source": [
    "a2[2,1]"
   ]
  },
  {
   "cell_type": "code",
   "execution_count": 8,
   "metadata": {},
   "outputs": [
    {
     "data": {
      "text/plain": [
       "11"
      ]
     },
     "execution_count": 8,
     "metadata": {},
     "output_type": "execute_result"
    }
   ],
   "source": [
    "a2[2][1]"
   ]
  },
  {
   "cell_type": "markdown",
   "metadata": {},
   "source": [
    "We can also slice arrays. Try extracting (from a2):\n",
    "* the 2nd row of the array `[5, 6, 7, 8, 9]`\n",
    "* the 3rd column of the array `[2, 7, 12, 17]`\n",
    "* the top-right 2x3 sub-array `[[3, 4], [8, 9] [13, 14]]`\n",
    "\n",
    "*Hint*: remember the `:` can be used to select all values in a row or column"
   ]
  },
  {
   "cell_type": "code",
   "execution_count": 17,
   "metadata": {},
   "outputs": [
    {
     "data": {
      "text/plain": [
       "array([5, 6, 7, 8, 9])"
      ]
     },
     "metadata": {},
     "output_type": "display_data"
    },
    {
     "data": {
      "text/plain": [
       "array([ 2,  7, 12, 17])"
      ]
     },
     "metadata": {},
     "output_type": "display_data"
    },
    {
     "data": {
      "text/plain": [
       "array([[ 3,  4],\n",
       "       [ 8,  9],\n",
       "       [13, 14]])"
      ]
     },
     "metadata": {},
     "output_type": "display_data"
    }
   ],
   "source": [
    "display(a2[1])\n",
    "display(a2[:,2])\n",
    "display(a2[:-1,3:])"
   ]
  },
  {
   "cell_type": "markdown",
   "metadata": {},
   "source": [
    "### Attributes and methods\n",
    "\n",
    "Arrays have a datatype, which we can check with the `dtype` *attribute*. Note, as it is an attribute, we do not call it!"
   ]
  },
  {
   "cell_type": "code",
   "execution_count": 18,
   "metadata": {},
   "outputs": [
    {
     "data": {
      "text/plain": [
       "dtype('int64')"
      ]
     },
     "execution_count": 18,
     "metadata": {},
     "output_type": "execute_result"
    }
   ],
   "source": [
    "a2.dtype"
   ]
  },
  {
   "cell_type": "markdown",
   "metadata": {},
   "source": [
    "Try dividing the array by two and storing it as a3, and then checking the dtype"
   ]
  },
  {
   "cell_type": "code",
   "execution_count": 19,
   "metadata": {},
   "outputs": [
    {
     "data": {
      "text/plain": [
       "array([[0. , 0.5, 1. , 1.5, 2. ],\n",
       "       [2.5, 3. , 3.5, 4. , 4.5],\n",
       "       [5. , 5.5, 6. , 6.5, 7. ],\n",
       "       [7.5, 8. , 8.5, 9. , 9.5]])"
      ]
     },
     "metadata": {},
     "output_type": "display_data"
    },
    {
     "data": {
      "text/plain": [
       "dtype('float64')"
      ]
     },
     "execution_count": 19,
     "metadata": {},
     "output_type": "execute_result"
    }
   ],
   "source": [
    "a3 = a2/2\n",
    "display(a3)\n",
    "a3.dtype"
   ]
  },
  {
   "cell_type": "markdown",
   "metadata": {},
   "source": [
    "Numpy arrays have several attributes and methods. Try checking the a3's `shape`. What about the `max` value? How about the index of the max value?"
   ]
  },
  {
   "cell_type": "code",
   "execution_count": 21,
   "metadata": {},
   "outputs": [
    {
     "data": {
      "text/plain": [
       "(4, 5)"
      ]
     },
     "metadata": {},
     "output_type": "display_data"
    },
    {
     "data": {
      "text/plain": [
       "9.5"
      ]
     },
     "metadata": {},
     "output_type": "display_data"
    },
    {
     "data": {
      "text/plain": [
       "19"
      ]
     },
     "metadata": {},
     "output_type": "display_data"
    },
    {
     "data": {
      "text/plain": [
       "0"
      ]
     },
     "metadata": {},
     "output_type": "display_data"
    }
   ],
   "source": [
    "display(a3.shape)\n",
    "display(a3.max())\n",
    "display(a3.argmax())\n",
    "display(a3.argmin())"
   ]
  },
  {
   "cell_type": "markdown",
   "metadata": {},
   "source": [
    "### Random numbers\n",
    "\n",
    "We can also use numpy to generate (pseudo) random numbers, using the `random` submodule. \n",
    "\n",
    "When generating random numbers, it is a good idea to set the `seed`, so that we can generate the same numbers when we repeat our experiments."
   ]
  },
  {
   "cell_type": "code",
   "execution_count": null,
   "metadata": {},
   "outputs": [],
   "source": [
    "np.random.seed(42)"
   ]
  },
  {
   "cell_type": "markdown",
   "metadata": {},
   "source": [
    "Create an array of uniform random floats the same shape as a3, between -2 and 2, using the `rand` method in the random submodule. Call it a4"
   ]
  },
  {
   "cell_type": "code",
   "execution_count": 22,
   "metadata": {},
   "outputs": [
    {
     "data": {
      "text/plain": [
       "array([[-0.50183952,  1.80285723,  0.92797577,  0.39463394, -1.37592544],\n",
       "       [-1.37602192, -1.76766555,  1.46470458,  0.40446005,  0.83229031],\n",
       "       [-1.91766202,  1.87963941,  1.32977056, -1.15064356, -1.27270013],\n",
       "       [-1.26638196, -0.78303103,  0.09902573, -0.27221993, -0.83508344]])"
      ]
     },
     "execution_count": 22,
     "metadata": {},
     "output_type": "execute_result"
    }
   ],
   "source": [
    "np.random.seed(42)\n",
    "# create a4\n",
    "a4 = 4*(np.random.rand(4,5)-0.5)\n",
    "a4"
   ]
  },
  {
   "cell_type": "markdown",
   "metadata": {},
   "source": [
    "Try calculating the mean and variance (using `sum` and `size`)\n",
    "\n",
    "Compare the answers you get to using the `mean` and `var` methods"
   ]
  },
  {
   "cell_type": "code",
   "execution_count": 23,
   "metadata": {},
   "outputs": [
    {
     "data": {
      "text/plain": [
       "-0.16919084640885784"
      ]
     },
     "metadata": {},
     "output_type": "display_data"
    },
    {
     "data": {
      "text/plain": [
       "-0.16919084640885784"
      ]
     },
     "metadata": {},
     "output_type": "display_data"
    },
    {
     "data": {
      "text/plain": [
       "1.4390023674376569"
      ]
     },
     "metadata": {},
     "output_type": "display_data"
    },
    {
     "data": {
      "text/plain": [
       "1.439002367437657"
      ]
     },
     "metadata": {},
     "output_type": "display_data"
    }
   ],
   "source": [
    "a4_mean = a4.sum()/a4.size\n",
    "a4_var = (a4**2).sum()/a4.size - a4_mean**2\n",
    "display(a4_mean)\n",
    "display(a4.mean())\n",
    "display(a4_var)\n",
    "display(a4.var())"
   ]
  },
  {
   "cell_type": "markdown",
   "metadata": {},
   "source": [
    "### Boolean arrays and indexing\n",
    "\n",
    "We can use boolean conditions, e.g. `==` (is equal to) and `=<` (is equal to or greater than) on arrays to create boolean arrays.\n",
    "\n",
    "Try creating a boolean array of all the values larger than 1 in `a4`"
   ]
  },
  {
   "cell_type": "code",
   "execution_count": 24,
   "metadata": {},
   "outputs": [
    {
     "data": {
      "text/plain": [
       "array([[False,  True, False, False, False],\n",
       "       [False, False,  True, False, False],\n",
       "       [False,  True,  True, False, False],\n",
       "       [False, False, False, False, False]])"
      ]
     },
     "execution_count": 24,
     "metadata": {},
     "output_type": "execute_result"
    }
   ],
   "source": [
    "a4>1"
   ]
  },
  {
   "cell_type": "markdown",
   "metadata": {},
   "source": [
    "A boolean array can be used a *mask*, which extracts only the elements with a true value, as follows:\n",
    "    \n",
    "    <array>[<boolean_mask>]\n",
    "    \n",
    "Try extracting all of the values in a4 smaller than -1"
   ]
  },
  {
   "cell_type": "code",
   "execution_count": 25,
   "metadata": {},
   "outputs": [
    {
     "data": {
      "text/plain": [
       "array([-1.37592544, -1.37602192, -1.76766555, -1.91766202, -1.15064356,\n",
       "       -1.27270013, -1.26638196])"
      ]
     },
     "execution_count": 25,
     "metadata": {},
     "output_type": "execute_result"
    }
   ],
   "source": [
    "a4[a4<-1]"
   ]
  },
  {
   "cell_type": "markdown",
   "metadata": {},
   "source": [
    "## Plotting\n",
    "\n",
    "As with `numpy`, python borrows its primary plotting interface from matlab.\n",
    "\n",
    "The main library for plotting in python is `matplotlib`. Matplotlib has multiple interfaces, the most commonly used is the `pyplot` interface. We normally give it the alias `plt`"
   ]
  },
  {
   "cell_type": "code",
   "execution_count": 26,
   "metadata": {},
   "outputs": [],
   "source": [
    "import matplotlib.pyplot as plt"
   ]
  },
  {
   "cell_type": "markdown",
   "metadata": {},
   "source": [
    "We can generate a plot with `plt.plot()`. Try plotting the array `a4` and see what happens. Can you explain the plot?"
   ]
  },
  {
   "cell_type": "code",
   "execution_count": 28,
   "metadata": {},
   "outputs": [
    {
     "data": {
      "text/plain": [
       "[<matplotlib.lines.Line2D at 0x10f0dc190>,\n",
       " <matplotlib.lines.Line2D at 0x10f0dc1f0>,\n",
       " <matplotlib.lines.Line2D at 0x10f0dc220>,\n",
       " <matplotlib.lines.Line2D at 0x10f0dc310>,\n",
       " <matplotlib.lines.Line2D at 0x10f0dc400>]"
      ]
     },
     "execution_count": 28,
     "metadata": {},
     "output_type": "execute_result"
    },
    {
     "data": {
      "image/png": "[encoded data removed]",
      "text/plain": [
       "<Figure size 640x480 with 1 Axes>"
      ]
     },
     "metadata": {},
     "output_type": "display_data"
    }
   ],
   "source": [
    "plt.plot(a4)"
   ]
  },
  {
   "cell_type": "code",
   "execution_count": 38,
   "metadata": {},
   "outputs": [
    {
     "data": {
      "text/plain": [
       "[<matplotlib.lines.Line2D at 0x10f411be0>,\n",
       " <matplotlib.lines.Line2D at 0x10f411c40>,\n",
       " <matplotlib.lines.Line2D at 0x10f411c70>,\n",
       " <matplotlib.lines.Line2D at 0x10f411d60>]"
      ]
     },
     "execution_count": 38,
     "metadata": {},
     "output_type": "execute_result"
    },
    {
     "data": {
      "image/png": "[encoded data removed]",
      "text/plain": [
       "<Figure size 640x480 with 1 Axes>"
      ]
     },
     "metadata": {},
     "output_type": "display_data"
    }
   ],
   "source": [
    "plt.plot(a4.T)"
   ]
  },
  {
   "cell_type": "code",
   "execution_count": 39,
   "metadata": {},
   "outputs": [],
   "source": [
    "a5 = np.array([[1, 2, 3, 4],\n",
    "              [5, 6, 7, 8]])"
   ]
  },
  {
   "cell_type": "code",
   "execution_count": 40,
   "metadata": {},
   "outputs": [
    {
     "data": {
      "text/plain": [
       "array([[1, 5],\n",
       "       [2, 6],\n",
       "       [3, 7],\n",
       "       [4, 8]])"
      ]
     },
     "execution_count": 40,
     "metadata": {},
     "output_type": "execute_result"
    }
   ],
   "source": [
    "a5.T"
   ]
  },
  {
   "cell_type": "code",
   "execution_count": 42,
   "metadata": {},
   "outputs": [
    {
     "data": {
      "text/plain": [
       "[<matplotlib.lines.Line2D at 0x10f5386d0>,\n",
       " <matplotlib.lines.Line2D at 0x10f538730>]"
      ]
     },
     "execution_count": 42,
     "metadata": {},
     "output_type": "execute_result"
    },
    {
     "data": {
      "image/png": "[encoded data removed]",
      "text/plain": [
       "<Figure size 640x480 with 1 Axes>"
      ]
     },
     "metadata": {},
     "output_type": "display_data"
    }
   ],
   "source": [
    "plt.plot(a5.T)"
   ]
  },
  {
   "cell_type": "markdown",
   "metadata": {},
   "source": [
    "Try adding a3 and a4 and plotting all of the data as a single line. Remember we can *reshape* a 2D array into a vector"
   ]
  },
  {
   "cell_type": "code",
   "execution_count": 29,
   "metadata": {},
   "outputs": [
    {
     "data": {
      "text/plain": [
       "[<matplotlib.lines.Line2D at 0x10f2639d0>]"
      ]
     },
     "execution_count": 29,
     "metadata": {},
     "output_type": "execute_result"
    },
    {
     "data": {
      "image/png": "[encoded data removed]",
      "text/plain": [
       "<Figure size 640x480 with 1 Axes>"
      ]
     },
     "metadata": {},
     "output_type": "display_data"
    }
   ],
   "source": [
    "plt.plot((a3+a4).reshape(-1))"
   ]
  },
  {
   "cell_type": "markdown",
   "metadata": {},
   "source": [
    "## Exercise\n",
    "\n",
    "You will need to use the matplotlib documentation to achieve this! Feel free to work together and ask for help!\n",
    "\n",
    "You are going to try and recreate the following plot:\n",
    "\n",
    "![](https://github.com/kimdanny/RSPW-23/blob/main/data/day2-example-plot.jpg?raw=true)\n",
    "\n",
    "* Use the numpy random module to generate a 2x500 array of normally distributed numbers with mean 10 and standard deviation 20. Use the random seed 404 to generate the random points\n",
    "* Plot the data as a 2D scatter plot (so that each column represents one data point x, y, z). Use orange crosses for the data points. Add the label 'data' to the points\n",
    "* Add the mean to the plot as a large blue dot. Add the label 'mean' to the plot.\n",
    "* Label the axis 'x' and 'y'.\n",
    "* Add a legend\n",
    "* Save the plot as normal_scatter.jpeg"
   ]
  },
  {
   "cell_type": "code",
   "execution_count": 32,
   "metadata": {},
   "outputs": [
    {
     "data": {
      "image/png": "[encoded data removed]",
      "text/plain": [
       "<Figure size 640x480 with 1 Axes>"
      ]
     },
     "metadata": {},
     "output_type": "display_data"
    }
   ],
   "source": [
    "np.random.seed(404)\n",
    "points = 20*np.random.standard_normal((2,500))+10\n",
    "plt.scatter(points[0],points[1], marker='x', color='orange', label='data')\n",
    "plt.scatter(points[0].mean(), points[1].mean(), color='blue', marker='o', s=100, label='mean')\n",
    "plt.xlabel('x')\n",
    "plt.ylabel('y')\n",
    "plt.legend()\n",
    "plt.show()"
   ]
  },
  {
   "cell_type": "code",
   "execution_count": null,
   "metadata": {},
   "outputs": [],
   "source": []
  },
  {
   "cell_type": "markdown",
   "metadata": {},
   "source": [
    "### Want to learn more?\n",
    "Helpful websites for your further study of NumPy:\n",
    "- [A Visual Intro to NumPy and Data Representation](https://jalammar.github.io/visual-numpy/?fbclid=IwAR2MT-imY4dKpUcfHWfjdPOROUBadObVO7Wftf1detHWZCxSwNeA5paVI08)\n",
    "- [Stanford CS231n Python Numpy Tutorial](http://cs231n.github.io/python-numpy-tutorial/)\n",
    "- [DataCamp Python Numpy Array Tutorial](https://www.datacamp.com/community/tutorials/python-numpy-tutorial)\n",
    "- [Machine Learning Plus 101 Numpy Exercises for Data Analysis (Python)](https://www.machinelearningplus.com/python/101-numpy-exercises-python/)"
   ]
  }
 ],
 "metadata": {
  "kernelspec": {
   "display_name": "Python 3 (ipykernel)",
   "language": "python",
   "name": "python3"
  },
  "language_info": {
   "codemirror_mode": {
    "name": "ipython",
    "version": 3
   },
   "file_extension": ".py",
   "mimetype": "text/x-python",
   "name": "python",
   "nbconvert_exporter": "python",
   "pygments_lexer": "ipython3",
   "version": "3.8.13"
  }
 },
 "nbformat": 4,
 "nbformat_minor": 2
}
