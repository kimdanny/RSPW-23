{
 "cells": [
  {
   "cell_type": "markdown",
   "metadata": {},
   "source": [
    "# Day 3 - Machine Learning\n",
    "## Model Selection and Assessment\n",
    "\n",
    "### After learning from this notebook you will be able to ...\n",
    "- encode categorical values with one-hot encoding\n",
    "- know which encoding, scaling, and imputing method you should select in accordacne with the dataset characteristics\n",
    "- impute missing data with KNN\n",
    "- know how to streamline the preprocessing steps in advanced way (Pipeline and ColmnTransformer)\n",
    "- select best model based on various cross-validation methods\n",
    "\n",
    "### Acknowledgements\n",
    "- https://github.com/kimdanny/COMP0189-practical"
   ]
  },
  {
   "cell_type": "code",
   "execution_count": null,
   "metadata": {
    "scrolled": true
   },
   "outputs": [],
   "source": [
    "# Optional: For black-style code formatting within the notebook env.\n",
    "!pip install nb-black"
   ]
  },
  {
   "cell_type": "code",
   "execution_count": 2,
   "metadata": {},
   "outputs": [
    {
     "data": {
      "application/javascript": [
       "\n",
       "            setTimeout(function() {\n",
       "                var nbb_cell_id = 2;\n",
       "                var nbb_unformatted_code = \"# Optional: For black-style code formatting within the notebook env.\\n%load_ext nb_black\";\n",
       "                var nbb_formatted_code = \"# Optional: For black-style code formatting within the notebook env.\\n%load_ext nb_black\";\n",
       "                var nbb_cells = Jupyter.notebook.get_cells();\n",
       "                for (var i = 0; i < nbb_cells.length; ++i) {\n",
       "                    if (nbb_cells[i].input_prompt_number == nbb_cell_id) {\n",
       "                        if (nbb_cells[i].get_text() == nbb_unformatted_code) {\n",
       "                             nbb_cells[i].set_text(nbb_formatted_code);\n",
       "                        }\n",
       "                        break;\n",
       "                    }\n",
       "                }\n",
       "            }, 500);\n",
       "            "
      ],
      "text/plain": [
       "<IPython.core.display.Javascript object>"
      ]
     },
     "metadata": {},
     "output_type": "display_data"
    }
   ],
   "source": [
    "# Optional: For black-style code formatting within the notebook env.\n",
    "%load_ext nb_black"
   ]
  },
  {
   "cell_type": "code",
   "execution_count": 3,
   "metadata": {},
   "outputs": [
    {
     "data": {
      "application/javascript": [
       "\n",
       "            setTimeout(function() {\n",
       "                var nbb_cell_id = 3;\n",
       "                var nbb_unformatted_code = \"import numpy as np\\nimport pandas as pd\\nimport matplotlib.pyplot as plt\";\n",
       "                var nbb_formatted_code = \"import numpy as np\\nimport pandas as pd\\nimport matplotlib.pyplot as plt\";\n",
       "                var nbb_cells = Jupyter.notebook.get_cells();\n",
       "                for (var i = 0; i < nbb_cells.length; ++i) {\n",
       "                    if (nbb_cells[i].input_prompt_number == nbb_cell_id) {\n",
       "                        if (nbb_cells[i].get_text() == nbb_unformatted_code) {\n",
       "                             nbb_cells[i].set_text(nbb_formatted_code);\n",
       "                        }\n",
       "                        break;\n",
       "                    }\n",
       "                }\n",
       "            }, 500);\n",
       "            "
      ],
      "text/plain": [
       "<IPython.core.display.Javascript object>"
      ]
     },
     "metadata": {},
     "output_type": "display_data"
    }
   ],
   "source": [
    "import numpy as np\n",
    "import pandas as pd\n",
    "import matplotlib.pyplot as plt"
   ]
  },
  {
   "cell_type": "markdown",
   "metadata": {},
   "source": [
    "## Part 1: Encoding and Imputations"
   ]
  },
  {
   "cell_type": "markdown",
   "metadata": {},
   "source": [
    "### Task 1: Load and Split the Dataset into train and test"
   ]
  },
  {
   "cell_type": "code",
   "execution_count": 5,
   "metadata": {
    "scrolled": false
   },
   "outputs": [
    {
     "data": {
      "text/html": [
       "<div>\n",
       "<style scoped>\n",
       "    .dataframe tbody tr th:only-of-type {\n",
       "        vertical-align: middle;\n",
       "    }\n",
       "\n",
       "    .dataframe tbody tr th {\n",
       "        vertical-align: top;\n",
       "    }\n",
       "\n",
       "    .dataframe thead th {\n",
       "        text-align: right;\n",
       "    }\n",
       "</style>\n",
       "<table border=\"1\" class=\"dataframe\">\n",
       "  <thead>\n",
       "    <tr style=\"text-align: right;\">\n",
       "      <th></th>\n",
       "      <th>Age</th>\n",
       "      <th>Workclass</th>\n",
       "      <th>Fnlwgt</th>\n",
       "      <th>Education</th>\n",
       "      <th>Education-num</th>\n",
       "      <th>Marital-status</th>\n",
       "      <th>Occupation</th>\n",
       "      <th>Relationship</th>\n",
       "      <th>Race</th>\n",
       "      <th>Sex</th>\n",
       "      <th>Capital-gain</th>\n",
       "      <th>Capital-loss</th>\n",
       "      <th>Hours-per-week</th>\n",
       "      <th>Native-country</th>\n",
       "      <th>Y</th>\n",
       "    </tr>\n",
       "  </thead>\n",
       "  <tbody>\n",
       "    <tr>\n",
       "      <th>0</th>\n",
       "      <td>39</td>\n",
       "      <td>State-gov</td>\n",
       "      <td>77516</td>\n",
       "      <td>Bachelors</td>\n",
       "      <td>13</td>\n",
       "      <td>Never-married</td>\n",
       "      <td>Adm-clerical</td>\n",
       "      <td>Not-in-family</td>\n",
       "      <td>White</td>\n",
       "      <td>Male</td>\n",
       "      <td>2174</td>\n",
       "      <td>0</td>\n",
       "      <td>40</td>\n",
       "      <td>United-States</td>\n",
       "      <td>&lt;=50K</td>\n",
       "    </tr>\n",
       "    <tr>\n",
       "      <th>1</th>\n",
       "      <td>50</td>\n",
       "      <td>Self-emp-not-inc</td>\n",
       "      <td>83311</td>\n",
       "      <td>Bachelors</td>\n",
       "      <td>13</td>\n",
       "      <td>Married-civ-spouse</td>\n",
       "      <td>Exec-managerial</td>\n",
       "      <td>Husband</td>\n",
       "      <td>White</td>\n",
       "      <td>Male</td>\n",
       "      <td>0</td>\n",
       "      <td>0</td>\n",
       "      <td>13</td>\n",
       "      <td>United-States</td>\n",
       "      <td>&lt;=50K</td>\n",
       "    </tr>\n",
       "    <tr>\n",
       "      <th>2</th>\n",
       "      <td>38</td>\n",
       "      <td>Private</td>\n",
       "      <td>215646</td>\n",
       "      <td>HS-grad</td>\n",
       "      <td>9</td>\n",
       "      <td>Divorced</td>\n",
       "      <td>Handlers-cleaners</td>\n",
       "      <td>Not-in-family</td>\n",
       "      <td>White</td>\n",
       "      <td>Male</td>\n",
       "      <td>0</td>\n",
       "      <td>0</td>\n",
       "      <td>40</td>\n",
       "      <td>United-States</td>\n",
       "      <td>&lt;=50K</td>\n",
       "    </tr>\n",
       "    <tr>\n",
       "      <th>3</th>\n",
       "      <td>53</td>\n",
       "      <td>Private</td>\n",
       "      <td>234721</td>\n",
       "      <td>11th</td>\n",
       "      <td>7</td>\n",
       "      <td>Married-civ-spouse</td>\n",
       "      <td>Handlers-cleaners</td>\n",
       "      <td>Husband</td>\n",
       "      <td>Black</td>\n",
       "      <td>Male</td>\n",
       "      <td>0</td>\n",
       "      <td>0</td>\n",
       "      <td>40</td>\n",
       "      <td>United-States</td>\n",
       "      <td>&lt;=50K</td>\n",
       "    </tr>\n",
       "    <tr>\n",
       "      <th>4</th>\n",
       "      <td>28</td>\n",
       "      <td>Private</td>\n",
       "      <td>338409</td>\n",
       "      <td>Bachelors</td>\n",
       "      <td>13</td>\n",
       "      <td>Married-civ-spouse</td>\n",
       "      <td>Prof-specialty</td>\n",
       "      <td>Wife</td>\n",
       "      <td>Black</td>\n",
       "      <td>Female</td>\n",
       "      <td>0</td>\n",
       "      <td>0</td>\n",
       "      <td>40</td>\n",
       "      <td>Cuba</td>\n",
       "      <td>&lt;=50K</td>\n",
       "    </tr>\n",
       "    <tr>\n",
       "      <th>...</th>\n",
       "      <td>...</td>\n",
       "      <td>...</td>\n",
       "      <td>...</td>\n",
       "      <td>...</td>\n",
       "      <td>...</td>\n",
       "      <td>...</td>\n",
       "      <td>...</td>\n",
       "      <td>...</td>\n",
       "      <td>...</td>\n",
       "      <td>...</td>\n",
       "      <td>...</td>\n",
       "      <td>...</td>\n",
       "      <td>...</td>\n",
       "      <td>...</td>\n",
       "      <td>...</td>\n",
       "    </tr>\n",
       "    <tr>\n",
       "      <th>32556</th>\n",
       "      <td>27</td>\n",
       "      <td>Private</td>\n",
       "      <td>257302</td>\n",
       "      <td>Assoc-acdm</td>\n",
       "      <td>12</td>\n",
       "      <td>Married-civ-spouse</td>\n",
       "      <td>Tech-support</td>\n",
       "      <td>Wife</td>\n",
       "      <td>White</td>\n",
       "      <td>Female</td>\n",
       "      <td>0</td>\n",
       "      <td>0</td>\n",
       "      <td>38</td>\n",
       "      <td>United-States</td>\n",
       "      <td>&lt;=50K</td>\n",
       "    </tr>\n",
       "    <tr>\n",
       "      <th>32557</th>\n",
       "      <td>40</td>\n",
       "      <td>Private</td>\n",
       "      <td>154374</td>\n",
       "      <td>HS-grad</td>\n",
       "      <td>9</td>\n",
       "      <td>Married-civ-spouse</td>\n",
       "      <td>Machine-op-inspct</td>\n",
       "      <td>Husband</td>\n",
       "      <td>White</td>\n",
       "      <td>Male</td>\n",
       "      <td>0</td>\n",
       "      <td>0</td>\n",
       "      <td>40</td>\n",
       "      <td>United-States</td>\n",
       "      <td>&gt;50K</td>\n",
       "    </tr>\n",
       "    <tr>\n",
       "      <th>32558</th>\n",
       "      <td>58</td>\n",
       "      <td>Private</td>\n",
       "      <td>151910</td>\n",
       "      <td>HS-grad</td>\n",
       "      <td>9</td>\n",
       "      <td>Widowed</td>\n",
       "      <td>Adm-clerical</td>\n",
       "      <td>Unmarried</td>\n",
       "      <td>White</td>\n",
       "      <td>Female</td>\n",
       "      <td>0</td>\n",
       "      <td>0</td>\n",
       "      <td>40</td>\n",
       "      <td>United-States</td>\n",
       "      <td>&lt;=50K</td>\n",
       "    </tr>\n",
       "    <tr>\n",
       "      <th>32559</th>\n",
       "      <td>22</td>\n",
       "      <td>Private</td>\n",
       "      <td>201490</td>\n",
       "      <td>HS-grad</td>\n",
       "      <td>9</td>\n",
       "      <td>Never-married</td>\n",
       "      <td>Adm-clerical</td>\n",
       "      <td>Own-child</td>\n",
       "      <td>White</td>\n",
       "      <td>Male</td>\n",
       "      <td>0</td>\n",
       "      <td>0</td>\n",
       "      <td>20</td>\n",
       "      <td>United-States</td>\n",
       "      <td>&lt;=50K</td>\n",
       "    </tr>\n",
       "    <tr>\n",
       "      <th>32560</th>\n",
       "      <td>52</td>\n",
       "      <td>Self-emp-inc</td>\n",
       "      <td>287927</td>\n",
       "      <td>HS-grad</td>\n",
       "      <td>9</td>\n",
       "      <td>Married-civ-spouse</td>\n",
       "      <td>Exec-managerial</td>\n",
       "      <td>Wife</td>\n",
       "      <td>White</td>\n",
       "      <td>Female</td>\n",
       "      <td>15024</td>\n",
       "      <td>0</td>\n",
       "      <td>40</td>\n",
       "      <td>United-States</td>\n",
       "      <td>&gt;50K</td>\n",
       "    </tr>\n",
       "  </tbody>\n",
       "</table>\n",
       "<p>32561 rows × 15 columns</p>\n",
       "</div>"
      ],
      "text/plain": [
       "       Age         Workclass  Fnlwgt   Education  Education-num  \\\n",
       "0       39         State-gov   77516   Bachelors             13   \n",
       "1       50  Self-emp-not-inc   83311   Bachelors             13   \n",
       "2       38           Private  215646     HS-grad              9   \n",
       "3       53           Private  234721        11th              7   \n",
       "4       28           Private  338409   Bachelors             13   \n",
       "...    ...               ...     ...         ...            ...   \n",
       "32556   27           Private  257302  Assoc-acdm             12   \n",
       "32557   40           Private  154374     HS-grad              9   \n",
       "32558   58           Private  151910     HS-grad              9   \n",
       "32559   22           Private  201490     HS-grad              9   \n",
       "32560   52      Self-emp-inc  287927     HS-grad              9   \n",
       "\n",
       "           Marital-status         Occupation   Relationship    Race     Sex  \\\n",
       "0           Never-married       Adm-clerical  Not-in-family   White    Male   \n",
       "1      Married-civ-spouse    Exec-managerial        Husband   White    Male   \n",
       "2                Divorced  Handlers-cleaners  Not-in-family   White    Male   \n",
       "3      Married-civ-spouse  Handlers-cleaners        Husband   Black    Male   \n",
       "4      Married-civ-spouse     Prof-specialty           Wife   Black  Female   \n",
       "...                   ...                ...            ...     ...     ...   \n",
       "32556  Married-civ-spouse       Tech-support           Wife   White  Female   \n",
       "32557  Married-civ-spouse  Machine-op-inspct        Husband   White    Male   \n",
       "32558             Widowed       Adm-clerical      Unmarried   White  Female   \n",
       "32559       Never-married       Adm-clerical      Own-child   White    Male   \n",
       "32560  Married-civ-spouse    Exec-managerial           Wife   White  Female   \n",
       "\n",
       "       Capital-gain  Capital-loss  Hours-per-week Native-country      Y  \n",
       "0              2174             0              40  United-States  <=50K  \n",
       "1                 0             0              13  United-States  <=50K  \n",
       "2                 0             0              40  United-States  <=50K  \n",
       "3                 0             0              40  United-States  <=50K  \n",
       "4                 0             0              40           Cuba  <=50K  \n",
       "...             ...           ...             ...            ...    ...  \n",
       "32556             0             0              38  United-States  <=50K  \n",
       "32557             0             0              40  United-States   >50K  \n",
       "32558             0             0              40  United-States  <=50K  \n",
       "32559             0             0              20  United-States  <=50K  \n",
       "32560         15024             0              40  United-States   >50K  \n",
       "\n",
       "[32561 rows x 15 columns]"
      ]
     },
     "execution_count": 5,
     "metadata": {},
     "output_type": "execute_result"
    },
    {
     "data": {
      "application/javascript": [
       "\n",
       "            setTimeout(function() {\n",
       "                var nbb_cell_id = 5;\n",
       "                var nbb_unformatted_code = \"# TASK 1: Load Dataset\\n# We are going to use the same adult dataset as previous notebook,\\n# but now we have cleaned the dataset for you. However, we did not touch the missing values.\\ndf = pd.read_csv(\\\"../../data/clean_adult.csv\\\")\\ndf\";\n",
       "                var nbb_formatted_code = \"# TASK 1: Load Dataset\\n# We are going to use the same adult dataset as previous notebook,\\n# but now we have cleaned the dataset for you. However, we did not touch the missing values.\\ndf = pd.read_csv(\\\"../../data/clean_adult.csv\\\")\\ndf\";\n",
       "                var nbb_cells = Jupyter.notebook.get_cells();\n",
       "                for (var i = 0; i < nbb_cells.length; ++i) {\n",
       "                    if (nbb_cells[i].input_prompt_number == nbb_cell_id) {\n",
       "                        if (nbb_cells[i].get_text() == nbb_unformatted_code) {\n",
       "                             nbb_cells[i].set_text(nbb_formatted_code);\n",
       "                        }\n",
       "                        break;\n",
       "                    }\n",
       "                }\n",
       "            }, 500);\n",
       "            "
      ],
      "text/plain": [
       "<IPython.core.display.Javascript object>"
      ]
     },
     "metadata": {},
     "output_type": "display_data"
    }
   ],
   "source": [
    "# TASK 1: Load Dataset\n",
    "# We are going to use the same adult dataset as previous notebook,\n",
    "# but now we have cleaned the dataset for you. However, we did not touch the missing values.\n",
    "df = pd.read_csv(\"../../data/clean_adult.csv\")\n",
    "df"
   ]
  },
  {
   "cell_type": "code",
   "execution_count": 6,
   "metadata": {},
   "outputs": [
    {
     "data": {
      "application/javascript": [
       "\n",
       "            setTimeout(function() {\n",
       "                var nbb_cell_id = 6;\n",
       "                var nbb_unformatted_code = \"def train_test_split_df(df, test_ratio=0.1, target_col=\\\"Y\\\"):\\n    df_data = df.drop([target_col], axis=1)\\n    df_target = df[target_col]\\n\\n    split_index = int(len(df) * (1 - test_ratio))\\n    print(f\\\"Splitting from index {split_index}\\\")\\n\\n    train_X_df = df_data[:split_index]\\n    test_X_df = df_data[split_index:]\\n    train_y_df = df_target[:split_index]\\n    test_y_df = df_target[split_index:]\\n\\n    train_y_df = np.where(train_y_df == \\\">50K\\\", 1, 0)\\n    test_y_df = np.where(test_y_df == \\\">50K\\\", 1, 0)\\n\\n    return train_X_df, train_y_df, test_X_df, test_y_df\";\n",
       "                var nbb_formatted_code = \"def train_test_split_df(df, test_ratio=0.1, target_col=\\\"Y\\\"):\\n    df_data = df.drop([target_col], axis=1)\\n    df_target = df[target_col]\\n\\n    split_index = int(len(df) * (1 - test_ratio))\\n    print(f\\\"Splitting from index {split_index}\\\")\\n\\n    train_X_df = df_data[:split_index]\\n    test_X_df = df_data[split_index:]\\n    train_y_df = df_target[:split_index]\\n    test_y_df = df_target[split_index:]\\n\\n    train_y_df = np.where(train_y_df == \\\">50K\\\", 1, 0)\\n    test_y_df = np.where(test_y_df == \\\">50K\\\", 1, 0)\\n\\n    return train_X_df, train_y_df, test_X_df, test_y_df\";\n",
       "                var nbb_cells = Jupyter.notebook.get_cells();\n",
       "                for (var i = 0; i < nbb_cells.length; ++i) {\n",
       "                    if (nbb_cells[i].input_prompt_number == nbb_cell_id) {\n",
       "                        if (nbb_cells[i].get_text() == nbb_unformatted_code) {\n",
       "                             nbb_cells[i].set_text(nbb_formatted_code);\n",
       "                        }\n",
       "                        break;\n",
       "                    }\n",
       "                }\n",
       "            }, 500);\n",
       "            "
      ],
      "text/plain": [
       "<IPython.core.display.Javascript object>"
      ]
     },
     "metadata": {},
     "output_type": "display_data"
    }
   ],
   "source": [
    "def train_test_split_df(df, test_ratio=0.1, target_col=\"Y\"):\n",
    "    df_data = df.drop([target_col], axis=1)\n",
    "    df_target = df[target_col]\n",
    "\n",
    "    split_index = int(len(df) * (1 - test_ratio))\n",
    "    print(f\"Splitting from index {split_index}\")\n",
    "\n",
    "    train_X_df = df_data[:split_index]\n",
    "    test_X_df = df_data[split_index:]\n",
    "    train_y_df = df_target[:split_index]\n",
    "    test_y_df = df_target[split_index:]\n",
    "\n",
    "    train_y_df = np.where(train_y_df == \">50K\", 1, 0)\n",
    "    test_y_df = np.where(test_y_df == \">50K\", 1, 0)\n",
    "\n",
    "    return train_X_df, train_y_df, test_X_df, test_y_df"
   ]
  },
  {
   "cell_type": "code",
   "execution_count": 7,
   "metadata": {},
   "outputs": [
    {
     "name": "stdout",
     "output_type": "stream",
     "text": [
      "Splitting from index 29304\n"
     ]
    },
    {
     "data": {
      "application/javascript": [
       "\n",
       "            setTimeout(function() {\n",
       "                var nbb_cell_id = 7;\n",
       "                var nbb_unformatted_code = \"# Splitting dataset into train and test\\ntrain_X_df, train_y_df, test_X_df, test_y_df = train_test_split_df(df)\";\n",
       "                var nbb_formatted_code = \"# Splitting dataset into train and test\\ntrain_X_df, train_y_df, test_X_df, test_y_df = train_test_split_df(df)\";\n",
       "                var nbb_cells = Jupyter.notebook.get_cells();\n",
       "                for (var i = 0; i < nbb_cells.length; ++i) {\n",
       "                    if (nbb_cells[i].input_prompt_number == nbb_cell_id) {\n",
       "                        if (nbb_cells[i].get_text() == nbb_unformatted_code) {\n",
       "                             nbb_cells[i].set_text(nbb_formatted_code);\n",
       "                        }\n",
       "                        break;\n",
       "                    }\n",
       "                }\n",
       "            }, 500);\n",
       "            "
      ],
      "text/plain": [
       "<IPython.core.display.Javascript object>"
      ]
     },
     "metadata": {},
     "output_type": "display_data"
    }
   ],
   "source": [
    "# Splitting dataset into train and test\n",
    "train_X_df, train_y_df, test_X_df, test_y_df = train_test_split_df(df)"
   ]
  },
  {
   "cell_type": "markdown",
   "metadata": {},
   "source": [
    "### Task 2: Encode categorical variables (label/ordinal encoding & one-hot encoding)"
   ]
  },
  {
   "cell_type": "markdown",
   "metadata": {},
   "source": [
    "### Important: We need special care when we are encoding categorical variables \n",
    "\n",
    "**1. Take care of the missing values**\n",
    "- Beware not to encode missing values unless you are intending to do so.\n",
    "- Sometimes you want to encode missing values to a separate cateogory. For example, when you want to predict if passengers of titanic had survived or not, missing data of certain features can actually have meaning, i.e., Cabin information can be missing because the body was not found.\n",
    "\n",
    "**2. Know which encoding and scaling method you should select**\n",
    "- If your categories are ordinal, then it makes sense to use a LabelEncoder with a MinMaxScaler. For example, you can encode [low, medium, high], as [1,2,3], i.e., distance between low to high is larger than that of medium and high.\n",
    "\n",
    "- However, if you have non-ordinal categorical values, like [White, Hispanic, Black, Asian], then it would be better to use a OneHotEncoder instead of forcing ordinality with a LabelEncoder. Otherwise the algorithms you use (especially distance based algorithms like KNN) will make the assumption that the distance between White and Asian is larger than White and Hispanic, which is nonsensical.\n",
    "\n",
    "**3. Split before you encode to avoid data leakage**\n",
    "- Split the dataset before you encode your data. It is natural for algorithms to see unknown values in the validation/test set that was not appearing in the train set. `sklearn.preprocessing.OneHotEncoder` is good at handling these unknown categories (`handle_unknown` parameter).\n",
    "\n",
    "- Discussion: What if you are certain about all the possible categories that can appear for each feature? Can you encode all the values before splitting the dataset into train and test set?\n",
    "\n",
    "\n",
    "This notebook shows the three points in the following sections with examples."
   ]
  },
  {
   "cell_type": "markdown",
   "metadata": {},
   "source": [
    "### Task 2-1: Label Encoding (with missing values)"
   ]
  },
  {
   "cell_type": "code",
   "execution_count": 9,
   "metadata": {},
   "outputs": [
    {
     "data": {
      "application/javascript": [
       "\n",
       "            setTimeout(function() {\n",
       "                var nbb_cell_id = 9;\n",
       "                var nbb_unformatted_code = \"from sklearn.preprocessing import LabelEncoder, OrdinalEncoder, OneHotEncoder\\n\\nlabel_encoder = LabelEncoder()\";\n",
       "                var nbb_formatted_code = \"from sklearn.preprocessing import LabelEncoder, OrdinalEncoder, OneHotEncoder\\n\\nlabel_encoder = LabelEncoder()\";\n",
       "                var nbb_cells = Jupyter.notebook.get_cells();\n",
       "                for (var i = 0; i < nbb_cells.length; ++i) {\n",
       "                    if (nbb_cells[i].input_prompt_number == nbb_cell_id) {\n",
       "                        if (nbb_cells[i].get_text() == nbb_unformatted_code) {\n",
       "                             nbb_cells[i].set_text(nbb_formatted_code);\n",
       "                        }\n",
       "                        break;\n",
       "                    }\n",
       "                }\n",
       "            }, 500);\n",
       "            "
      ],
      "text/plain": [
       "<IPython.core.display.Javascript object>"
      ]
     },
     "metadata": {},
     "output_type": "display_data"
    }
   ],
   "source": [
    "from sklearn.preprocessing import LabelEncoder, OrdinalEncoder, OneHotEncoder\n",
    "\n",
    "label_encoder = LabelEncoder()"
   ]
  },
  {
   "cell_type": "code",
   "execution_count": 10,
   "metadata": {},
   "outputs": [
    {
     "data": {
      "text/plain": [
       "Age                  0\n",
       "Workclass         1638\n",
       "Fnlwgt               0\n",
       "Education            0\n",
       "Education-num        0\n",
       "Marital-status       0\n",
       "Occupation        1643\n",
       "Relationship         0\n",
       "Race                 0\n",
       "Sex                  0\n",
       "Capital-gain         0\n",
       "Capital-loss         0\n",
       "Hours-per-week       0\n",
       "Native-country     525\n",
       "dtype: int64"
      ]
     },
     "execution_count": 10,
     "metadata": {},
     "output_type": "execute_result"
    },
    {
     "data": {
      "application/javascript": [
       "\n",
       "            setTimeout(function() {\n",
       "                var nbb_cell_id = 10;\n",
       "                var nbb_unformatted_code = \"train_X_df.isnull().sum()\";\n",
       "                var nbb_formatted_code = \"train_X_df.isnull().sum()\";\n",
       "                var nbb_cells = Jupyter.notebook.get_cells();\n",
       "                for (var i = 0; i < nbb_cells.length; ++i) {\n",
       "                    if (nbb_cells[i].input_prompt_number == nbb_cell_id) {\n",
       "                        if (nbb_cells[i].get_text() == nbb_unformatted_code) {\n",
       "                             nbb_cells[i].set_text(nbb_formatted_code);\n",
       "                        }\n",
       "                        break;\n",
       "                    }\n",
       "                }\n",
       "            }, 500);\n",
       "            "
      ],
      "text/plain": [
       "<IPython.core.display.Javascript object>"
      ]
     },
     "metadata": {},
     "output_type": "display_data"
    }
   ],
   "source": [
    "train_X_df.isnull().sum()"
   ]
  },
  {
   "cell_type": "code",
   "execution_count": 11,
   "metadata": {},
   "outputs": [
    {
     "data": {
      "text/html": [
       "<div>\n",
       "<style scoped>\n",
       "    .dataframe tbody tr th:only-of-type {\n",
       "        vertical-align: middle;\n",
       "    }\n",
       "\n",
       "    .dataframe tbody tr th {\n",
       "        vertical-align: top;\n",
       "    }\n",
       "\n",
       "    .dataframe thead th {\n",
       "        text-align: right;\n",
       "    }\n",
       "</style>\n",
       "<table border=\"1\" class=\"dataframe\">\n",
       "  <thead>\n",
       "    <tr style=\"text-align: right;\">\n",
       "      <th></th>\n",
       "      <th>Age</th>\n",
       "      <th>Workclass</th>\n",
       "      <th>Fnlwgt</th>\n",
       "      <th>Education</th>\n",
       "      <th>Education-num</th>\n",
       "      <th>Marital-status</th>\n",
       "      <th>Occupation</th>\n",
       "      <th>Relationship</th>\n",
       "      <th>Race</th>\n",
       "      <th>Sex</th>\n",
       "      <th>Capital-gain</th>\n",
       "      <th>Capital-loss</th>\n",
       "      <th>Hours-per-week</th>\n",
       "      <th>Native-country</th>\n",
       "    </tr>\n",
       "  </thead>\n",
       "  <tbody>\n",
       "    <tr>\n",
       "      <th>0</th>\n",
       "      <td>39</td>\n",
       "      <td>State-gov</td>\n",
       "      <td>77516</td>\n",
       "      <td>Bachelors</td>\n",
       "      <td>13</td>\n",
       "      <td>Never-married</td>\n",
       "      <td>Adm-clerical</td>\n",
       "      <td>Not-in-family</td>\n",
       "      <td>White</td>\n",
       "      <td>1</td>\n",
       "      <td>2174</td>\n",
       "      <td>0</td>\n",
       "      <td>40</td>\n",
       "      <td>United-States</td>\n",
       "    </tr>\n",
       "    <tr>\n",
       "      <th>1</th>\n",
       "      <td>50</td>\n",
       "      <td>Self-emp-not-inc</td>\n",
       "      <td>83311</td>\n",
       "      <td>Bachelors</td>\n",
       "      <td>13</td>\n",
       "      <td>Married-civ-spouse</td>\n",
       "      <td>Exec-managerial</td>\n",
       "      <td>Husband</td>\n",
       "      <td>White</td>\n",
       "      <td>1</td>\n",
       "      <td>0</td>\n",
       "      <td>0</td>\n",
       "      <td>13</td>\n",
       "      <td>United-States</td>\n",
       "    </tr>\n",
       "    <tr>\n",
       "      <th>2</th>\n",
       "      <td>38</td>\n",
       "      <td>Private</td>\n",
       "      <td>215646</td>\n",
       "      <td>HS-grad</td>\n",
       "      <td>9</td>\n",
       "      <td>Divorced</td>\n",
       "      <td>Handlers-cleaners</td>\n",
       "      <td>Not-in-family</td>\n",
       "      <td>White</td>\n",
       "      <td>1</td>\n",
       "      <td>0</td>\n",
       "      <td>0</td>\n",
       "      <td>40</td>\n",
       "      <td>United-States</td>\n",
       "    </tr>\n",
       "    <tr>\n",
       "      <th>3</th>\n",
       "      <td>53</td>\n",
       "      <td>Private</td>\n",
       "      <td>234721</td>\n",
       "      <td>11th</td>\n",
       "      <td>7</td>\n",
       "      <td>Married-civ-spouse</td>\n",
       "      <td>Handlers-cleaners</td>\n",
       "      <td>Husband</td>\n",
       "      <td>Black</td>\n",
       "      <td>1</td>\n",
       "      <td>0</td>\n",
       "      <td>0</td>\n",
       "      <td>40</td>\n",
       "      <td>United-States</td>\n",
       "    </tr>\n",
       "    <tr>\n",
       "      <th>4</th>\n",
       "      <td>28</td>\n",
       "      <td>Private</td>\n",
       "      <td>338409</td>\n",
       "      <td>Bachelors</td>\n",
       "      <td>13</td>\n",
       "      <td>Married-civ-spouse</td>\n",
       "      <td>Prof-specialty</td>\n",
       "      <td>Wife</td>\n",
       "      <td>Black</td>\n",
       "      <td>0</td>\n",
       "      <td>0</td>\n",
       "      <td>0</td>\n",
       "      <td>40</td>\n",
       "      <td>Cuba</td>\n",
       "    </tr>\n",
       "    <tr>\n",
       "      <th>...</th>\n",
       "      <td>...</td>\n",
       "      <td>...</td>\n",
       "      <td>...</td>\n",
       "      <td>...</td>\n",
       "      <td>...</td>\n",
       "      <td>...</td>\n",
       "      <td>...</td>\n",
       "      <td>...</td>\n",
       "      <td>...</td>\n",
       "      <td>...</td>\n",
       "      <td>...</td>\n",
       "      <td>...</td>\n",
       "      <td>...</td>\n",
       "      <td>...</td>\n",
       "    </tr>\n",
       "    <tr>\n",
       "      <th>29299</th>\n",
       "      <td>39</td>\n",
       "      <td>Self-emp-not-inc</td>\n",
       "      <td>148443</td>\n",
       "      <td>HS-grad</td>\n",
       "      <td>9</td>\n",
       "      <td>Married-civ-spouse</td>\n",
       "      <td>Farming-fishing</td>\n",
       "      <td>Husband</td>\n",
       "      <td>White</td>\n",
       "      <td>1</td>\n",
       "      <td>0</td>\n",
       "      <td>0</td>\n",
       "      <td>60</td>\n",
       "      <td>United-States</td>\n",
       "    </tr>\n",
       "    <tr>\n",
       "      <th>29300</th>\n",
       "      <td>23</td>\n",
       "      <td>Private</td>\n",
       "      <td>91733</td>\n",
       "      <td>Bachelors</td>\n",
       "      <td>13</td>\n",
       "      <td>Never-married</td>\n",
       "      <td>Tech-support</td>\n",
       "      <td>Own-child</td>\n",
       "      <td>White</td>\n",
       "      <td>0</td>\n",
       "      <td>3325</td>\n",
       "      <td>0</td>\n",
       "      <td>40</td>\n",
       "      <td>United-States</td>\n",
       "    </tr>\n",
       "    <tr>\n",
       "      <th>29301</th>\n",
       "      <td>39</td>\n",
       "      <td>Private</td>\n",
       "      <td>176634</td>\n",
       "      <td>Assoc-acdm</td>\n",
       "      <td>12</td>\n",
       "      <td>Never-married</td>\n",
       "      <td>Tech-support</td>\n",
       "      <td>Not-in-family</td>\n",
       "      <td>White</td>\n",
       "      <td>0</td>\n",
       "      <td>0</td>\n",
       "      <td>0</td>\n",
       "      <td>40</td>\n",
       "      <td>United-States</td>\n",
       "    </tr>\n",
       "    <tr>\n",
       "      <th>29302</th>\n",
       "      <td>40</td>\n",
       "      <td>Local-gov</td>\n",
       "      <td>74949</td>\n",
       "      <td>Some-college</td>\n",
       "      <td>10</td>\n",
       "      <td>Never-married</td>\n",
       "      <td>Exec-managerial</td>\n",
       "      <td>Not-in-family</td>\n",
       "      <td>White</td>\n",
       "      <td>1</td>\n",
       "      <td>0</td>\n",
       "      <td>0</td>\n",
       "      <td>40</td>\n",
       "      <td>United-States</td>\n",
       "    </tr>\n",
       "    <tr>\n",
       "      <th>29303</th>\n",
       "      <td>48</td>\n",
       "      <td>Private</td>\n",
       "      <td>165484</td>\n",
       "      <td>Some-college</td>\n",
       "      <td>10</td>\n",
       "      <td>Married-civ-spouse</td>\n",
       "      <td>Exec-managerial</td>\n",
       "      <td>Husband</td>\n",
       "      <td>White</td>\n",
       "      <td>1</td>\n",
       "      <td>0</td>\n",
       "      <td>0</td>\n",
       "      <td>65</td>\n",
       "      <td>United-States</td>\n",
       "    </tr>\n",
       "  </tbody>\n",
       "</table>\n",
       "<p>29304 rows × 14 columns</p>\n",
       "</div>"
      ],
      "text/plain": [
       "       Age         Workclass  Fnlwgt     Education  Education-num  \\\n",
       "0       39         State-gov   77516     Bachelors             13   \n",
       "1       50  Self-emp-not-inc   83311     Bachelors             13   \n",
       "2       38           Private  215646       HS-grad              9   \n",
       "3       53           Private  234721          11th              7   \n",
       "4       28           Private  338409     Bachelors             13   \n",
       "...    ...               ...     ...           ...            ...   \n",
       "29299   39  Self-emp-not-inc  148443       HS-grad              9   \n",
       "29300   23           Private   91733     Bachelors             13   \n",
       "29301   39           Private  176634    Assoc-acdm             12   \n",
       "29302   40         Local-gov   74949  Some-college             10   \n",
       "29303   48           Private  165484  Some-college             10   \n",
       "\n",
       "           Marital-status         Occupation   Relationship    Race  Sex  \\\n",
       "0           Never-married       Adm-clerical  Not-in-family   White    1   \n",
       "1      Married-civ-spouse    Exec-managerial        Husband   White    1   \n",
       "2                Divorced  Handlers-cleaners  Not-in-family   White    1   \n",
       "3      Married-civ-spouse  Handlers-cleaners        Husband   Black    1   \n",
       "4      Married-civ-spouse     Prof-specialty           Wife   Black    0   \n",
       "...                   ...                ...            ...     ...  ...   \n",
       "29299  Married-civ-spouse    Farming-fishing        Husband   White    1   \n",
       "29300       Never-married       Tech-support      Own-child   White    0   \n",
       "29301       Never-married       Tech-support  Not-in-family   White    0   \n",
       "29302       Never-married    Exec-managerial  Not-in-family   White    1   \n",
       "29303  Married-civ-spouse    Exec-managerial        Husband   White    1   \n",
       "\n",
       "       Capital-gain  Capital-loss  Hours-per-week Native-country  \n",
       "0              2174             0              40  United-States  \n",
       "1                 0             0              13  United-States  \n",
       "2                 0             0              40  United-States  \n",
       "3                 0             0              40  United-States  \n",
       "4                 0             0              40           Cuba  \n",
       "...             ...           ...             ...            ...  \n",
       "29299             0             0              60  United-States  \n",
       "29300          3325             0              40  United-States  \n",
       "29301             0             0              40  United-States  \n",
       "29302             0             0              40  United-States  \n",
       "29303             0             0              65  United-States  \n",
       "\n",
       "[29304 rows x 14 columns]"
      ]
     },
     "execution_count": 11,
     "metadata": {},
     "output_type": "execute_result"
    },
    {
     "data": {
      "application/javascript": [
       "\n",
       "            setTimeout(function() {\n",
       "                var nbb_cell_id = 11;\n",
       "                var nbb_unformatted_code = \"mask_df = train_X_df.isnull()\\n# We will encode these columns with LabelEncoder, and the rest with OneHotEncoder\\ncateg = [\\\"Sex\\\"]\\ntrain_X_df[categ] = train_X_df[categ].apply(label_encoder.fit_transform)\\n# This masking process won't give any effect in this cell, where 'SEX' and 'Y' don't have any missing values.\\n# However, if the columns we are encoding have missing values,\\n# this is how you avoid encoding missing values as a separate category.\\n# To see the effect of masking, add 'Workclass' in the categ variable and check df.isnull().sum().\\ntrain_X_df = train_X_df.mask(mask_df, np.nan)\\ntrain_X_df\";\n",
       "                var nbb_formatted_code = \"mask_df = train_X_df.isnull()\\n# We will encode these columns with LabelEncoder, and the rest with OneHotEncoder\\ncateg = [\\\"Sex\\\"]\\ntrain_X_df[categ] = train_X_df[categ].apply(label_encoder.fit_transform)\\n# This masking process won't give any effect in this cell, where 'SEX' and 'Y' don't have any missing values.\\n# However, if the columns we are encoding have missing values,\\n# this is how you avoid encoding missing values as a separate category.\\n# To see the effect of masking, add 'Workclass' in the categ variable and check df.isnull().sum().\\ntrain_X_df = train_X_df.mask(mask_df, np.nan)\\ntrain_X_df\";\n",
       "                var nbb_cells = Jupyter.notebook.get_cells();\n",
       "                for (var i = 0; i < nbb_cells.length; ++i) {\n",
       "                    if (nbb_cells[i].input_prompt_number == nbb_cell_id) {\n",
       "                        if (nbb_cells[i].get_text() == nbb_unformatted_code) {\n",
       "                             nbb_cells[i].set_text(nbb_formatted_code);\n",
       "                        }\n",
       "                        break;\n",
       "                    }\n",
       "                }\n",
       "            }, 500);\n",
       "            "
      ],
      "text/plain": [
       "<IPython.core.display.Javascript object>"
      ]
     },
     "metadata": {},
     "output_type": "display_data"
    }
   ],
   "source": [
    "mask_df = train_X_df.isnull()\n",
    "# We will encode these columns with LabelEncoder, and the rest with OneHotEncoder\n",
    "categ = [\"Sex\"]\n",
    "train_X_df[categ] = train_X_df[categ].apply(label_encoder.fit_transform)\n",
    "# This masking process won't give any effect in this cell, where 'SEX' and 'Y' don't have any missing values.\n",
    "# However, if the columns we are encoding have missing values,\n",
    "# this is how you avoid encoding missing values as a separate category.\n",
    "# To see the effect of masking, add 'Workclass' in the categ variable and check df.isnull().sum().\n",
    "train_X_df = train_X_df.mask(mask_df, np.nan)\n",
    "train_X_df"
   ]
  },
  {
   "cell_type": "code",
   "execution_count": 12,
   "metadata": {
    "scrolled": true
   },
   "outputs": [
    {
     "data": {
      "text/plain": [
       "Age                  0\n",
       "Workclass         1638\n",
       "Fnlwgt               0\n",
       "Education            0\n",
       "Education-num        0\n",
       "Marital-status       0\n",
       "Occupation        1643\n",
       "Relationship         0\n",
       "Race                 0\n",
       "Sex                  0\n",
       "Capital-gain         0\n",
       "Capital-loss         0\n",
       "Hours-per-week       0\n",
       "Native-country     525\n",
       "dtype: int64"
      ]
     },
     "execution_count": 12,
     "metadata": {},
     "output_type": "execute_result"
    },
    {
     "data": {
      "application/javascript": [
       "\n",
       "            setTimeout(function() {\n",
       "                var nbb_cell_id = 12;\n",
       "                var nbb_unformatted_code = \"# The missing values are intact and were not encoded.\\ntrain_X_df.isnull().sum()\";\n",
       "                var nbb_formatted_code = \"# The missing values are intact and were not encoded.\\ntrain_X_df.isnull().sum()\";\n",
       "                var nbb_cells = Jupyter.notebook.get_cells();\n",
       "                for (var i = 0; i < nbb_cells.length; ++i) {\n",
       "                    if (nbb_cells[i].input_prompt_number == nbb_cell_id) {\n",
       "                        if (nbb_cells[i].get_text() == nbb_unformatted_code) {\n",
       "                             nbb_cells[i].set_text(nbb_formatted_code);\n",
       "                        }\n",
       "                        break;\n",
       "                    }\n",
       "                }\n",
       "            }, 500);\n",
       "            "
      ],
      "text/plain": [
       "<IPython.core.display.Javascript object>"
      ]
     },
     "metadata": {},
     "output_type": "display_data"
    }
   ],
   "source": [
    "# The missing values are intact and were not encoded.\n",
    "train_X_df.isnull().sum()"
   ]
  },
  {
   "cell_type": "code",
   "execution_count": null,
   "metadata": {},
   "outputs": [],
   "source": []
  },
  {
   "cell_type": "markdown",
   "metadata": {},
   "source": [
    "### Task 2-2: One Hot Encoding (with missing values imputation)\n",
    "\n",
    "Tip 1: Impute the missing values (choose the right strategy) before doing OHE  \n",
    "Tip 2: Try creating a separate dataframe with one-hot encoded columns and combine the dataframe with the original dataframe for the final one."
   ]
  },
  {
   "cell_type": "code",
   "execution_count": 13,
   "metadata": {},
   "outputs": [
    {
     "data": {
      "text/plain": [
       "Age               0\n",
       "Workclass         0\n",
       "Fnlwgt            0\n",
       "Education         0\n",
       "Education-num     0\n",
       "Marital-status    0\n",
       "Occupation        0\n",
       "Relationship      0\n",
       "Race              0\n",
       "Sex               0\n",
       "Capital-gain      0\n",
       "Capital-loss      0\n",
       "Hours-per-week    0\n",
       "Native-country    0\n",
       "dtype: int64"
      ]
     },
     "execution_count": 13,
     "metadata": {},
     "output_type": "execute_result"
    },
    {
     "data": {
      "application/javascript": [
       "\n",
       "            setTimeout(function() {\n",
       "                var nbb_cell_id = 13;\n",
       "                var nbb_unformatted_code = \"# Let's first impute the missing values.\\n# Since it's a categorical value, we don't use KNN or mean imputation.\\n# We will replace with the most frequent value.\\nfrom sklearn.impute import SimpleImputer\\n\\nimputer = SimpleImputer(strategy=\\\"most_frequent\\\")\\nimputed_train_X = imputer.fit_transform(train_X_df)\\nimputed_train_X_df = pd.DataFrame(imputed_train_X, columns=train_X_df.columns)\\n\\n# Check that we have no missing values now\\nimputed_train_X_df.isnull().sum()\";\n",
       "                var nbb_formatted_code = \"# Let's first impute the missing values.\\n# Since it's a categorical value, we don't use KNN or mean imputation.\\n# We will replace with the most frequent value.\\nfrom sklearn.impute import SimpleImputer\\n\\nimputer = SimpleImputer(strategy=\\\"most_frequent\\\")\\nimputed_train_X = imputer.fit_transform(train_X_df)\\nimputed_train_X_df = pd.DataFrame(imputed_train_X, columns=train_X_df.columns)\\n\\n# Check that we have no missing values now\\nimputed_train_X_df.isnull().sum()\";\n",
       "                var nbb_cells = Jupyter.notebook.get_cells();\n",
       "                for (var i = 0; i < nbb_cells.length; ++i) {\n",
       "                    if (nbb_cells[i].input_prompt_number == nbb_cell_id) {\n",
       "                        if (nbb_cells[i].get_text() == nbb_unformatted_code) {\n",
       "                             nbb_cells[i].set_text(nbb_formatted_code);\n",
       "                        }\n",
       "                        break;\n",
       "                    }\n",
       "                }\n",
       "            }, 500);\n",
       "            "
      ],
      "text/plain": [
       "<IPython.core.display.Javascript object>"
      ]
     },
     "metadata": {},
     "output_type": "display_data"
    }
   ],
   "source": [
    "# Let's first impute the missing values.\n",
    "# Since it's a categorical value, we don't use KNN or mean imputation.\n",
    "# We will replace with the most frequent value.\n",
    "from sklearn.impute import SimpleImputer\n",
    "\n",
    "imputer = SimpleImputer(strategy=\"most_frequent\")\n",
    "imputed_train_X = imputer.fit_transform(train_X_df)\n",
    "imputed_train_X_df = pd.DataFrame(imputed_train_X, columns=train_X_df.columns)\n",
    "\n",
    "# Check that we have no missing values now\n",
    "imputed_train_X_df.isnull().sum()"
   ]
  },
  {
   "cell_type": "code",
   "execution_count": 14,
   "metadata": {
    "scrolled": true
   },
   "outputs": [
    {
     "data": {
      "text/html": [
       "<div>\n",
       "<style scoped>\n",
       "    .dataframe tbody tr th:only-of-type {\n",
       "        vertical-align: middle;\n",
       "    }\n",
       "\n",
       "    .dataframe tbody tr th {\n",
       "        vertical-align: top;\n",
       "    }\n",
       "\n",
       "    .dataframe thead th {\n",
       "        text-align: right;\n",
       "    }\n",
       "</style>\n",
       "<table border=\"1\" class=\"dataframe\">\n",
       "  <thead>\n",
       "    <tr style=\"text-align: right;\">\n",
       "      <th></th>\n",
       "      <th>Workclass_Federal-gov</th>\n",
       "      <th>Workclass_Local-gov</th>\n",
       "      <th>Workclass_Never-worked</th>\n",
       "      <th>Workclass_Private</th>\n",
       "      <th>Workclass_Self-emp-inc</th>\n",
       "      <th>Workclass_Self-emp-not-inc</th>\n",
       "      <th>Workclass_State-gov</th>\n",
       "      <th>Workclass_Without-pay</th>\n",
       "      <th>Education_10th</th>\n",
       "      <th>Education_11th</th>\n",
       "      <th>...</th>\n",
       "      <th>Native-country_Portugal</th>\n",
       "      <th>Native-country_Puerto-Rico</th>\n",
       "      <th>Native-country_Scotland</th>\n",
       "      <th>Native-country_South</th>\n",
       "      <th>Native-country_Taiwan</th>\n",
       "      <th>Native-country_Thailand</th>\n",
       "      <th>Native-country_Trinadad&amp;Tobago</th>\n",
       "      <th>Native-country_United-States</th>\n",
       "      <th>Native-country_Vietnam</th>\n",
       "      <th>Native-country_Yugoslavia</th>\n",
       "    </tr>\n",
       "  </thead>\n",
       "  <tbody>\n",
       "    <tr>\n",
       "      <th>0</th>\n",
       "      <td>0.0</td>\n",
       "      <td>0.0</td>\n",
       "      <td>0.0</td>\n",
       "      <td>0.0</td>\n",
       "      <td>0.0</td>\n",
       "      <td>0.0</td>\n",
       "      <td>1.0</td>\n",
       "      <td>0.0</td>\n",
       "      <td>0.0</td>\n",
       "      <td>0.0</td>\n",
       "      <td>...</td>\n",
       "      <td>0.0</td>\n",
       "      <td>0.0</td>\n",
       "      <td>0.0</td>\n",
       "      <td>0.0</td>\n",
       "      <td>0.0</td>\n",
       "      <td>0.0</td>\n",
       "      <td>0.0</td>\n",
       "      <td>1.0</td>\n",
       "      <td>0.0</td>\n",
       "      <td>0.0</td>\n",
       "    </tr>\n",
       "    <tr>\n",
       "      <th>1</th>\n",
       "      <td>0.0</td>\n",
       "      <td>0.0</td>\n",
       "      <td>0.0</td>\n",
       "      <td>0.0</td>\n",
       "      <td>0.0</td>\n",
       "      <td>1.0</td>\n",
       "      <td>0.0</td>\n",
       "      <td>0.0</td>\n",
       "      <td>0.0</td>\n",
       "      <td>0.0</td>\n",
       "      <td>...</td>\n",
       "      <td>0.0</td>\n",
       "      <td>0.0</td>\n",
       "      <td>0.0</td>\n",
       "      <td>0.0</td>\n",
       "      <td>0.0</td>\n",
       "      <td>0.0</td>\n",
       "      <td>0.0</td>\n",
       "      <td>1.0</td>\n",
       "      <td>0.0</td>\n",
       "      <td>0.0</td>\n",
       "    </tr>\n",
       "    <tr>\n",
       "      <th>2</th>\n",
       "      <td>0.0</td>\n",
       "      <td>0.0</td>\n",
       "      <td>0.0</td>\n",
       "      <td>1.0</td>\n",
       "      <td>0.0</td>\n",
       "      <td>0.0</td>\n",
       "      <td>0.0</td>\n",
       "      <td>0.0</td>\n",
       "      <td>0.0</td>\n",
       "      <td>0.0</td>\n",
       "      <td>...</td>\n",
       "      <td>0.0</td>\n",
       "      <td>0.0</td>\n",
       "      <td>0.0</td>\n",
       "      <td>0.0</td>\n",
       "      <td>0.0</td>\n",
       "      <td>0.0</td>\n",
       "      <td>0.0</td>\n",
       "      <td>1.0</td>\n",
       "      <td>0.0</td>\n",
       "      <td>0.0</td>\n",
       "    </tr>\n",
       "    <tr>\n",
       "      <th>3</th>\n",
       "      <td>0.0</td>\n",
       "      <td>0.0</td>\n",
       "      <td>0.0</td>\n",
       "      <td>1.0</td>\n",
       "      <td>0.0</td>\n",
       "      <td>0.0</td>\n",
       "      <td>0.0</td>\n",
       "      <td>0.0</td>\n",
       "      <td>0.0</td>\n",
       "      <td>1.0</td>\n",
       "      <td>...</td>\n",
       "      <td>0.0</td>\n",
       "      <td>0.0</td>\n",
       "      <td>0.0</td>\n",
       "      <td>0.0</td>\n",
       "      <td>0.0</td>\n",
       "      <td>0.0</td>\n",
       "      <td>0.0</td>\n",
       "      <td>1.0</td>\n",
       "      <td>0.0</td>\n",
       "      <td>0.0</td>\n",
       "    </tr>\n",
       "    <tr>\n",
       "      <th>4</th>\n",
       "      <td>0.0</td>\n",
       "      <td>0.0</td>\n",
       "      <td>0.0</td>\n",
       "      <td>1.0</td>\n",
       "      <td>0.0</td>\n",
       "      <td>0.0</td>\n",
       "      <td>0.0</td>\n",
       "      <td>0.0</td>\n",
       "      <td>0.0</td>\n",
       "      <td>0.0</td>\n",
       "      <td>...</td>\n",
       "      <td>0.0</td>\n",
       "      <td>0.0</td>\n",
       "      <td>0.0</td>\n",
       "      <td>0.0</td>\n",
       "      <td>0.0</td>\n",
       "      <td>0.0</td>\n",
       "      <td>0.0</td>\n",
       "      <td>0.0</td>\n",
       "      <td>0.0</td>\n",
       "      <td>0.0</td>\n",
       "    </tr>\n",
       "    <tr>\n",
       "      <th>...</th>\n",
       "      <td>...</td>\n",
       "      <td>...</td>\n",
       "      <td>...</td>\n",
       "      <td>...</td>\n",
       "      <td>...</td>\n",
       "      <td>...</td>\n",
       "      <td>...</td>\n",
       "      <td>...</td>\n",
       "      <td>...</td>\n",
       "      <td>...</td>\n",
       "      <td>...</td>\n",
       "      <td>...</td>\n",
       "      <td>...</td>\n",
       "      <td>...</td>\n",
       "      <td>...</td>\n",
       "      <td>...</td>\n",
       "      <td>...</td>\n",
       "      <td>...</td>\n",
       "      <td>...</td>\n",
       "      <td>...</td>\n",
       "      <td>...</td>\n",
       "    </tr>\n",
       "    <tr>\n",
       "      <th>29299</th>\n",
       "      <td>0.0</td>\n",
       "      <td>0.0</td>\n",
       "      <td>0.0</td>\n",
       "      <td>0.0</td>\n",
       "      <td>0.0</td>\n",
       "      <td>1.0</td>\n",
       "      <td>0.0</td>\n",
       "      <td>0.0</td>\n",
       "      <td>0.0</td>\n",
       "      <td>0.0</td>\n",
       "      <td>...</td>\n",
       "      <td>0.0</td>\n",
       "      <td>0.0</td>\n",
       "      <td>0.0</td>\n",
       "      <td>0.0</td>\n",
       "      <td>0.0</td>\n",
       "      <td>0.0</td>\n",
       "      <td>0.0</td>\n",
       "      <td>1.0</td>\n",
       "      <td>0.0</td>\n",
       "      <td>0.0</td>\n",
       "    </tr>\n",
       "    <tr>\n",
       "      <th>29300</th>\n",
       "      <td>0.0</td>\n",
       "      <td>0.0</td>\n",
       "      <td>0.0</td>\n",
       "      <td>1.0</td>\n",
       "      <td>0.0</td>\n",
       "      <td>0.0</td>\n",
       "      <td>0.0</td>\n",
       "      <td>0.0</td>\n",
       "      <td>0.0</td>\n",
       "      <td>0.0</td>\n",
       "      <td>...</td>\n",
       "      <td>0.0</td>\n",
       "      <td>0.0</td>\n",
       "      <td>0.0</td>\n",
       "      <td>0.0</td>\n",
       "      <td>0.0</td>\n",
       "      <td>0.0</td>\n",
       "      <td>0.0</td>\n",
       "      <td>1.0</td>\n",
       "      <td>0.0</td>\n",
       "      <td>0.0</td>\n",
       "    </tr>\n",
       "    <tr>\n",
       "      <th>29301</th>\n",
       "      <td>0.0</td>\n",
       "      <td>0.0</td>\n",
       "      <td>0.0</td>\n",
       "      <td>1.0</td>\n",
       "      <td>0.0</td>\n",
       "      <td>0.0</td>\n",
       "      <td>0.0</td>\n",
       "      <td>0.0</td>\n",
       "      <td>0.0</td>\n",
       "      <td>0.0</td>\n",
       "      <td>...</td>\n",
       "      <td>0.0</td>\n",
       "      <td>0.0</td>\n",
       "      <td>0.0</td>\n",
       "      <td>0.0</td>\n",
       "      <td>0.0</td>\n",
       "      <td>0.0</td>\n",
       "      <td>0.0</td>\n",
       "      <td>1.0</td>\n",
       "      <td>0.0</td>\n",
       "      <td>0.0</td>\n",
       "    </tr>\n",
       "    <tr>\n",
       "      <th>29302</th>\n",
       "      <td>0.0</td>\n",
       "      <td>1.0</td>\n",
       "      <td>0.0</td>\n",
       "      <td>0.0</td>\n",
       "      <td>0.0</td>\n",
       "      <td>0.0</td>\n",
       "      <td>0.0</td>\n",
       "      <td>0.0</td>\n",
       "      <td>0.0</td>\n",
       "      <td>0.0</td>\n",
       "      <td>...</td>\n",
       "      <td>0.0</td>\n",
       "      <td>0.0</td>\n",
       "      <td>0.0</td>\n",
       "      <td>0.0</td>\n",
       "      <td>0.0</td>\n",
       "      <td>0.0</td>\n",
       "      <td>0.0</td>\n",
       "      <td>1.0</td>\n",
       "      <td>0.0</td>\n",
       "      <td>0.0</td>\n",
       "    </tr>\n",
       "    <tr>\n",
       "      <th>29303</th>\n",
       "      <td>0.0</td>\n",
       "      <td>0.0</td>\n",
       "      <td>0.0</td>\n",
       "      <td>1.0</td>\n",
       "      <td>0.0</td>\n",
       "      <td>0.0</td>\n",
       "      <td>0.0</td>\n",
       "      <td>0.0</td>\n",
       "      <td>0.0</td>\n",
       "      <td>0.0</td>\n",
       "      <td>...</td>\n",
       "      <td>0.0</td>\n",
       "      <td>0.0</td>\n",
       "      <td>0.0</td>\n",
       "      <td>0.0</td>\n",
       "      <td>0.0</td>\n",
       "      <td>0.0</td>\n",
       "      <td>0.0</td>\n",
       "      <td>1.0</td>\n",
       "      <td>0.0</td>\n",
       "      <td>0.0</td>\n",
       "    </tr>\n",
       "  </tbody>\n",
       "</table>\n",
       "<p>29304 rows × 97 columns</p>\n",
       "</div>"
      ],
      "text/plain": [
       "       Workclass_Federal-gov  Workclass_Local-gov  Workclass_Never-worked  \\\n",
       "0                        0.0                  0.0                     0.0   \n",
       "1                        0.0                  0.0                     0.0   \n",
       "2                        0.0                  0.0                     0.0   \n",
       "3                        0.0                  0.0                     0.0   \n",
       "4                        0.0                  0.0                     0.0   \n",
       "...                      ...                  ...                     ...   \n",
       "29299                    0.0                  0.0                     0.0   \n",
       "29300                    0.0                  0.0                     0.0   \n",
       "29301                    0.0                  0.0                     0.0   \n",
       "29302                    0.0                  1.0                     0.0   \n",
       "29303                    0.0                  0.0                     0.0   \n",
       "\n",
       "       Workclass_Private  Workclass_Self-emp-inc  Workclass_Self-emp-not-inc  \\\n",
       "0                    0.0                     0.0                         0.0   \n",
       "1                    0.0                     0.0                         1.0   \n",
       "2                    1.0                     0.0                         0.0   \n",
       "3                    1.0                     0.0                         0.0   \n",
       "4                    1.0                     0.0                         0.0   \n",
       "...                  ...                     ...                         ...   \n",
       "29299                0.0                     0.0                         1.0   \n",
       "29300                1.0                     0.0                         0.0   \n",
       "29301                1.0                     0.0                         0.0   \n",
       "29302                0.0                     0.0                         0.0   \n",
       "29303                1.0                     0.0                         0.0   \n",
       "\n",
       "       Workclass_State-gov  Workclass_Without-pay  Education_10th  \\\n",
       "0                      1.0                    0.0             0.0   \n",
       "1                      0.0                    0.0             0.0   \n",
       "2                      0.0                    0.0             0.0   \n",
       "3                      0.0                    0.0             0.0   \n",
       "4                      0.0                    0.0             0.0   \n",
       "...                    ...                    ...             ...   \n",
       "29299                  0.0                    0.0             0.0   \n",
       "29300                  0.0                    0.0             0.0   \n",
       "29301                  0.0                    0.0             0.0   \n",
       "29302                  0.0                    0.0             0.0   \n",
       "29303                  0.0                    0.0             0.0   \n",
       "\n",
       "       Education_11th  ...  Native-country_Portugal  \\\n",
       "0                 0.0  ...                      0.0   \n",
       "1                 0.0  ...                      0.0   \n",
       "2                 0.0  ...                      0.0   \n",
       "3                 1.0  ...                      0.0   \n",
       "4                 0.0  ...                      0.0   \n",
       "...               ...  ...                      ...   \n",
       "29299             0.0  ...                      0.0   \n",
       "29300             0.0  ...                      0.0   \n",
       "29301             0.0  ...                      0.0   \n",
       "29302             0.0  ...                      0.0   \n",
       "29303             0.0  ...                      0.0   \n",
       "\n",
       "       Native-country_Puerto-Rico  Native-country_Scotland  \\\n",
       "0                             0.0                      0.0   \n",
       "1                             0.0                      0.0   \n",
       "2                             0.0                      0.0   \n",
       "3                             0.0                      0.0   \n",
       "4                             0.0                      0.0   \n",
       "...                           ...                      ...   \n",
       "29299                         0.0                      0.0   \n",
       "29300                         0.0                      0.0   \n",
       "29301                         0.0                      0.0   \n",
       "29302                         0.0                      0.0   \n",
       "29303                         0.0                      0.0   \n",
       "\n",
       "       Native-country_South  Native-country_Taiwan  Native-country_Thailand  \\\n",
       "0                       0.0                    0.0                      0.0   \n",
       "1                       0.0                    0.0                      0.0   \n",
       "2                       0.0                    0.0                      0.0   \n",
       "3                       0.0                    0.0                      0.0   \n",
       "4                       0.0                    0.0                      0.0   \n",
       "...                     ...                    ...                      ...   \n",
       "29299                   0.0                    0.0                      0.0   \n",
       "29300                   0.0                    0.0                      0.0   \n",
       "29301                   0.0                    0.0                      0.0   \n",
       "29302                   0.0                    0.0                      0.0   \n",
       "29303                   0.0                    0.0                      0.0   \n",
       "\n",
       "       Native-country_Trinadad&Tobago  Native-country_United-States  \\\n",
       "0                                 0.0                           1.0   \n",
       "1                                 0.0                           1.0   \n",
       "2                                 0.0                           1.0   \n",
       "3                                 0.0                           1.0   \n",
       "4                                 0.0                           0.0   \n",
       "...                               ...                           ...   \n",
       "29299                             0.0                           1.0   \n",
       "29300                             0.0                           1.0   \n",
       "29301                             0.0                           1.0   \n",
       "29302                             0.0                           1.0   \n",
       "29303                             0.0                           1.0   \n",
       "\n",
       "       Native-country_Vietnam  Native-country_Yugoslavia  \n",
       "0                         0.0                        0.0  \n",
       "1                         0.0                        0.0  \n",
       "2                         0.0                        0.0  \n",
       "3                         0.0                        0.0  \n",
       "4                         0.0                        0.0  \n",
       "...                       ...                        ...  \n",
       "29299                     0.0                        0.0  \n",
       "29300                     0.0                        0.0  \n",
       "29301                     0.0                        0.0  \n",
       "29302                     0.0                        0.0  \n",
       "29303                     0.0                        0.0  \n",
       "\n",
       "[29304 rows x 97 columns]"
      ]
     },
     "execution_count": 14,
     "metadata": {},
     "output_type": "execute_result"
    },
    {
     "data": {
      "application/javascript": [
       "\n",
       "            setTimeout(function() {\n",
       "                var nbb_cell_id = 14;\n",
       "                var nbb_unformatted_code = \"# We want to turn these features into one-hot vectors\\nonehot_categ = [\\n    \\\"Workclass\\\",\\n    \\\"Education\\\",\\n    \\\"Marital-status\\\",\\n    \\\"Occupation\\\",\\n    \\\"Relationship\\\",\\n    \\\"Race\\\",\\n    \\\"Native-country\\\",\\n]\\nonehot_encoder = OneHotEncoder(sparse_output=False).fit(\\n    imputed_train_X_df[onehot_categ]\\n)\\nencoded = onehot_encoder.transform(imputed_train_X_df[onehot_categ])\\nencoded_df = pd.DataFrame(encoded, columns=onehot_encoder.get_feature_names_out())\\nencoded_df\";\n",
       "                var nbb_formatted_code = \"# We want to turn these features into one-hot vectors\\nonehot_categ = [\\n    \\\"Workclass\\\",\\n    \\\"Education\\\",\\n    \\\"Marital-status\\\",\\n    \\\"Occupation\\\",\\n    \\\"Relationship\\\",\\n    \\\"Race\\\",\\n    \\\"Native-country\\\",\\n]\\nonehot_encoder = OneHotEncoder(sparse_output=False).fit(\\n    imputed_train_X_df[onehot_categ]\\n)\\nencoded = onehot_encoder.transform(imputed_train_X_df[onehot_categ])\\nencoded_df = pd.DataFrame(encoded, columns=onehot_encoder.get_feature_names_out())\\nencoded_df\";\n",
       "                var nbb_cells = Jupyter.notebook.get_cells();\n",
       "                for (var i = 0; i < nbb_cells.length; ++i) {\n",
       "                    if (nbb_cells[i].input_prompt_number == nbb_cell_id) {\n",
       "                        if (nbb_cells[i].get_text() == nbb_unformatted_code) {\n",
       "                             nbb_cells[i].set_text(nbb_formatted_code);\n",
       "                        }\n",
       "                        break;\n",
       "                    }\n",
       "                }\n",
       "            }, 500);\n",
       "            "
      ],
      "text/plain": [
       "<IPython.core.display.Javascript object>"
      ]
     },
     "metadata": {},
     "output_type": "display_data"
    }
   ],
   "source": [
    "# We want to turn these features into one-hot vectors\n",
    "onehot_categ = [\n",
    "    \"Workclass\",\n",
    "    \"Education\",\n",
    "    \"Marital-status\",\n",
    "    \"Occupation\",\n",
    "    \"Relationship\",\n",
    "    \"Race\",\n",
    "    \"Native-country\",\n",
    "]\n",
    "onehot_encoder = OneHotEncoder(sparse_output=False).fit(\n",
    "    imputed_train_X_df[onehot_categ]\n",
    ")\n",
    "encoded = onehot_encoder.transform(imputed_train_X_df[onehot_categ])\n",
    "encoded_df = pd.DataFrame(encoded, columns=onehot_encoder.get_feature_names_out())\n",
    "encoded_df"
   ]
  },
  {
   "cell_type": "code",
   "execution_count": 15,
   "metadata": {
    "scrolled": true
   },
   "outputs": [
    {
     "data": {
      "text/html": [
       "<div>\n",
       "<style scoped>\n",
       "    .dataframe tbody tr th:only-of-type {\n",
       "        vertical-align: middle;\n",
       "    }\n",
       "\n",
       "    .dataframe tbody tr th {\n",
       "        vertical-align: top;\n",
       "    }\n",
       "\n",
       "    .dataframe thead th {\n",
       "        text-align: right;\n",
       "    }\n",
       "</style>\n",
       "<table border=\"1\" class=\"dataframe\">\n",
       "  <thead>\n",
       "    <tr style=\"text-align: right;\">\n",
       "      <th></th>\n",
       "      <th>Age</th>\n",
       "      <th>Fnlwgt</th>\n",
       "      <th>Education-num</th>\n",
       "      <th>Sex</th>\n",
       "      <th>Capital-gain</th>\n",
       "      <th>Capital-loss</th>\n",
       "      <th>Hours-per-week</th>\n",
       "      <th>Workclass_Federal-gov</th>\n",
       "      <th>Workclass_Local-gov</th>\n",
       "      <th>Workclass_Never-worked</th>\n",
       "      <th>...</th>\n",
       "      <th>Native-country_Portugal</th>\n",
       "      <th>Native-country_Puerto-Rico</th>\n",
       "      <th>Native-country_Scotland</th>\n",
       "      <th>Native-country_South</th>\n",
       "      <th>Native-country_Taiwan</th>\n",
       "      <th>Native-country_Thailand</th>\n",
       "      <th>Native-country_Trinadad&amp;Tobago</th>\n",
       "      <th>Native-country_United-States</th>\n",
       "      <th>Native-country_Vietnam</th>\n",
       "      <th>Native-country_Yugoslavia</th>\n",
       "    </tr>\n",
       "  </thead>\n",
       "  <tbody>\n",
       "    <tr>\n",
       "      <th>0</th>\n",
       "      <td>39</td>\n",
       "      <td>77516</td>\n",
       "      <td>13</td>\n",
       "      <td>1</td>\n",
       "      <td>2174</td>\n",
       "      <td>0</td>\n",
       "      <td>40</td>\n",
       "      <td>0.0</td>\n",
       "      <td>0.0</td>\n",
       "      <td>0.0</td>\n",
       "      <td>...</td>\n",
       "      <td>0.0</td>\n",
       "      <td>0.0</td>\n",
       "      <td>0.0</td>\n",
       "      <td>0.0</td>\n",
       "      <td>0.0</td>\n",
       "      <td>0.0</td>\n",
       "      <td>0.0</td>\n",
       "      <td>1.0</td>\n",
       "      <td>0.0</td>\n",
       "      <td>0.0</td>\n",
       "    </tr>\n",
       "    <tr>\n",
       "      <th>1</th>\n",
       "      <td>50</td>\n",
       "      <td>83311</td>\n",
       "      <td>13</td>\n",
       "      <td>1</td>\n",
       "      <td>0</td>\n",
       "      <td>0</td>\n",
       "      <td>13</td>\n",
       "      <td>0.0</td>\n",
       "      <td>0.0</td>\n",
       "      <td>0.0</td>\n",
       "      <td>...</td>\n",
       "      <td>0.0</td>\n",
       "      <td>0.0</td>\n",
       "      <td>0.0</td>\n",
       "      <td>0.0</td>\n",
       "      <td>0.0</td>\n",
       "      <td>0.0</td>\n",
       "      <td>0.0</td>\n",
       "      <td>1.0</td>\n",
       "      <td>0.0</td>\n",
       "      <td>0.0</td>\n",
       "    </tr>\n",
       "    <tr>\n",
       "      <th>2</th>\n",
       "      <td>38</td>\n",
       "      <td>215646</td>\n",
       "      <td>9</td>\n",
       "      <td>1</td>\n",
       "      <td>0</td>\n",
       "      <td>0</td>\n",
       "      <td>40</td>\n",
       "      <td>0.0</td>\n",
       "      <td>0.0</td>\n",
       "      <td>0.0</td>\n",
       "      <td>...</td>\n",
       "      <td>0.0</td>\n",
       "      <td>0.0</td>\n",
       "      <td>0.0</td>\n",
       "      <td>0.0</td>\n",
       "      <td>0.0</td>\n",
       "      <td>0.0</td>\n",
       "      <td>0.0</td>\n",
       "      <td>1.0</td>\n",
       "      <td>0.0</td>\n",
       "      <td>0.0</td>\n",
       "    </tr>\n",
       "    <tr>\n",
       "      <th>3</th>\n",
       "      <td>53</td>\n",
       "      <td>234721</td>\n",
       "      <td>7</td>\n",
       "      <td>1</td>\n",
       "      <td>0</td>\n",
       "      <td>0</td>\n",
       "      <td>40</td>\n",
       "      <td>0.0</td>\n",
       "      <td>0.0</td>\n",
       "      <td>0.0</td>\n",
       "      <td>...</td>\n",
       "      <td>0.0</td>\n",
       "      <td>0.0</td>\n",
       "      <td>0.0</td>\n",
       "      <td>0.0</td>\n",
       "      <td>0.0</td>\n",
       "      <td>0.0</td>\n",
       "      <td>0.0</td>\n",
       "      <td>1.0</td>\n",
       "      <td>0.0</td>\n",
       "      <td>0.0</td>\n",
       "    </tr>\n",
       "    <tr>\n",
       "      <th>4</th>\n",
       "      <td>28</td>\n",
       "      <td>338409</td>\n",
       "      <td>13</td>\n",
       "      <td>0</td>\n",
       "      <td>0</td>\n",
       "      <td>0</td>\n",
       "      <td>40</td>\n",
       "      <td>0.0</td>\n",
       "      <td>0.0</td>\n",
       "      <td>0.0</td>\n",
       "      <td>...</td>\n",
       "      <td>0.0</td>\n",
       "      <td>0.0</td>\n",
       "      <td>0.0</td>\n",
       "      <td>0.0</td>\n",
       "      <td>0.0</td>\n",
       "      <td>0.0</td>\n",
       "      <td>0.0</td>\n",
       "      <td>0.0</td>\n",
       "      <td>0.0</td>\n",
       "      <td>0.0</td>\n",
       "    </tr>\n",
       "    <tr>\n",
       "      <th>...</th>\n",
       "      <td>...</td>\n",
       "      <td>...</td>\n",
       "      <td>...</td>\n",
       "      <td>...</td>\n",
       "      <td>...</td>\n",
       "      <td>...</td>\n",
       "      <td>...</td>\n",
       "      <td>...</td>\n",
       "      <td>...</td>\n",
       "      <td>...</td>\n",
       "      <td>...</td>\n",
       "      <td>...</td>\n",
       "      <td>...</td>\n",
       "      <td>...</td>\n",
       "      <td>...</td>\n",
       "      <td>...</td>\n",
       "      <td>...</td>\n",
       "      <td>...</td>\n",
       "      <td>...</td>\n",
       "      <td>...</td>\n",
       "      <td>...</td>\n",
       "    </tr>\n",
       "    <tr>\n",
       "      <th>29299</th>\n",
       "      <td>39</td>\n",
       "      <td>148443</td>\n",
       "      <td>9</td>\n",
       "      <td>1</td>\n",
       "      <td>0</td>\n",
       "      <td>0</td>\n",
       "      <td>60</td>\n",
       "      <td>0.0</td>\n",
       "      <td>0.0</td>\n",
       "      <td>0.0</td>\n",
       "      <td>...</td>\n",
       "      <td>0.0</td>\n",
       "      <td>0.0</td>\n",
       "      <td>0.0</td>\n",
       "      <td>0.0</td>\n",
       "      <td>0.0</td>\n",
       "      <td>0.0</td>\n",
       "      <td>0.0</td>\n",
       "      <td>1.0</td>\n",
       "      <td>0.0</td>\n",
       "      <td>0.0</td>\n",
       "    </tr>\n",
       "    <tr>\n",
       "      <th>29300</th>\n",
       "      <td>23</td>\n",
       "      <td>91733</td>\n",
       "      <td>13</td>\n",
       "      <td>0</td>\n",
       "      <td>3325</td>\n",
       "      <td>0</td>\n",
       "      <td>40</td>\n",
       "      <td>0.0</td>\n",
       "      <td>0.0</td>\n",
       "      <td>0.0</td>\n",
       "      <td>...</td>\n",
       "      <td>0.0</td>\n",
       "      <td>0.0</td>\n",
       "      <td>0.0</td>\n",
       "      <td>0.0</td>\n",
       "      <td>0.0</td>\n",
       "      <td>0.0</td>\n",
       "      <td>0.0</td>\n",
       "      <td>1.0</td>\n",
       "      <td>0.0</td>\n",
       "      <td>0.0</td>\n",
       "    </tr>\n",
       "    <tr>\n",
       "      <th>29301</th>\n",
       "      <td>39</td>\n",
       "      <td>176634</td>\n",
       "      <td>12</td>\n",
       "      <td>0</td>\n",
       "      <td>0</td>\n",
       "      <td>0</td>\n",
       "      <td>40</td>\n",
       "      <td>0.0</td>\n",
       "      <td>0.0</td>\n",
       "      <td>0.0</td>\n",
       "      <td>...</td>\n",
       "      <td>0.0</td>\n",
       "      <td>0.0</td>\n",
       "      <td>0.0</td>\n",
       "      <td>0.0</td>\n",
       "      <td>0.0</td>\n",
       "      <td>0.0</td>\n",
       "      <td>0.0</td>\n",
       "      <td>1.0</td>\n",
       "      <td>0.0</td>\n",
       "      <td>0.0</td>\n",
       "    </tr>\n",
       "    <tr>\n",
       "      <th>29302</th>\n",
       "      <td>40</td>\n",
       "      <td>74949</td>\n",
       "      <td>10</td>\n",
       "      <td>1</td>\n",
       "      <td>0</td>\n",
       "      <td>0</td>\n",
       "      <td>40</td>\n",
       "      <td>0.0</td>\n",
       "      <td>1.0</td>\n",
       "      <td>0.0</td>\n",
       "      <td>...</td>\n",
       "      <td>0.0</td>\n",
       "      <td>0.0</td>\n",
       "      <td>0.0</td>\n",
       "      <td>0.0</td>\n",
       "      <td>0.0</td>\n",
       "      <td>0.0</td>\n",
       "      <td>0.0</td>\n",
       "      <td>1.0</td>\n",
       "      <td>0.0</td>\n",
       "      <td>0.0</td>\n",
       "    </tr>\n",
       "    <tr>\n",
       "      <th>29303</th>\n",
       "      <td>48</td>\n",
       "      <td>165484</td>\n",
       "      <td>10</td>\n",
       "      <td>1</td>\n",
       "      <td>0</td>\n",
       "      <td>0</td>\n",
       "      <td>65</td>\n",
       "      <td>0.0</td>\n",
       "      <td>0.0</td>\n",
       "      <td>0.0</td>\n",
       "      <td>...</td>\n",
       "      <td>0.0</td>\n",
       "      <td>0.0</td>\n",
       "      <td>0.0</td>\n",
       "      <td>0.0</td>\n",
       "      <td>0.0</td>\n",
       "      <td>0.0</td>\n",
       "      <td>0.0</td>\n",
       "      <td>1.0</td>\n",
       "      <td>0.0</td>\n",
       "      <td>0.0</td>\n",
       "    </tr>\n",
       "  </tbody>\n",
       "</table>\n",
       "<p>29304 rows × 104 columns</p>\n",
       "</div>"
      ],
      "text/plain": [
       "      Age  Fnlwgt Education-num Sex Capital-gain Capital-loss Hours-per-week  \\\n",
       "0      39   77516            13   1         2174            0             40   \n",
       "1      50   83311            13   1            0            0             13   \n",
       "2      38  215646             9   1            0            0             40   \n",
       "3      53  234721             7   1            0            0             40   \n",
       "4      28  338409            13   0            0            0             40   \n",
       "...    ..     ...           ...  ..          ...          ...            ...   \n",
       "29299  39  148443             9   1            0            0             60   \n",
       "29300  23   91733            13   0         3325            0             40   \n",
       "29301  39  176634            12   0            0            0             40   \n",
       "29302  40   74949            10   1            0            0             40   \n",
       "29303  48  165484            10   1            0            0             65   \n",
       "\n",
       "       Workclass_Federal-gov  Workclass_Local-gov  Workclass_Never-worked  \\\n",
       "0                        0.0                  0.0                     0.0   \n",
       "1                        0.0                  0.0                     0.0   \n",
       "2                        0.0                  0.0                     0.0   \n",
       "3                        0.0                  0.0                     0.0   \n",
       "4                        0.0                  0.0                     0.0   \n",
       "...                      ...                  ...                     ...   \n",
       "29299                    0.0                  0.0                     0.0   \n",
       "29300                    0.0                  0.0                     0.0   \n",
       "29301                    0.0                  0.0                     0.0   \n",
       "29302                    0.0                  1.0                     0.0   \n",
       "29303                    0.0                  0.0                     0.0   \n",
       "\n",
       "       ...  Native-country_Portugal  Native-country_Puerto-Rico  \\\n",
       "0      ...                      0.0                         0.0   \n",
       "1      ...                      0.0                         0.0   \n",
       "2      ...                      0.0                         0.0   \n",
       "3      ...                      0.0                         0.0   \n",
       "4      ...                      0.0                         0.0   \n",
       "...    ...                      ...                         ...   \n",
       "29299  ...                      0.0                         0.0   \n",
       "29300  ...                      0.0                         0.0   \n",
       "29301  ...                      0.0                         0.0   \n",
       "29302  ...                      0.0                         0.0   \n",
       "29303  ...                      0.0                         0.0   \n",
       "\n",
       "       Native-country_Scotland  Native-country_South  Native-country_Taiwan  \\\n",
       "0                          0.0                   0.0                    0.0   \n",
       "1                          0.0                   0.0                    0.0   \n",
       "2                          0.0                   0.0                    0.0   \n",
       "3                          0.0                   0.0                    0.0   \n",
       "4                          0.0                   0.0                    0.0   \n",
       "...                        ...                   ...                    ...   \n",
       "29299                      0.0                   0.0                    0.0   \n",
       "29300                      0.0                   0.0                    0.0   \n",
       "29301                      0.0                   0.0                    0.0   \n",
       "29302                      0.0                   0.0                    0.0   \n",
       "29303                      0.0                   0.0                    0.0   \n",
       "\n",
       "       Native-country_Thailand  Native-country_Trinadad&Tobago  \\\n",
       "0                          0.0                             0.0   \n",
       "1                          0.0                             0.0   \n",
       "2                          0.0                             0.0   \n",
       "3                          0.0                             0.0   \n",
       "4                          0.0                             0.0   \n",
       "...                        ...                             ...   \n",
       "29299                      0.0                             0.0   \n",
       "29300                      0.0                             0.0   \n",
       "29301                      0.0                             0.0   \n",
       "29302                      0.0                             0.0   \n",
       "29303                      0.0                             0.0   \n",
       "\n",
       "       Native-country_United-States  Native-country_Vietnam  \\\n",
       "0                               1.0                     0.0   \n",
       "1                               1.0                     0.0   \n",
       "2                               1.0                     0.0   \n",
       "3                               1.0                     0.0   \n",
       "4                               0.0                     0.0   \n",
       "...                             ...                     ...   \n",
       "29299                           1.0                     0.0   \n",
       "29300                           1.0                     0.0   \n",
       "29301                           1.0                     0.0   \n",
       "29302                           1.0                     0.0   \n",
       "29303                           1.0                     0.0   \n",
       "\n",
       "       Native-country_Yugoslavia  \n",
       "0                            0.0  \n",
       "1                            0.0  \n",
       "2                            0.0  \n",
       "3                            0.0  \n",
       "4                            0.0  \n",
       "...                          ...  \n",
       "29299                        0.0  \n",
       "29300                        0.0  \n",
       "29301                        0.0  \n",
       "29302                        0.0  \n",
       "29303                        0.0  \n",
       "\n",
       "[29304 rows x 104 columns]"
      ]
     },
     "execution_count": 15,
     "metadata": {},
     "output_type": "execute_result"
    },
    {
     "data": {
      "application/javascript": [
       "\n",
       "            setTimeout(function() {\n",
       "                var nbb_cell_id = 15;\n",
       "                var nbb_unformatted_code = \"# After finishing encoding categorical variables,\\n# we make the final dataframe by concatenating it with the imputed dataframe\\nimputed_train_X_df = imputed_train_X_df.drop(onehot_categ, axis=1)\\nfinal_df_train_X_df = pd.concat([imputed_train_X_df, encoded_df], axis=1)\\nfinal_df_train_X_df\";\n",
       "                var nbb_formatted_code = \"# After finishing encoding categorical variables,\\n# we make the final dataframe by concatenating it with the imputed dataframe\\nimputed_train_X_df = imputed_train_X_df.drop(onehot_categ, axis=1)\\nfinal_df_train_X_df = pd.concat([imputed_train_X_df, encoded_df], axis=1)\\nfinal_df_train_X_df\";\n",
       "                var nbb_cells = Jupyter.notebook.get_cells();\n",
       "                for (var i = 0; i < nbb_cells.length; ++i) {\n",
       "                    if (nbb_cells[i].input_prompt_number == nbb_cell_id) {\n",
       "                        if (nbb_cells[i].get_text() == nbb_unformatted_code) {\n",
       "                             nbb_cells[i].set_text(nbb_formatted_code);\n",
       "                        }\n",
       "                        break;\n",
       "                    }\n",
       "                }\n",
       "            }, 500);\n",
       "            "
      ],
      "text/plain": [
       "<IPython.core.display.Javascript object>"
      ]
     },
     "metadata": {},
     "output_type": "display_data"
    }
   ],
   "source": [
    "# After finishing encoding categorical variables,\n",
    "# we make the final dataframe by concatenating it with the imputed dataframe\n",
    "imputed_train_X_df = imputed_train_X_df.drop(onehot_categ, axis=1)\n",
    "final_df_train_X_df = pd.concat([imputed_train_X_df, encoded_df], axis=1)\n",
    "final_df_train_X_df"
   ]
  },
  {
   "cell_type": "code",
   "execution_count": 16,
   "metadata": {},
   "outputs": [
    {
     "data": {
      "text/plain": [
       "(29304, 104)"
      ]
     },
     "execution_count": 16,
     "metadata": {},
     "output_type": "execute_result"
    },
    {
     "data": {
      "application/javascript": [
       "\n",
       "            setTimeout(function() {\n",
       "                var nbb_cell_id = 16;\n",
       "                var nbb_unformatted_code = \"final_df_train_X_df.shape\";\n",
       "                var nbb_formatted_code = \"final_df_train_X_df.shape\";\n",
       "                var nbb_cells = Jupyter.notebook.get_cells();\n",
       "                for (var i = 0; i < nbb_cells.length; ++i) {\n",
       "                    if (nbb_cells[i].input_prompt_number == nbb_cell_id) {\n",
       "                        if (nbb_cells[i].get_text() == nbb_unformatted_code) {\n",
       "                             nbb_cells[i].set_text(nbb_formatted_code);\n",
       "                        }\n",
       "                        break;\n",
       "                    }\n",
       "                }\n",
       "            }, 500);\n",
       "            "
      ],
      "text/plain": [
       "<IPython.core.display.Javascript object>"
      ]
     },
     "metadata": {},
     "output_type": "display_data"
    }
   ],
   "source": [
    "final_df_train_X_df.shape"
   ]
  },
  {
   "cell_type": "markdown",
   "metadata": {},
   "source": [
    "### Another (recommended) Method: Using `Pipeline` and `ColmnTransformer` to streamline the workflow.\n",
    "\n",
    "We will do the same operation (with addition of scaling) but with much more succinct way.   \n",
    "We use `Pipeline` and `ColmnTransformer`.  \n",
    "`ColmnTransformer` is needed to apply different preprocessing steps to selected columns."
   ]
  },
  {
   "cell_type": "code",
   "execution_count": 17,
   "metadata": {},
   "outputs": [
    {
     "data": {
      "application/javascript": [
       "\n",
       "            setTimeout(function() {\n",
       "                var nbb_cell_id = 17;\n",
       "                var nbb_unformatted_code = \"from sklearn.pipeline import Pipeline\\nfrom sklearn.compose import ColumnTransformer\\nfrom sklearn.impute import SimpleImputer, KNNImputer\\nfrom sklearn.preprocessing import StandardScaler\";\n",
       "                var nbb_formatted_code = \"from sklearn.pipeline import Pipeline\\nfrom sklearn.compose import ColumnTransformer\\nfrom sklearn.impute import SimpleImputer, KNNImputer\\nfrom sklearn.preprocessing import StandardScaler\";\n",
       "                var nbb_cells = Jupyter.notebook.get_cells();\n",
       "                for (var i = 0; i < nbb_cells.length; ++i) {\n",
       "                    if (nbb_cells[i].input_prompt_number == nbb_cell_id) {\n",
       "                        if (nbb_cells[i].get_text() == nbb_unformatted_code) {\n",
       "                             nbb_cells[i].set_text(nbb_formatted_code);\n",
       "                        }\n",
       "                        break;\n",
       "                    }\n",
       "                }\n",
       "            }, 500);\n",
       "            "
      ],
      "text/plain": [
       "<IPython.core.display.Javascript object>"
      ]
     },
     "metadata": {},
     "output_type": "display_data"
    }
   ],
   "source": [
    "from sklearn.pipeline import Pipeline\n",
    "from sklearn.compose import ColumnTransformer\n",
    "from sklearn.impute import SimpleImputer, KNNImputer\n",
    "from sklearn.preprocessing import StandardScaler"
   ]
  },
  {
   "cell_type": "code",
   "execution_count": 18,
   "metadata": {},
   "outputs": [
    {
     "name": "stdout",
     "output_type": "stream",
     "text": [
      "Splitting from index 29304\n"
     ]
    },
    {
     "data": {
      "application/javascript": [
       "\n",
       "            setTimeout(function() {\n",
       "                var nbb_cell_id = 18;\n",
       "                var nbb_unformatted_code = \"# Reload the dataset\\ndf = pd.read_csv(\\\"../../data/clean_adult.csv\\\")\\ntrain_X, train_y, test_X, test_y = train_test_split_df(df)\";\n",
       "                var nbb_formatted_code = \"# Reload the dataset\\ndf = pd.read_csv(\\\"../../data/clean_adult.csv\\\")\\ntrain_X, train_y, test_X, test_y = train_test_split_df(df)\";\n",
       "                var nbb_cells = Jupyter.notebook.get_cells();\n",
       "                for (var i = 0; i < nbb_cells.length; ++i) {\n",
       "                    if (nbb_cells[i].input_prompt_number == nbb_cell_id) {\n",
       "                        if (nbb_cells[i].get_text() == nbb_unformatted_code) {\n",
       "                             nbb_cells[i].set_text(nbb_formatted_code);\n",
       "                        }\n",
       "                        break;\n",
       "                    }\n",
       "                }\n",
       "            }, 500);\n",
       "            "
      ],
      "text/plain": [
       "<IPython.core.display.Javascript object>"
      ]
     },
     "metadata": {},
     "output_type": "display_data"
    }
   ],
   "source": [
    "# Reload the dataset\n",
    "df = pd.read_csv(\"../../data/clean_adult.csv\")\n",
    "train_X, train_y, test_X, test_y = train_test_split_df(df)"
   ]
  },
  {
   "cell_type": "code",
   "execution_count": 19,
   "metadata": {},
   "outputs": [
    {
     "data": {
      "application/javascript": [
       "\n",
       "            setTimeout(function() {\n",
       "                var nbb_cell_id = 19;\n",
       "                var nbb_unformatted_code = \"non_categorical_features = [\\n    \\\"Age\\\",\\n    \\\"Fnlwgt\\\",\\n    \\\"Education-num\\\",\\n    \\\"Capital-gain\\\",\\n    \\\"Capital-loss\\\",\\n    \\\"Hours-per-week\\\",\\n]\\ncategorical_ohe_features = [\\n    \\\"Workclass\\\",\\n    \\\"Marital-status\\\",\\n    \\\"Occupation\\\",\\n    \\\"Relationship\\\",\\n    \\\"Race\\\",\\n    \\\"Native-country\\\",\\n]\\ncategorical_le_features = [\\\"Sex\\\", \\\"Education\\\"]\";\n",
       "                var nbb_formatted_code = \"non_categorical_features = [\\n    \\\"Age\\\",\\n    \\\"Fnlwgt\\\",\\n    \\\"Education-num\\\",\\n    \\\"Capital-gain\\\",\\n    \\\"Capital-loss\\\",\\n    \\\"Hours-per-week\\\",\\n]\\ncategorical_ohe_features = [\\n    \\\"Workclass\\\",\\n    \\\"Marital-status\\\",\\n    \\\"Occupation\\\",\\n    \\\"Relationship\\\",\\n    \\\"Race\\\",\\n    \\\"Native-country\\\",\\n]\\ncategorical_le_features = [\\\"Sex\\\", \\\"Education\\\"]\";\n",
       "                var nbb_cells = Jupyter.notebook.get_cells();\n",
       "                for (var i = 0; i < nbb_cells.length; ++i) {\n",
       "                    if (nbb_cells[i].input_prompt_number == nbb_cell_id) {\n",
       "                        if (nbb_cells[i].get_text() == nbb_unformatted_code) {\n",
       "                             nbb_cells[i].set_text(nbb_formatted_code);\n",
       "                        }\n",
       "                        break;\n",
       "                    }\n",
       "                }\n",
       "            }, 500);\n",
       "            "
      ],
      "text/plain": [
       "<IPython.core.display.Javascript object>"
      ]
     },
     "metadata": {},
     "output_type": "display_data"
    }
   ],
   "source": [
    "non_categorical_features = [\n",
    "    \"Age\",\n",
    "    \"Fnlwgt\",\n",
    "    \"Education-num\",\n",
    "    \"Capital-gain\",\n",
    "    \"Capital-loss\",\n",
    "    \"Hours-per-week\",\n",
    "]\n",
    "categorical_ohe_features = [\n",
    "    \"Workclass\",\n",
    "    \"Marital-status\",\n",
    "    \"Occupation\",\n",
    "    \"Relationship\",\n",
    "    \"Race\",\n",
    "    \"Native-country\",\n",
    "]\n",
    "categorical_le_features = [\"Sex\", \"Education\"]"
   ]
  },
  {
   "cell_type": "code",
   "execution_count": 20,
   "metadata": {},
   "outputs": [
    {
     "data": {
      "application/javascript": [
       "\n",
       "            setTimeout(function() {\n",
       "                var nbb_cell_id = 20;\n",
       "                var nbb_unformatted_code = \"# For features like 'Age' and 'Fnlwgt'\\nnon_categorical_transformer = Pipeline(\\n    # For KNNImputer, see the side note below\\n    # We can add scaling for non-categorical features\\n    steps=[(\\\"KNNImputer\\\", KNNImputer(n_neighbors=5)), (\\\"scaling\\\", StandardScaler())]\\n)\\n\\n# For features like 'Workclass' and 'Education'\\ncategorical_ohe_transformer = Pipeline(\\n    steps=[\\n        (\\\"SimpleImputer\\\", SimpleImputer(strategy=\\\"most_frequent\\\")),\\n        (\\\"OHE\\\", OneHotEncoder(sparse_output=False, handle_unknown=\\\"ignore\\\")),\\n        # no need to scale\\n    ]\\n)\\n\\n# For features like 'Sex'\\ncategorical_le_transformer = Pipeline(\\n    steps=[\\n        (\\\"ModeImputer\\\", SimpleImputer(strategy=\\\"most_frequent\\\")),\\n        # Here, we change to the OrdinalEncoder as LabelEncoder is used for the target variable\\n        # Try changing the OrdinalEncoder to LabelEncoder to see what error you see,\\n        # and check the documentation of LabelEncoder\\n        (\\\"LE\\\", OrdinalEncoder()),\\n        # In the case of adult dataset, no need to scale for just 'Sex' variable,\\n        # but other label/ordinal encoded categorical features can be ordinal -> scaling\\n        (\\\"scaling\\\", StandardScaler()),\\n    ]\\n)\";\n",
       "                var nbb_formatted_code = \"# For features like 'Age' and 'Fnlwgt'\\nnon_categorical_transformer = Pipeline(\\n    # For KNNImputer, see the side note below\\n    # We can add scaling for non-categorical features\\n    steps=[(\\\"KNNImputer\\\", KNNImputer(n_neighbors=5)), (\\\"scaling\\\", StandardScaler())]\\n)\\n\\n# For features like 'Workclass' and 'Education'\\ncategorical_ohe_transformer = Pipeline(\\n    steps=[\\n        (\\\"SimpleImputer\\\", SimpleImputer(strategy=\\\"most_frequent\\\")),\\n        (\\\"OHE\\\", OneHotEncoder(sparse_output=False, handle_unknown=\\\"ignore\\\")),\\n        # no need to scale\\n    ]\\n)\\n\\n# For features like 'Sex'\\ncategorical_le_transformer = Pipeline(\\n    steps=[\\n        (\\\"ModeImputer\\\", SimpleImputer(strategy=\\\"most_frequent\\\")),\\n        # Here, we change to the OrdinalEncoder as LabelEncoder is used for the target variable\\n        # Try changing the OrdinalEncoder to LabelEncoder to see what error you see,\\n        # and check the documentation of LabelEncoder\\n        (\\\"LE\\\", OrdinalEncoder()),\\n        # In the case of adult dataset, no need to scale for just 'Sex' variable,\\n        # but other label/ordinal encoded categorical features can be ordinal -> scaling\\n        (\\\"scaling\\\", StandardScaler()),\\n    ]\\n)\";\n",
       "                var nbb_cells = Jupyter.notebook.get_cells();\n",
       "                for (var i = 0; i < nbb_cells.length; ++i) {\n",
       "                    if (nbb_cells[i].input_prompt_number == nbb_cell_id) {\n",
       "                        if (nbb_cells[i].get_text() == nbb_unformatted_code) {\n",
       "                             nbb_cells[i].set_text(nbb_formatted_code);\n",
       "                        }\n",
       "                        break;\n",
       "                    }\n",
       "                }\n",
       "            }, 500);\n",
       "            "
      ],
      "text/plain": [
       "<IPython.core.display.Javascript object>"
      ]
     },
     "metadata": {},
     "output_type": "display_data"
    }
   ],
   "source": [
    "# For features like 'Age' and 'Fnlwgt'\n",
    "non_categorical_transformer = Pipeline(\n",
    "    # For KNNImputer, see the side note below\n",
    "    # We can add scaling for non-categorical features\n",
    "    steps=[(\"KNNImputer\", KNNImputer(n_neighbors=5)), (\"scaling\", StandardScaler())]\n",
    ")\n",
    "\n",
    "# For features like 'Workclass' and 'Education'\n",
    "categorical_ohe_transformer = Pipeline(\n",
    "    steps=[\n",
    "        (\"SimpleImputer\", SimpleImputer(strategy=\"most_frequent\")),\n",
    "        (\"OHE\", OneHotEncoder(sparse_output=False, handle_unknown=\"ignore\")),\n",
    "        # no need to scale\n",
    "    ]\n",
    ")\n",
    "\n",
    "# For features like 'Sex'\n",
    "categorical_le_transformer = Pipeline(\n",
    "    steps=[\n",
    "        (\"ModeImputer\", SimpleImputer(strategy=\"most_frequent\")),\n",
    "        # Here, we change to the OrdinalEncoder as LabelEncoder is used for the target variable\n",
    "        # Try changing the OrdinalEncoder to LabelEncoder to see what error you see,\n",
    "        # and check the documentation of LabelEncoder\n",
    "        (\"LE\", OrdinalEncoder()),\n",
    "        # In the case of adult dataset, no need to scale for just 'Sex' variable,\n",
    "        # but other label/ordinal encoded categorical features can be ordinal -> scaling\n",
    "        (\"scaling\", StandardScaler()),\n",
    "    ]\n",
    ")"
   ]
  },
  {
   "cell_type": "code",
   "execution_count": 21,
   "metadata": {},
   "outputs": [
    {
     "data": {
      "application/javascript": [
       "\n",
       "            setTimeout(function() {\n",
       "                var nbb_cell_id = 21;\n",
       "                var nbb_unformatted_code = \"ct = ColumnTransformer(\\n    transformers=[\\n        (\\\"non-categorical\\\", non_categorical_transformer, non_categorical_features),\\n        (\\\"categorical-ohe\\\", categorical_ohe_transformer, categorical_ohe_features),\\n        (\\\"categorical-le\\\", categorical_le_transformer, categorical_le_features),\\n    ]\\n)\";\n",
       "                var nbb_formatted_code = \"ct = ColumnTransformer(\\n    transformers=[\\n        (\\\"non-categorical\\\", non_categorical_transformer, non_categorical_features),\\n        (\\\"categorical-ohe\\\", categorical_ohe_transformer, categorical_ohe_features),\\n        (\\\"categorical-le\\\", categorical_le_transformer, categorical_le_features),\\n    ]\\n)\";\n",
       "                var nbb_cells = Jupyter.notebook.get_cells();\n",
       "                for (var i = 0; i < nbb_cells.length; ++i) {\n",
       "                    if (nbb_cells[i].input_prompt_number == nbb_cell_id) {\n",
       "                        if (nbb_cells[i].get_text() == nbb_unformatted_code) {\n",
       "                             nbb_cells[i].set_text(nbb_formatted_code);\n",
       "                        }\n",
       "                        break;\n",
       "                    }\n",
       "                }\n",
       "            }, 500);\n",
       "            "
      ],
      "text/plain": [
       "<IPython.core.display.Javascript object>"
      ]
     },
     "metadata": {},
     "output_type": "display_data"
    }
   ],
   "source": [
    "ct = ColumnTransformer(\n",
    "    transformers=[\n",
    "        (\"non-categorical\", non_categorical_transformer, non_categorical_features),\n",
    "        (\"categorical-ohe\", categorical_ohe_transformer, categorical_ohe_features),\n",
    "        (\"categorical-le\", categorical_le_transformer, categorical_le_features),\n",
    "    ]\n",
    ")"
   ]
  },
  {
   "cell_type": "code",
   "execution_count": 22,
   "metadata": {},
   "outputs": [
    {
     "data": {
      "application/javascript": [
       "\n",
       "            setTimeout(function() {\n",
       "                var nbb_cell_id = 22;\n",
       "                var nbb_unformatted_code = \"transformed_train_X = ct.fit_transform(train_X, train_y)\\ntransformed_test_X = ct.transform(test_X)\";\n",
       "                var nbb_formatted_code = \"transformed_train_X = ct.fit_transform(train_X, train_y)\\ntransformed_test_X = ct.transform(test_X)\";\n",
       "                var nbb_cells = Jupyter.notebook.get_cells();\n",
       "                for (var i = 0; i < nbb_cells.length; ++i) {\n",
       "                    if (nbb_cells[i].input_prompt_number == nbb_cell_id) {\n",
       "                        if (nbb_cells[i].get_text() == nbb_unformatted_code) {\n",
       "                             nbb_cells[i].set_text(nbb_formatted_code);\n",
       "                        }\n",
       "                        break;\n",
       "                    }\n",
       "                }\n",
       "            }, 500);\n",
       "            "
      ],
      "text/plain": [
       "<IPython.core.display.Javascript object>"
      ]
     },
     "metadata": {},
     "output_type": "display_data"
    }
   ],
   "source": [
    "transformed_train_X = ct.fit_transform(train_X, train_y)\n",
    "transformed_test_X = ct.transform(test_X)"
   ]
  },
  {
   "cell_type": "code",
   "execution_count": 23,
   "metadata": {},
   "outputs": [
    {
     "data": {
      "text/plain": [
       "((29304, 89), (29304,), (3257, 89), (3257,))"
      ]
     },
     "execution_count": 23,
     "metadata": {},
     "output_type": "execute_result"
    },
    {
     "data": {
      "application/javascript": [
       "\n",
       "            setTimeout(function() {\n",
       "                var nbb_cell_id = 23;\n",
       "                var nbb_unformatted_code = \"transformed_train_X.shape, train_y.shape, transformed_test_X.shape, test_y.shape\";\n",
       "                var nbb_formatted_code = \"transformed_train_X.shape, train_y.shape, transformed_test_X.shape, test_y.shape\";\n",
       "                var nbb_cells = Jupyter.notebook.get_cells();\n",
       "                for (var i = 0; i < nbb_cells.length; ++i) {\n",
       "                    if (nbb_cells[i].input_prompt_number == nbb_cell_id) {\n",
       "                        if (nbb_cells[i].get_text() == nbb_unformatted_code) {\n",
       "                             nbb_cells[i].set_text(nbb_formatted_code);\n",
       "                        }\n",
       "                        break;\n",
       "                    }\n",
       "                }\n",
       "            }, 500);\n",
       "            "
      ],
      "text/plain": [
       "<IPython.core.display.Javascript object>"
      ]
     },
     "metadata": {},
     "output_type": "display_data"
    }
   ],
   "source": [
    "transformed_train_X.shape, train_y.shape, transformed_test_X.shape, test_y.shape"
   ]
  },
  {
   "cell_type": "markdown",
   "metadata": {},
   "source": [
    "### Side Note: Data Imputation with KNN\n",
    "For the adult dataset, missing data present only in categorical values, so imputing strategy that makes floating point may not make sense.\n",
    "However, for continuous values, you can use various imputation strategies, such as taking simple mean or mean value from K nearest neighbors (KNN).\n",
    "If you use `sklearn.imput.KNNImputer`, each sample’s missing values are imputed using the `mean` value from `n_neighbors` nearest neighbors found in the training set.\n",
    "If you want to use `mode` value from neighbors (for categorical data imputation) you need to implement the imputer by yourself.\n",
    "\n",
    "- `sklearn-pandas` package (https://pypi.org/project/sklearn-pandas/1.5.0/) provides `CategoricalImputer` class, which is suitable for such processing\n",
    "\n",
    "Here, we use iris dataset to show how to use KNNImputer for continuous values"
   ]
  },
  {
   "cell_type": "code",
   "execution_count": 24,
   "metadata": {},
   "outputs": [
    {
     "data": {
      "application/javascript": [
       "\n",
       "            setTimeout(function() {\n",
       "                var nbb_cell_id = 24;\n",
       "                var nbb_unformatted_code = \"from sklearn.datasets import load_iris\\nfrom sklearn.impute import KNNImputer\";\n",
       "                var nbb_formatted_code = \"from sklearn.datasets import load_iris\\nfrom sklearn.impute import KNNImputer\";\n",
       "                var nbb_cells = Jupyter.notebook.get_cells();\n",
       "                for (var i = 0; i < nbb_cells.length; ++i) {\n",
       "                    if (nbb_cells[i].input_prompt_number == nbb_cell_id) {\n",
       "                        if (nbb_cells[i].get_text() == nbb_unformatted_code) {\n",
       "                             nbb_cells[i].set_text(nbb_formatted_code);\n",
       "                        }\n",
       "                        break;\n",
       "                    }\n",
       "                }\n",
       "            }, 500);\n",
       "            "
      ],
      "text/plain": [
       "<IPython.core.display.Javascript object>"
      ]
     },
     "metadata": {},
     "output_type": "display_data"
    }
   ],
   "source": [
    "from sklearn.datasets import load_iris\n",
    "from sklearn.impute import KNNImputer"
   ]
  },
  {
   "cell_type": "code",
   "execution_count": 25,
   "metadata": {},
   "outputs": [
    {
     "data": {
      "application/javascript": [
       "\n",
       "            setTimeout(function() {\n",
       "                var nbb_cell_id = 25;\n",
       "                var nbb_unformatted_code = \"iris = load_iris()\\niris_df = pd.DataFrame(iris.data, columns=iris.feature_names)\";\n",
       "                var nbb_formatted_code = \"iris = load_iris()\\niris_df = pd.DataFrame(iris.data, columns=iris.feature_names)\";\n",
       "                var nbb_cells = Jupyter.notebook.get_cells();\n",
       "                for (var i = 0; i < nbb_cells.length; ++i) {\n",
       "                    if (nbb_cells[i].input_prompt_number == nbb_cell_id) {\n",
       "                        if (nbb_cells[i].get_text() == nbb_unformatted_code) {\n",
       "                             nbb_cells[i].set_text(nbb_formatted_code);\n",
       "                        }\n",
       "                        break;\n",
       "                    }\n",
       "                }\n",
       "            }, 500);\n",
       "            "
      ],
      "text/plain": [
       "<IPython.core.display.Javascript object>"
      ]
     },
     "metadata": {},
     "output_type": "display_data"
    }
   ],
   "source": [
    "iris = load_iris()\n",
    "iris_df = pd.DataFrame(iris.data, columns=iris.feature_names)"
   ]
  },
  {
   "cell_type": "code",
   "execution_count": 26,
   "metadata": {},
   "outputs": [
    {
     "data": {
      "text/plain": [
       "sepal length (cm)    10\n",
       "sepal width (cm)      9\n",
       "petal length (cm)    11\n",
       "petal width (cm)     13\n",
       "dtype: int64"
      ]
     },
     "execution_count": 26,
     "metadata": {},
     "output_type": "execute_result"
    },
    {
     "data": {
      "application/javascript": [
       "\n",
       "            setTimeout(function() {\n",
       "                var nbb_cell_id = 26;\n",
       "                var nbb_unformatted_code = \"# Applying a random mask to make missing data\\nmask = np.random.choice([True, False], size=iris_df.shape[0] * iris_df.shape[1])\\nmask[:500] = True\\nnp.random.shuffle(mask)\\nmask = np.reshape(mask, iris_df.shape)\\niris_df = iris_df.mask(~mask)\\n\\niris_df.isnull().sum()\";\n",
       "                var nbb_formatted_code = \"# Applying a random mask to make missing data\\nmask = np.random.choice([True, False], size=iris_df.shape[0] * iris_df.shape[1])\\nmask[:500] = True\\nnp.random.shuffle(mask)\\nmask = np.reshape(mask, iris_df.shape)\\niris_df = iris_df.mask(~mask)\\n\\niris_df.isnull().sum()\";\n",
       "                var nbb_cells = Jupyter.notebook.get_cells();\n",
       "                for (var i = 0; i < nbb_cells.length; ++i) {\n",
       "                    if (nbb_cells[i].input_prompt_number == nbb_cell_id) {\n",
       "                        if (nbb_cells[i].get_text() == nbb_unformatted_code) {\n",
       "                             nbb_cells[i].set_text(nbb_formatted_code);\n",
       "                        }\n",
       "                        break;\n",
       "                    }\n",
       "                }\n",
       "            }, 500);\n",
       "            "
      ],
      "text/plain": [
       "<IPython.core.display.Javascript object>"
      ]
     },
     "metadata": {},
     "output_type": "display_data"
    }
   ],
   "source": [
    "# Applying a random mask to make missing data\n",
    "mask = np.random.choice([True, False], size=iris_df.shape[0] * iris_df.shape[1])\n",
    "mask[:500] = True\n",
    "np.random.shuffle(mask)\n",
    "mask = np.reshape(mask, iris_df.shape)\n",
    "iris_df = iris_df.mask(~mask)\n",
    "\n",
    "iris_df.isnull().sum()"
   ]
  },
  {
   "cell_type": "code",
   "execution_count": 27,
   "metadata": {},
   "outputs": [
    {
     "data": {
      "application/javascript": [
       "\n",
       "            setTimeout(function() {\n",
       "                var nbb_cell_id = 27;\n",
       "                var nbb_unformatted_code = \"train_X, test_X = iris_df[:100], iris_df[100:]\";\n",
       "                var nbb_formatted_code = \"train_X, test_X = iris_df[:100], iris_df[100:]\";\n",
       "                var nbb_cells = Jupyter.notebook.get_cells();\n",
       "                for (var i = 0; i < nbb_cells.length; ++i) {\n",
       "                    if (nbb_cells[i].input_prompt_number == nbb_cell_id) {\n",
       "                        if (nbb_cells[i].get_text() == nbb_unformatted_code) {\n",
       "                             nbb_cells[i].set_text(nbb_formatted_code);\n",
       "                        }\n",
       "                        break;\n",
       "                    }\n",
       "                }\n",
       "            }, 500);\n",
       "            "
      ],
      "text/plain": [
       "<IPython.core.display.Javascript object>"
      ]
     },
     "metadata": {},
     "output_type": "display_data"
    }
   ],
   "source": [
    "train_X, test_X = iris_df[:100], iris_df[100:]"
   ]
  },
  {
   "cell_type": "code",
   "execution_count": 28,
   "metadata": {},
   "outputs": [
    {
     "data": {
      "application/javascript": [
       "\n",
       "            setTimeout(function() {\n",
       "                var nbb_cell_id = 28;\n",
       "                var nbb_unformatted_code = \"# It is important to impute the train and test set separately (not fitting KNN to test set) to avoid data leak.\\nimputer = KNNImputer(n_neighbors=5)\\nimputed_train_X = imputer.fit_transform(train_X)\\nimputed_test_X = imputer.transform(test_X)\";\n",
       "                var nbb_formatted_code = \"# It is important to impute the train and test set separately (not fitting KNN to test set) to avoid data leak.\\nimputer = KNNImputer(n_neighbors=5)\\nimputed_train_X = imputer.fit_transform(train_X)\\nimputed_test_X = imputer.transform(test_X)\";\n",
       "                var nbb_cells = Jupyter.notebook.get_cells();\n",
       "                for (var i = 0; i < nbb_cells.length; ++i) {\n",
       "                    if (nbb_cells[i].input_prompt_number == nbb_cell_id) {\n",
       "                        if (nbb_cells[i].get_text() == nbb_unformatted_code) {\n",
       "                             nbb_cells[i].set_text(nbb_formatted_code);\n",
       "                        }\n",
       "                        break;\n",
       "                    }\n",
       "                }\n",
       "            }, 500);\n",
       "            "
      ],
      "text/plain": [
       "<IPython.core.display.Javascript object>"
      ]
     },
     "metadata": {},
     "output_type": "display_data"
    }
   ],
   "source": [
    "# It is important to impute the train and test set separately (not fitting KNN to test set) to avoid data leak.\n",
    "imputer = KNNImputer(n_neighbors=5)\n",
    "imputed_train_X = imputer.fit_transform(train_X)\n",
    "imputed_test_X = imputer.transform(test_X)"
   ]
  },
  {
   "cell_type": "code",
   "execution_count": 29,
   "metadata": {},
   "outputs": [
    {
     "data": {
      "application/javascript": [
       "\n",
       "            setTimeout(function() {\n",
       "                var nbb_cell_id = 29;\n",
       "                var nbb_unformatted_code = \"del iris, iris_df, mask, train_X, test_X, imputer, imputed_train_X, imputed_test_X\";\n",
       "                var nbb_formatted_code = \"del iris, iris_df, mask, train_X, test_X, imputer, imputed_train_X, imputed_test_X\";\n",
       "                var nbb_cells = Jupyter.notebook.get_cells();\n",
       "                for (var i = 0; i < nbb_cells.length; ++i) {\n",
       "                    if (nbb_cells[i].input_prompt_number == nbb_cell_id) {\n",
       "                        if (nbb_cells[i].get_text() == nbb_unformatted_code) {\n",
       "                             nbb_cells[i].set_text(nbb_formatted_code);\n",
       "                        }\n",
       "                        break;\n",
       "                    }\n",
       "                }\n",
       "            }, 500);\n",
       "            "
      ],
      "text/plain": [
       "<IPython.core.display.Javascript object>"
      ]
     },
     "metadata": {},
     "output_type": "display_data"
    }
   ],
   "source": [
    "del iris, iris_df, mask, train_X, test_X, imputer, imputed_train_X, imputed_test_X"
   ]
  },
  {
   "cell_type": "code",
   "execution_count": null,
   "metadata": {},
   "outputs": [],
   "source": []
  },
  {
   "cell_type": "markdown",
   "metadata": {},
   "source": [
    "### Task 3: Create different preprocessing strategies of your own\n",
    "Create different versions of X (X1 and X2) and y using different strategies for data imputation.  \n",
    "Define different preprocessing strategies using the `Pipeline` and `ColmnTransformer` class"
   ]
  },
  {
   "cell_type": "code",
   "execution_count": 30,
   "metadata": {},
   "outputs": [
    {
     "data": {
      "application/javascript": [
       "\n",
       "            setTimeout(function() {\n",
       "                var nbb_cell_id = 30;\n",
       "                var nbb_unformatted_code = \"from sklearn.pipeline import Pipeline\\nfrom sklearn.compose import ColumnTransformer\";\n",
       "                var nbb_formatted_code = \"from sklearn.pipeline import Pipeline\\nfrom sklearn.compose import ColumnTransformer\";\n",
       "                var nbb_cells = Jupyter.notebook.get_cells();\n",
       "                for (var i = 0; i < nbb_cells.length; ++i) {\n",
       "                    if (nbb_cells[i].input_prompt_number == nbb_cell_id) {\n",
       "                        if (nbb_cells[i].get_text() == nbb_unformatted_code) {\n",
       "                             nbb_cells[i].set_text(nbb_formatted_code);\n",
       "                        }\n",
       "                        break;\n",
       "                    }\n",
       "                }\n",
       "            }, 500);\n",
       "            "
      ],
      "text/plain": [
       "<IPython.core.display.Javascript object>"
      ]
     },
     "metadata": {},
     "output_type": "display_data"
    }
   ],
   "source": [
    "from sklearn.pipeline import Pipeline\n",
    "from sklearn.compose import ColumnTransformer"
   ]
  },
  {
   "cell_type": "code",
   "execution_count": 31,
   "metadata": {},
   "outputs": [
    {
     "data": {
      "application/javascript": [
       "\n",
       "            setTimeout(function() {\n",
       "                var nbb_cell_id = 31;\n",
       "                var nbb_unformatted_code = \"# Your explorations here\";\n",
       "                var nbb_formatted_code = \"# Your explorations here\";\n",
       "                var nbb_cells = Jupyter.notebook.get_cells();\n",
       "                for (var i = 0; i < nbb_cells.length; ++i) {\n",
       "                    if (nbb_cells[i].input_prompt_number == nbb_cell_id) {\n",
       "                        if (nbb_cells[i].get_text() == nbb_unformatted_code) {\n",
       "                             nbb_cells[i].set_text(nbb_formatted_code);\n",
       "                        }\n",
       "                        break;\n",
       "                    }\n",
       "                }\n",
       "            }, 500);\n",
       "            "
      ],
      "text/plain": [
       "<IPython.core.display.Javascript object>"
      ]
     },
     "metadata": {},
     "output_type": "display_data"
    }
   ],
   "source": [
    "# Your explorations here"
   ]
  },
  {
   "cell_type": "code",
   "execution_count": null,
   "metadata": {},
   "outputs": [],
   "source": []
  },
  {
   "cell_type": "markdown",
   "metadata": {},
   "source": [
    "### Task 4: \n",
    "Train different models (KNN, SVM) to predict the y from the two versions of X (X1 and X2) with a fixed value of the regularization parameter. \n",
    "Centre and scale the data before training the models. Create tables or plots to show how accuracy varies for different imputation strategies or different models. "
   ]
  },
  {
   "cell_type": "markdown",
   "metadata": {},
   "source": [
    "### Task 4-1: Training KNN and SVM Models (with original preprocessing)"
   ]
  },
  {
   "cell_type": "code",
   "execution_count": 32,
   "metadata": {},
   "outputs": [
    {
     "data": {
      "application/javascript": [
       "\n",
       "            setTimeout(function() {\n",
       "                var nbb_cell_id = 32;\n",
       "                var nbb_unformatted_code = \"from sklearn.neighbors import KNeighborsClassifier\\nfrom sklearn import svm\\n\\nfrom sklearn.metrics import accuracy_score, confusion_matrix\\nfrom sklearn.metrics import classification_report\\nfrom sklearn.feature_selection import mutual_info_classif\";\n",
       "                var nbb_formatted_code = \"from sklearn.neighbors import KNeighborsClassifier\\nfrom sklearn import svm\\n\\nfrom sklearn.metrics import accuracy_score, confusion_matrix\\nfrom sklearn.metrics import classification_report\\nfrom sklearn.feature_selection import mutual_info_classif\";\n",
       "                var nbb_cells = Jupyter.notebook.get_cells();\n",
       "                for (var i = 0; i < nbb_cells.length; ++i) {\n",
       "                    if (nbb_cells[i].input_prompt_number == nbb_cell_id) {\n",
       "                        if (nbb_cells[i].get_text() == nbb_unformatted_code) {\n",
       "                             nbb_cells[i].set_text(nbb_formatted_code);\n",
       "                        }\n",
       "                        break;\n",
       "                    }\n",
       "                }\n",
       "            }, 500);\n",
       "            "
      ],
      "text/plain": [
       "<IPython.core.display.Javascript object>"
      ]
     },
     "metadata": {},
     "output_type": "display_data"
    }
   ],
   "source": [
    "from sklearn.neighbors import KNeighborsClassifier\n",
    "from sklearn import svm\n",
    "\n",
    "from sklearn.metrics import accuracy_score, confusion_matrix\n",
    "from sklearn.metrics import classification_report\n",
    "from sklearn.feature_selection import mutual_info_classif"
   ]
  },
  {
   "cell_type": "code",
   "execution_count": 33,
   "metadata": {},
   "outputs": [
    {
     "data": {
      "text/plain": [
       "0.8277556033159349"
      ]
     },
     "execution_count": 33,
     "metadata": {},
     "output_type": "execute_result"
    },
    {
     "data": {
      "application/javascript": [
       "\n",
       "            setTimeout(function() {\n",
       "                var nbb_cell_id = 33;\n",
       "                var nbb_unformatted_code = \"model_knn = KNeighborsClassifier()\\nmodel_knn.fit(transformed_train_X, train_y)\\n\\n# Predict Output\\ny_hat_knn = model_knn.predict(transformed_test_X)\\naccuracy_score(y_hat_knn, test_y)\";\n",
       "                var nbb_formatted_code = \"model_knn = KNeighborsClassifier()\\nmodel_knn.fit(transformed_train_X, train_y)\\n\\n# Predict Output\\ny_hat_knn = model_knn.predict(transformed_test_X)\\naccuracy_score(y_hat_knn, test_y)\";\n",
       "                var nbb_cells = Jupyter.notebook.get_cells();\n",
       "                for (var i = 0; i < nbb_cells.length; ++i) {\n",
       "                    if (nbb_cells[i].input_prompt_number == nbb_cell_id) {\n",
       "                        if (nbb_cells[i].get_text() == nbb_unformatted_code) {\n",
       "                             nbb_cells[i].set_text(nbb_formatted_code);\n",
       "                        }\n",
       "                        break;\n",
       "                    }\n",
       "                }\n",
       "            }, 500);\n",
       "            "
      ],
      "text/plain": [
       "<IPython.core.display.Javascript object>"
      ]
     },
     "metadata": {},
     "output_type": "display_data"
    }
   ],
   "source": [
    "model_knn = KNeighborsClassifier()\n",
    "model_knn.fit(transformed_train_X, train_y)\n",
    "\n",
    "# Predict Output\n",
    "y_hat_knn = model_knn.predict(transformed_test_X)\n",
    "accuracy_score(y_hat_knn, test_y)"
   ]
  },
  {
   "cell_type": "code",
   "execution_count": 34,
   "metadata": {},
   "outputs": [
    {
     "data": {
      "text/plain": [
       "0.8440282468529321"
      ]
     },
     "execution_count": 34,
     "metadata": {},
     "output_type": "execute_result"
    },
    {
     "data": {
      "application/javascript": [
       "\n",
       "            setTimeout(function() {\n",
       "                var nbb_cell_id = 34;\n",
       "                var nbb_unformatted_code = \"model_svm = svm.SVC(kernel=\\\"linear\\\")  # Linear Kernel\\nmodel_svm.fit(transformed_train_X, train_y)\\n\\n# Predict Output\\ny_hat_svm = model_svm.predict(transformed_test_X)\\naccuracy_score(y_hat_svm, test_y)\";\n",
       "                var nbb_formatted_code = \"model_svm = svm.SVC(kernel=\\\"linear\\\")  # Linear Kernel\\nmodel_svm.fit(transformed_train_X, train_y)\\n\\n# Predict Output\\ny_hat_svm = model_svm.predict(transformed_test_X)\\naccuracy_score(y_hat_svm, test_y)\";\n",
       "                var nbb_cells = Jupyter.notebook.get_cells();\n",
       "                for (var i = 0; i < nbb_cells.length; ++i) {\n",
       "                    if (nbb_cells[i].input_prompt_number == nbb_cell_id) {\n",
       "                        if (nbb_cells[i].get_text() == nbb_unformatted_code) {\n",
       "                             nbb_cells[i].set_text(nbb_formatted_code);\n",
       "                        }\n",
       "                        break;\n",
       "                    }\n",
       "                }\n",
       "            }, 500);\n",
       "            "
      ],
      "text/plain": [
       "<IPython.core.display.Javascript object>"
      ]
     },
     "metadata": {},
     "output_type": "display_data"
    }
   ],
   "source": [
    "model_svm = svm.SVC(kernel=\"linear\")  # Linear Kernel\n",
    "model_svm.fit(transformed_train_X, train_y)\n",
    "\n",
    "# Predict Output\n",
    "y_hat_svm = model_svm.predict(transformed_test_X)\n",
    "accuracy_score(y_hat_svm, test_y)"
   ]
  },
  {
   "cell_type": "code",
   "execution_count": null,
   "metadata": {},
   "outputs": [],
   "source": []
  },
  {
   "cell_type": "markdown",
   "metadata": {},
   "source": [
    "### Task 4-2: Investigation\n",
    "Create tables or plots to show how accuracy varies for different imputation strategies or different models. \n",
    "- What is the impact of the imputation strategy on the accuracy? \n",
    "- What is the impact of the model on the accuracy? "
   ]
  },
  {
   "cell_type": "code",
   "execution_count": null,
   "metadata": {},
   "outputs": [],
   "source": []
  },
  {
   "cell_type": "markdown",
   "metadata": {},
   "source": [
    "## Part 2: Cross Validation (CV)"
   ]
  },
  {
   "cell_type": "markdown",
   "metadata": {},
   "source": [
    "`scikit-learn` provides a nice visulaisation of various cross validation methods.  \n",
    "This notebook focuses on the three main CV techniques: `KFold`, `StratifiedKFold`, `GroupKFold`, and `StratifiedGroupKFold` for optimizing models' hyper-parameters and to understand how different strategies might affect the models' performance. \n",
    "\n",
    "Visit: https://scikit-learn.org/stable/auto_examples/model_selection/plot_cv_indices.html#visualizing-cross-validation-behavior-in-scikit-learn\n",
    "\n",
    "![kfold](https://scikit-learn.org/stable/_images/sphx_glr_plot_cv_indices_006.png)\n",
    "![stra-kfold](https://scikit-learn.org/stable/_images/sphx_glr_plot_cv_indices_003.png)\n",
    "![group-kfold](https://scikit-learn.org/stable/_images/sphx_glr_plot_cv_indices_004.png)\n",
    "![stra-group-kfold](https://scikit-learn.org/stable/_images/sphx_glr_plot_cv_indices_010.png)"
   ]
  },
  {
   "cell_type": "code",
   "execution_count": 38,
   "metadata": {},
   "outputs": [
    {
     "data": {
      "application/javascript": [
       "\n",
       "            setTimeout(function() {\n",
       "                var nbb_cell_id = 38;\n",
       "                var nbb_unformatted_code = \"from sklearn.model_selection import (\\n    KFold,\\n    StratifiedKFold,\\n    GroupKFold,\\n    StratifiedGroupKFold,\\n    GridSearchCV\\n)\";\n",
       "                var nbb_formatted_code = \"from sklearn.model_selection import (\\n    KFold,\\n    StratifiedKFold,\\n    GroupKFold,\\n    StratifiedGroupKFold,\\n    GridSearchCV,\\n)\";\n",
       "                var nbb_cells = Jupyter.notebook.get_cells();\n",
       "                for (var i = 0; i < nbb_cells.length; ++i) {\n",
       "                    if (nbb_cells[i].input_prompt_number == nbb_cell_id) {\n",
       "                        if (nbb_cells[i].get_text() == nbb_unformatted_code) {\n",
       "                             nbb_cells[i].set_text(nbb_formatted_code);\n",
       "                        }\n",
       "                        break;\n",
       "                    }\n",
       "                }\n",
       "            }, 500);\n",
       "            "
      ],
      "text/plain": [
       "<IPython.core.display.Javascript object>"
      ]
     },
     "metadata": {},
     "output_type": "display_data"
    }
   ],
   "source": [
    "from sklearn.model_selection import (\n",
    "    KFold,\n",
    "    StratifiedKFold,\n",
    "    GroupKFold,\n",
    "    StratifiedGroupKFold,\n",
    "    GridSearchCV,\n",
    ")"
   ]
  },
  {
   "cell_type": "markdown",
   "metadata": {},
   "source": [
    "### Task 5\n",
    "Now do CV to optimize the models hyperparameter using different k (2, 5, 10, 20) for the k-fold CV to predict the y from the two versions of X (X1 and X2) and plot the model performance (mean accuracy and SD) for the different k. Centre and scale the data before training the models. \n",
    "\n",
    "Note: remember that the pre-processing steps, including data centering and scaling should be embedded in the CV. \n",
    "\n",
    "- How does the accuracy vary as the number of folds increase? "
   ]
  },
  {
   "cell_type": "code",
   "execution_count": 39,
   "metadata": {},
   "outputs": [
    {
     "name": "stdout",
     "output_type": "stream",
     "text": [
      "Fitting 2 folds for each of 9 candidates, totalling 18 fits\n",
      "Fitting 2 folds for each of 9 candidates, totalling 18 fits\n",
      "Fitting 2 folds for each of 9 candidates, totalling 18 fits\n",
      "Fitting 4 folds for each of 9 candidates, totalling 36 fits\n",
      "Fitting 4 folds for each of 9 candidates, totalling 36 fits\n",
      "Fitting 4 folds for each of 9 candidates, totalling 36 fits\n",
      "Fitting 4 folds for each of 9 candidates, totalling 36 fits\n",
      "Fitting 4 folds for each of 9 candidates, totalling 36 fits\n",
      "Fitting 9 folds for each of 9 candidates, totalling 81 fits\n",
      "Fitting 9 folds for each of 9 candidates, totalling 81 fits\n",
      "Fitting 9 folds for each of 9 candidates, totalling 81 fits\n",
      "Fitting 9 folds for each of 9 candidates, totalling 81 fits\n",
      "Fitting 9 folds for each of 9 candidates, totalling 81 fits\n",
      "Fitting 9 folds for each of 9 candidates, totalling 81 fits\n",
      "Fitting 9 folds for each of 9 candidates, totalling 81 fits\n",
      "Fitting 9 folds for each of 9 candidates, totalling 81 fits\n",
      "Fitting 9 folds for each of 9 candidates, totalling 81 fits\n",
      "Fitting 9 folds for each of 9 candidates, totalling 81 fits\n",
      "Fitting 19 folds for each of 9 candidates, totalling 171 fits\n",
      "Fitting 19 folds for each of 9 candidates, totalling 171 fits\n",
      "Fitting 19 folds for each of 9 candidates, totalling 171 fits\n",
      "Fitting 19 folds for each of 9 candidates, totalling 171 fits\n",
      "Fitting 19 folds for each of 9 candidates, totalling 171 fits\n",
      "Fitting 19 folds for each of 9 candidates, totalling 171 fits\n",
      "Fitting 19 folds for each of 9 candidates, totalling 171 fits\n",
      "Fitting 19 folds for each of 9 candidates, totalling 171 fits\n",
      "Fitting 19 folds for each of 9 candidates, totalling 171 fits\n",
      "Fitting 19 folds for each of 9 candidates, totalling 171 fits\n",
      "Fitting 19 folds for each of 9 candidates, totalling 171 fits\n",
      "Fitting 19 folds for each of 9 candidates, totalling 171 fits\n",
      "Fitting 19 folds for each of 9 candidates, totalling 171 fits\n",
      "Fitting 19 folds for each of 9 candidates, totalling 171 fits\n",
      "Fitting 19 folds for each of 9 candidates, totalling 171 fits\n",
      "Fitting 19 folds for each of 9 candidates, totalling 171 fits\n",
      "Fitting 19 folds for each of 9 candidates, totalling 171 fits\n",
      "Fitting 19 folds for each of 9 candidates, totalling 171 fits\n",
      "Fitting 19 folds for each of 9 candidates, totalling 171 fits\n",
      "Fitting 19 folds for each of 9 candidates, totalling 171 fits\n"
     ]
    },
    {
     "data": {
      "application/javascript": [
       "\n",
       "            setTimeout(function() {\n",
       "                var nbb_cell_id = 39;\n",
       "                var nbb_unformatted_code = \"result = []\\nfor n in [3, 5, 10, 20]:\\n    kf = KFold(n_splits=n)\\n    tem = []\\n    for i, (train_index, test_index) in enumerate(kf.split(transformed_train_X)):\\n        model_knn = KNeighborsClassifier()\\n        k_range = np.arange(1, 10)\\n        # define grid search\\n        grid = dict(n_neighbors=k_range)\\n        cv = KFold(n_splits=n - 1)\\n        grid_search = GridSearchCV(\\n            estimator=model_knn,\\n            param_grid=grid,\\n            pre_dispatch=6,\\n            n_jobs=6,\\n            cv=cv,\\n            scoring=\\\"accuracy\\\",\\n            error_score=0,\\n            verbose=1,\\n        )\\n        grid_result = grid_search.fit(\\n            transformed_train_X[train_index], train_y[train_index]\\n        )\\n        model_knn = KNeighborsClassifier(\\n            n_neighbors=grid_result.best_params_[\\\"n_neighbors\\\"]\\n        )\\n        model_knn.fit(transformed_train_X[train_index], train_y[train_index])\\n\\n        y_hat_knn = model_knn.predict(transformed_train_X[test_index])\\n        tem.append(accuracy_score(y_hat_knn, train_y[test_index]))\\n    result.append(tem)\";\n",
       "                var nbb_formatted_code = \"result = []\\nfor n in [3, 5, 10, 20]:\\n    kf = KFold(n_splits=n)\\n    tem = []\\n    for i, (train_index, test_index) in enumerate(kf.split(transformed_train_X)):\\n        model_knn = KNeighborsClassifier()\\n        k_range = np.arange(1, 10)\\n        # define grid search\\n        grid = dict(n_neighbors=k_range)\\n        cv = KFold(n_splits=n - 1)\\n        grid_search = GridSearchCV(\\n            estimator=model_knn,\\n            param_grid=grid,\\n            pre_dispatch=6,\\n            n_jobs=6,\\n            cv=cv,\\n            scoring=\\\"accuracy\\\",\\n            error_score=0,\\n            verbose=1,\\n        )\\n        grid_result = grid_search.fit(\\n            transformed_train_X[train_index], train_y[train_index]\\n        )\\n        model_knn = KNeighborsClassifier(\\n            n_neighbors=grid_result.best_params_[\\\"n_neighbors\\\"]\\n        )\\n        model_knn.fit(transformed_train_X[train_index], train_y[train_index])\\n\\n        y_hat_knn = model_knn.predict(transformed_train_X[test_index])\\n        tem.append(accuracy_score(y_hat_knn, train_y[test_index]))\\n    result.append(tem)\";\n",
       "                var nbb_cells = Jupyter.notebook.get_cells();\n",
       "                for (var i = 0; i < nbb_cells.length; ++i) {\n",
       "                    if (nbb_cells[i].input_prompt_number == nbb_cell_id) {\n",
       "                        if (nbb_cells[i].get_text() == nbb_unformatted_code) {\n",
       "                             nbb_cells[i].set_text(nbb_formatted_code);\n",
       "                        }\n",
       "                        break;\n",
       "                    }\n",
       "                }\n",
       "            }, 500);\n",
       "            "
      ],
      "text/plain": [
       "<IPython.core.display.Javascript object>"
      ]
     },
     "metadata": {},
     "output_type": "display_data"
    }
   ],
   "source": [
    "# KNN\n",
    "\n",
    "result = []\n",
    "for n in [3, 5, 10, 20]:\n",
    "    kf = KFold(n_splits=n)\n",
    "    tem = []\n",
    "    for i, (train_index, test_index) in enumerate(kf.split(transformed_train_X)):\n",
    "        model_knn = KNeighborsClassifier()\n",
    "        k_range = np.arange(1, 10)\n",
    "        # define grid search\n",
    "        grid = dict(n_neighbors=k_range)\n",
    "        cv = KFold(n_splits=n - 1)\n",
    "        grid_search = GridSearchCV(\n",
    "            estimator=model_knn,\n",
    "            param_grid=grid,\n",
    "            pre_dispatch=6,\n",
    "            n_jobs=6,\n",
    "            cv=cv,\n",
    "            scoring=\"accuracy\",\n",
    "            error_score=0,\n",
    "            verbose=1,\n",
    "        )\n",
    "        grid_result = grid_search.fit(\n",
    "            transformed_train_X[train_index], train_y[train_index]\n",
    "        )\n",
    "        model_knn = KNeighborsClassifier(\n",
    "            n_neighbors=grid_result.best_params_[\"n_neighbors\"]\n",
    "        )\n",
    "        model_knn.fit(transformed_train_X[train_index], train_y[train_index])\n",
    "\n",
    "        y_hat_knn = model_knn.predict(transformed_train_X[test_index])\n",
    "        tem.append(accuracy_score(y_hat_knn, train_y[test_index]))\n",
    "    result.append(tem)"
   ]
  },
  {
   "cell_type": "code",
   "execution_count": 40,
   "metadata": {},
   "outputs": [
    {
     "data": {
      "text/plain": [
       "[[0.8392710892710893, 0.8341523341523341, 0.8374283374283374],\n",
       " [0.8334755161235284,\n",
       "  0.8372291417846783,\n",
       "  0.838423477222317,\n",
       "  0.8469544446340215,\n",
       "  0.840443686006826],\n",
       " [0.8242920504947117,\n",
       "  0.8375980893892869,\n",
       "  0.8437393381098601,\n",
       "  0.8259979529170931,\n",
       "  0.8440273037542663,\n",
       "  0.8409556313993174,\n",
       "  0.8402730375426621,\n",
       "  0.8535836177474403,\n",
       "  0.8361774744027304,\n",
       "  0.8416382252559726],\n",
       " [0.8212824010914052,\n",
       "  0.8281036834924966,\n",
       "  0.8315143246930423,\n",
       "  0.844474761255116,\n",
       "  0.8382252559726963,\n",
       "  0.8477815699658703,\n",
       "  0.8389078498293515,\n",
       "  0.8197952218430035,\n",
       "  0.8505119453924914,\n",
       "  0.8361774744027304,\n",
       "  0.8382252559726963,\n",
       "  0.8477815699658703,\n",
       "  0.8368600682593856,\n",
       "  0.8505119453924914,\n",
       "  0.851877133105802,\n",
       "  0.8552901023890785,\n",
       "  0.8511945392491468,\n",
       "  0.8232081911262799,\n",
       "  0.8559726962457338,\n",
       "  0.8368600682593856]]"
      ]
     },
     "execution_count": 40,
     "metadata": {},
     "output_type": "execute_result"
    },
    {
     "data": {
      "application/javascript": [
       "\n",
       "            setTimeout(function() {\n",
       "                var nbb_cell_id = 40;\n",
       "                var nbb_unformatted_code = \"result\";\n",
       "                var nbb_formatted_code = \"result\";\n",
       "                var nbb_cells = Jupyter.notebook.get_cells();\n",
       "                for (var i = 0; i < nbb_cells.length; ++i) {\n",
       "                    if (nbb_cells[i].input_prompt_number == nbb_cell_id) {\n",
       "                        if (nbb_cells[i].get_text() == nbb_unformatted_code) {\n",
       "                             nbb_cells[i].set_text(nbb_formatted_code);\n",
       "                        }\n",
       "                        break;\n",
       "                    }\n",
       "                }\n",
       "            }, 500);\n",
       "            "
      ],
      "text/plain": [
       "<IPython.core.display.Javascript object>"
      ]
     },
     "metadata": {},
     "output_type": "display_data"
    }
   ],
   "source": [
    "result"
   ]
  },
  {
   "cell_type": "markdown",
   "metadata": {},
   "source": [
    "### Task 6\n",
    "Repeat task 5 using stratified CV with k=5. Compute the accuracy of the models implemented in task 5 (with k=5) and check if the model with stratified CV performs better across the different folds. Centre and scale the data before training the models. Create tables or plots to show these results."
   ]
  },
  {
   "cell_type": "code",
   "execution_count": 41,
   "metadata": {},
   "outputs": [
    {
     "name": "stdout",
     "output_type": "stream",
     "text": [
      "Fitting 4 folds for each of 9 candidates, totalling 36 fits\n",
      "Fitting 4 folds for each of 9 candidates, totalling 36 fits\n",
      "Fitting 4 folds for each of 9 candidates, totalling 36 fits\n",
      "Fitting 4 folds for each of 9 candidates, totalling 36 fits\n",
      "Fitting 4 folds for each of 9 candidates, totalling 36 fits\n"
     ]
    },
    {
     "data": {
      "application/javascript": [
       "\n",
       "            setTimeout(function() {\n",
       "                var nbb_cell_id = 41;\n",
       "                var nbb_unformatted_code = \"# KNN\\n\\nn = 5\\nkf = StratifiedKFold(n_splits=n)\\ntem = []\\nfor i, (train_index, test_index) in enumerate(kf.split(transformed_train_X, train_y)):\\n    model_knn = KNeighborsClassifier()\\n    k_range = np.arange(1, 10)\\n    # define grid search\\n    grid = dict(n_neighbors=k_range)\\n    cv = StratifiedKFold(n_splits=n - 1)\\n    grid_search = GridSearchCV(\\n        estimator=model_knn,\\n        param_grid=grid,\\n        n_jobs=2,\\n        cv=cv,\\n        scoring=\\\"accuracy\\\",\\n        error_score=0,\\n        verbose=1,\\n    )\\n    grid_result = grid_search.fit(\\n        transformed_train_X[train_index], train_y[train_index]\\n    )\\n    model_knn = KNeighborsClassifier(\\n        n_neighbors=grid_result.best_params_[\\\"n_neighbors\\\"]\\n    )\\n    model_knn.fit(transformed_train_X[train_index], train_y[train_index])\\n\\n    y_hat_knn = model_knn.predict(transformed_train_X[test_index])\\n    tem.append(accuracy_score(y_hat_knn, train_y[test_index]))\";\n",
       "                var nbb_formatted_code = \"# KNN\\n\\nn = 5\\nkf = StratifiedKFold(n_splits=n)\\ntem = []\\nfor i, (train_index, test_index) in enumerate(kf.split(transformed_train_X, train_y)):\\n    model_knn = KNeighborsClassifier()\\n    k_range = np.arange(1, 10)\\n    # define grid search\\n    grid = dict(n_neighbors=k_range)\\n    cv = StratifiedKFold(n_splits=n - 1)\\n    grid_search = GridSearchCV(\\n        estimator=model_knn,\\n        param_grid=grid,\\n        n_jobs=2,\\n        cv=cv,\\n        scoring=\\\"accuracy\\\",\\n        error_score=0,\\n        verbose=1,\\n    )\\n    grid_result = grid_search.fit(\\n        transformed_train_X[train_index], train_y[train_index]\\n    )\\n    model_knn = KNeighborsClassifier(\\n        n_neighbors=grid_result.best_params_[\\\"n_neighbors\\\"]\\n    )\\n    model_knn.fit(transformed_train_X[train_index], train_y[train_index])\\n\\n    y_hat_knn = model_knn.predict(transformed_train_X[test_index])\\n    tem.append(accuracy_score(y_hat_knn, train_y[test_index]))\";\n",
       "                var nbb_cells = Jupyter.notebook.get_cells();\n",
       "                for (var i = 0; i < nbb_cells.length; ++i) {\n",
       "                    if (nbb_cells[i].input_prompt_number == nbb_cell_id) {\n",
       "                        if (nbb_cells[i].get_text() == nbb_unformatted_code) {\n",
       "                             nbb_cells[i].set_text(nbb_formatted_code);\n",
       "                        }\n",
       "                        break;\n",
       "                    }\n",
       "                }\n",
       "            }, 500);\n",
       "            "
      ],
      "text/plain": [
       "<IPython.core.display.Javascript object>"
      ]
     },
     "metadata": {},
     "output_type": "display_data"
    }
   ],
   "source": [
    "# KNN\n",
    "\n",
    "n = 5\n",
    "kf = StratifiedKFold(n_splits=n)\n",
    "tem = []\n",
    "for i, (train_index, test_index) in enumerate(kf.split(transformed_train_X, train_y)):\n",
    "    model_knn = KNeighborsClassifier()\n",
    "    k_range = np.arange(1, 10)\n",
    "    # define grid search\n",
    "    grid = dict(n_neighbors=k_range)\n",
    "    cv = StratifiedKFold(n_splits=n - 1)\n",
    "    grid_search = GridSearchCV(\n",
    "        estimator=model_knn,\n",
    "        param_grid=grid,\n",
    "        n_jobs=2,\n",
    "        cv=cv,\n",
    "        scoring=\"accuracy\",\n",
    "        error_score=0,\n",
    "        verbose=1,\n",
    "    )\n",
    "    grid_result = grid_search.fit(\n",
    "        transformed_train_X[train_index], train_y[train_index]\n",
    "    )\n",
    "    model_knn = KNeighborsClassifier(\n",
    "        n_neighbors=grid_result.best_params_[\"n_neighbors\"]\n",
    "    )\n",
    "    model_knn.fit(transformed_train_X[train_index], train_y[train_index])\n",
    "\n",
    "    y_hat_knn = model_knn.predict(transformed_train_X[test_index])\n",
    "    tem.append(accuracy_score(y_hat_knn, train_y[test_index]))"
   ]
  },
  {
   "cell_type": "code",
   "execution_count": 42,
   "metadata": {},
   "outputs": [
    {
     "data": {
      "text/plain": [
       "[0.8338167548199966,\n",
       " 0.8365466643917421,\n",
       " 0.8375703804811465,\n",
       " 0.8467838252857874,\n",
       " 0.8431740614334471]"
      ]
     },
     "execution_count": 42,
     "metadata": {},
     "output_type": "execute_result"
    },
    {
     "data": {
      "application/javascript": [
       "\n",
       "            setTimeout(function() {\n",
       "                var nbb_cell_id = 42;\n",
       "                var nbb_unformatted_code = \"tem\";\n",
       "                var nbb_formatted_code = \"tem\";\n",
       "                var nbb_cells = Jupyter.notebook.get_cells();\n",
       "                for (var i = 0; i < nbb_cells.length; ++i) {\n",
       "                    if (nbb_cells[i].input_prompt_number == nbb_cell_id) {\n",
       "                        if (nbb_cells[i].get_text() == nbb_unformatted_code) {\n",
       "                             nbb_cells[i].set_text(nbb_formatted_code);\n",
       "                        }\n",
       "                        break;\n",
       "                    }\n",
       "                }\n",
       "            }, 500);\n",
       "            "
      ],
      "text/plain": [
       "<IPython.core.display.Javascript object>"
      ]
     },
     "metadata": {},
     "output_type": "display_data"
    }
   ],
   "source": [
    "tem"
   ]
  },
  {
   "cell_type": "markdown",
   "metadata": {},
   "source": [
    "### Task 7\n",
    "Repeat task 5 using stratified group CV considering 'Race' as a group with k=5.\n",
    "Compute the accuracy of the models implemented in task 5 (with k=5) and check if the model with stratified group CV performs better across the different races. \n",
    "Centre and scale the data before training the models. \n",
    "Create tables or plots to show these results. "
   ]
  },
  {
   "cell_type": "code",
   "execution_count": 43,
   "metadata": {},
   "outputs": [
    {
     "name": "stdout",
     "output_type": "stream",
     "text": [
      "Fitting 4 folds for each of 9 candidates, totalling 36 fits\n",
      "Fitting 4 folds for each of 9 candidates, totalling 36 fits\n",
      "Fitting 4 folds for each of 9 candidates, totalling 36 fits\n",
      "Fitting 4 folds for each of 9 candidates, totalling 36 fits\n",
      "Fitting 4 folds for each of 9 candidates, totalling 36 fits\n"
     ]
    },
    {
     "data": {
      "application/javascript": [
       "\n",
       "            setTimeout(function() {\n",
       "                var nbb_cell_id = 43;\n",
       "                var nbb_unformatted_code = \"n = 5\\nkf = StratifiedGroupKFold(n_splits=n)\\ntem = []\\ngroup = train_X_df[\\\"Race\\\"]\\nfor i, (train_index, test_index) in enumerate(\\n    kf.split(transformed_train_X, train_y, group)\\n):\\n    model_knn = KNeighborsClassifier()\\n    k_range = np.arange(1, 10)\\n    # define grid search\\n    grid = dict(n_neighbors=k_range)\\n    tem_group = train_X_df[\\\"Race\\\"][train_index]\\n    cv = StratifiedGroupKFold(n_splits=n - 1)\\n    grid_search = GridSearchCV(\\n        estimator=model_knn,\\n        param_grid=grid,\\n        n_jobs=2,\\n        cv=cv,\\n        scoring=\\\"accuracy\\\",\\n        error_score=0,\\n        verbose=1,\\n    )\\n    grid_result = grid_search.fit(\\n        transformed_train_X[train_index], train_y[train_index], groups=tem_group\\n    )\\n    model_knn = KNeighborsClassifier(\\n        n_neighbors=grid_result.best_params_[\\\"n_neighbors\\\"]\\n    )\\n    model_knn.fit(transformed_train_X[train_index], train_y[train_index])\\n\\n    y_hat_knn = model_knn.predict(transformed_train_X[test_index])\\n    tem.append(accuracy_score(y_hat_knn, train_y[test_index]))\";\n",
       "                var nbb_formatted_code = \"n = 5\\nkf = StratifiedGroupKFold(n_splits=n)\\ntem = []\\ngroup = train_X_df[\\\"Race\\\"]\\nfor i, (train_index, test_index) in enumerate(\\n    kf.split(transformed_train_X, train_y, group)\\n):\\n    model_knn = KNeighborsClassifier()\\n    k_range = np.arange(1, 10)\\n    # define grid search\\n    grid = dict(n_neighbors=k_range)\\n    tem_group = train_X_df[\\\"Race\\\"][train_index]\\n    cv = StratifiedGroupKFold(n_splits=n - 1)\\n    grid_search = GridSearchCV(\\n        estimator=model_knn,\\n        param_grid=grid,\\n        n_jobs=2,\\n        cv=cv,\\n        scoring=\\\"accuracy\\\",\\n        error_score=0,\\n        verbose=1,\\n    )\\n    grid_result = grid_search.fit(\\n        transformed_train_X[train_index], train_y[train_index], groups=tem_group\\n    )\\n    model_knn = KNeighborsClassifier(\\n        n_neighbors=grid_result.best_params_[\\\"n_neighbors\\\"]\\n    )\\n    model_knn.fit(transformed_train_X[train_index], train_y[train_index])\\n\\n    y_hat_knn = model_knn.predict(transformed_train_X[test_index])\\n    tem.append(accuracy_score(y_hat_knn, train_y[test_index]))\";\n",
       "                var nbb_cells = Jupyter.notebook.get_cells();\n",
       "                for (var i = 0; i < nbb_cells.length; ++i) {\n",
       "                    if (nbb_cells[i].input_prompt_number == nbb_cell_id) {\n",
       "                        if (nbb_cells[i].get_text() == nbb_unformatted_code) {\n",
       "                             nbb_cells[i].set_text(nbb_formatted_code);\n",
       "                        }\n",
       "                        break;\n",
       "                    }\n",
       "                }\n",
       "            }, 500);\n",
       "            "
      ],
      "text/plain": [
       "<IPython.core.display.Javascript object>"
      ]
     },
     "metadata": {},
     "output_type": "display_data"
    }
   ],
   "source": [
    "n = 5\n",
    "kf = StratifiedGroupKFold(n_splits=n)\n",
    "tem = []\n",
    "group = train_X_df[\"Race\"]\n",
    "for i, (train_index, test_index) in enumerate(\n",
    "    kf.split(transformed_train_X, train_y, group)\n",
    "):\n",
    "    model_knn = KNeighborsClassifier()\n",
    "    k_range = np.arange(1, 10)\n",
    "    # define grid search\n",
    "    grid = dict(n_neighbors=k_range)\n",
    "    tem_group = train_X_df[\"Race\"][train_index]\n",
    "    cv = StratifiedGroupKFold(n_splits=n - 1)\n",
    "    grid_search = GridSearchCV(\n",
    "        estimator=model_knn,\n",
    "        param_grid=grid,\n",
    "        n_jobs=2,\n",
    "        cv=cv,\n",
    "        scoring=\"accuracy\",\n",
    "        error_score=0,\n",
    "        verbose=1,\n",
    "    )\n",
    "    grid_result = grid_search.fit(\n",
    "        transformed_train_X[train_index], train_y[train_index], groups=tem_group\n",
    "    )\n",
    "    model_knn = KNeighborsClassifier(\n",
    "        n_neighbors=grid_result.best_params_[\"n_neighbors\"]\n",
    "    )\n",
    "    model_knn.fit(transformed_train_X[train_index], train_y[train_index])\n",
    "\n",
    "    y_hat_knn = model_knn.predict(transformed_train_X[test_index])\n",
    "    tem.append(accuracy_score(y_hat_knn, train_y[test_index]))"
   ]
  },
  {
   "cell_type": "code",
   "execution_count": 44,
   "metadata": {},
   "outputs": [
    {
     "data": {
      "text/plain": [
       "[0.8188064232643605,\n",
       " 0.9006056287851799,\n",
       " 0.8261802575107297,\n",
       " 0.8939929328621908,\n",
       " 0.9193548387096774]"
      ]
     },
     "execution_count": 44,
     "metadata": {},
     "output_type": "execute_result"
    },
    {
     "data": {
      "application/javascript": [
       "\n",
       "            setTimeout(function() {\n",
       "                var nbb_cell_id = 44;\n",
       "                var nbb_unformatted_code = \"tem\";\n",
       "                var nbb_formatted_code = \"tem\";\n",
       "                var nbb_cells = Jupyter.notebook.get_cells();\n",
       "                for (var i = 0; i < nbb_cells.length; ++i) {\n",
       "                    if (nbb_cells[i].input_prompt_number == nbb_cell_id) {\n",
       "                        if (nbb_cells[i].get_text() == nbb_unformatted_code) {\n",
       "                             nbb_cells[i].set_text(nbb_formatted_code);\n",
       "                        }\n",
       "                        break;\n",
       "                    }\n",
       "                }\n",
       "            }, 500);\n",
       "            "
      ],
      "text/plain": [
       "<IPython.core.display.Javascript object>"
      ]
     },
     "metadata": {},
     "output_type": "display_data"
    }
   ],
   "source": [
    "tem"
   ]
  },
  {
   "cell_type": "code",
   "execution_count": null,
   "metadata": {},
   "outputs": [],
   "source": []
  }
 ],
 "metadata": {
  "kernelspec": {
   "display_name": "Python 3 (ipykernel)",
   "language": "python",
   "name": "python3"
  },
  "language_info": {
   "codemirror_mode": {
    "name": "ipython",
    "version": 3
   },
   "file_extension": ".py",
   "mimetype": "text/x-python",
   "name": "python",
   "nbconvert_exporter": "python",
   "pygments_lexer": "ipython3",
   "version": "3.8.13"
  },
  "vscode": {
   "interpreter": {
    "hash": "2abcae20776490ba31080de71a1a7d4bc1f223b71e3c8ef1f9c424fbab927df1"
   }
  }
 },
 "nbformat": 4,
 "nbformat_minor": 2
}
